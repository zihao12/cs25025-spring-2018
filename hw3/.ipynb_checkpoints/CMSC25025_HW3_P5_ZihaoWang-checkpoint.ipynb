{
 "cells": [
  {
   "cell_type": "code",
   "execution_count": 1,
   "metadata": {},
   "outputs": [],
   "source": [
    "import scipy.io\n",
    "%matplotlib inline\n",
    "import matplotlib.pyplot as plt\n",
    "import random\n",
    "import pandas as pd\n",
    "import numpy as np\n",
    "import sklearn\n",
    "from numpy import linalg as LA\n",
    "from sklearn.preprocessing import normalize\n",
    "from sklearn.metrics import confusion_matrix\n",
    "import string\n",
    "import os\n",
    "import re\n",
    "import math\n",
    "import json\n",
    "import time"
   ]
  },
  {
   "cell_type": "code",
   "execution_count": 2,
   "metadata": {},
   "outputs": [],
   "source": [
    "#aa = pd.read_json('labeled.json', lines = True)\n",
    "beer_rv = pd.read_json('labeled.json', lines = True)"
   ]
  },
  {
   "cell_type": "markdown",
   "metadata": {},
   "source": [
    "# Data Inspection"
   ]
  },
  {
   "cell_type": "code",
   "execution_count": 3,
   "metadata": {},
   "outputs": [],
   "source": [
    "overll_mean = beer_rv.loc[:,\"overall\"].mean()\n",
    "overll_median = beer_rv.loc[:,\"overall\"].median()\n",
    "overll_sd = beer_rv.loc[:,\"overall\"].std()"
   ]
  },
  {
   "cell_type": "code",
   "execution_count": 4,
   "metadata": {},
   "outputs": [
    {
     "name": "stdout",
     "output_type": "stream",
     "text": [
      "overall mean: 13.198879641948754\n",
      "overall median: 14.0\n",
      "overall sd: 3.352351483317063\n"
     ]
    }
   ],
   "source": [
    "print(\"overall mean: \" + str(overll_mean))\n",
    "print(\"overall median: \" + str(overll_median))\n",
    "print(\"overall sd: \" + str(overll_sd))"
   ]
  },
  {
   "cell_type": "code",
   "execution_count": 5,
   "metadata": {},
   "outputs": [
    {
     "data": {
      "text/plain": [
       "<matplotlib.axes._subplots.AxesSubplot at 0x114f272b0>"
      ]
     },
     "execution_count": 5,
     "metadata": {},
     "output_type": "execute_result"
    },
    {
     "data": {
      "image/png": "[encoded data removed]",
      "text/plain": [
       "<matplotlib.figure.Figure at 0x110299cc0>"
      ]
     },
     "metadata": {},
     "output_type": "display_data"
    }
   ],
   "source": [
    "beer_rv.loc[:,'overall'].hist()"
   ]
  },
  {
   "cell_type": "markdown",
   "metadata": {},
   "source": [
    "Initial Inspection:<br>\n",
    "From overview of the overall data, we can see that the mean and median are  around 13 and 14. Standard Deviation of 3 indicates differences in rating. From the histgram we can also see there is heavy tail towards the 0 end, while the tail dies out quickly towards 20 end. \n"
   ]
  },
  {
   "cell_type": "markdown",
   "metadata": {},
   "source": [
    "##Part 2: Sentiment Analysis"
   ]
  },
  {
   "cell_type": "markdown",
   "metadata": {},
   "source": [
    "# Generating Features"
   ]
  },
  {
   "cell_type": "code",
   "execution_count": 6,
   "metadata": {},
   "outputs": [],
   "source": [
    "## download vocab\n",
    "with open('vocab_50.json') as f:\n",
    "    vocab = json.load(f)"
   ]
  },
  {
   "cell_type": "code",
   "execution_count": 7,
   "metadata": {},
   "outputs": [],
   "source": [
    "## parsing review\n",
    "def clean_and_split(s):\n",
    "             # encode to UTF-8, convert to lowercase and translate all hyphens and\n",
    "             # punctuation to whitespace\n",
    "             s = s.lower().replace('-',' ').translate(string.punctuation)\n",
    "             # replace \\r\\n\n",
    "             s = re.sub('(\\r\\n)+',' ',s)\n",
    "             # replace whitespace substrings with one whitespace and remove\n",
    "             # leading/trailing whitespaces\n",
    "             s = re.sub(' +',' ',s.strip())\n",
    "             return s.split(' ')"
   ]
  },
  {
   "cell_type": "code",
   "execution_count": 8,
   "metadata": {},
   "outputs": [
    {
     "name": "stdout",
     "output_type": "stream",
     "text": [
      "177.24632334709167\n"
     ]
    }
   ],
   "source": [
    "start = time.time()\n",
    "beer_rv['cln_review'] = beer_rv['review'].apply(clean_and_split)\n",
    "end = time.time()\n",
    "print(end-start)"
   ]
  },
  {
   "cell_type": "code",
   "execution_count": 9,
   "metadata": {},
   "outputs": [
    {
     "name": "stdout",
     "output_type": "stream",
     "text": [
      "0.03510880470275879\n"
     ]
    }
   ],
   "source": [
    "start = time.time()\n",
    "vocab_to_ind = {x:i for i,x in enumerate(vocab)}\n",
    "end = time.time()\n",
    "print(end -start)"
   ]
  },
  {
   "cell_type": "code",
   "execution_count": 10,
   "metadata": {},
   "outputs": [
    {
     "name": "stdout",
     "output_type": "stream",
     "text": [
      "71.83058190345764\n"
     ]
    }
   ],
   "source": [
    "## REFRENCE FROM Yihan Zhang\n",
    "#M = 50000\n",
    "reviews = pd.DataFrame(beer_rv[\"cln_review\"])\n",
    "start = time.time()\n",
    "\n",
    "row_ind = list()\n",
    "col_ind = list()\n",
    "for row in reviews.itertuples():\n",
    "    for word in set(row.cln_review):\n",
    "        if word in vocab_to_ind:\n",
    "            row_ind.append(row.Index)\n",
    "            col_ind.append(vocab_to_ind[word])\n",
    "end = time.time()\n",
    "print(end - start)"
   ]
  },
  {
   "cell_type": "code",
   "execution_count": 11,
   "metadata": {},
   "outputs": [],
   "source": [
    "from scipy.sparse import *\n",
    "from scipy import *"
   ]
  },
  {
   "cell_type": "code",
   "execution_count": 12,
   "metadata": {},
   "outputs": [],
   "source": [
    "features = csr_matrix((np.ones(len(row_ind)),(row_ind,col_ind)),\\\n",
    "                          shape=(len(beer_rv),len(vocab)),dtype = np.int8)"
   ]
  },
  {
   "cell_type": "code",
   "execution_count": 13,
   "metadata": {},
   "outputs": [],
   "source": [
    "## use 14 as cutoff point to classfiy overall review (1 if overal >= 14, 0 otherwise)\n",
    "bin_overall = beer_rv.loc[:,'overall'].apply(lambda x: 1 if x >= 14 else 0)"
   ]
  },
  {
   "cell_type": "code",
   "execution_count": 14,
   "metadata": {},
   "outputs": [
    {
     "name": "stderr",
     "output_type": "stream",
     "text": [
      "/anaconda3/lib/python3.6/site-packages/sklearn/model_selection/_split.py:2026: FutureWarning: From version 0.21, test_size will always complement train_size unless both are specified.\n",
      "  FutureWarning)\n"
     ]
    }
   ],
   "source": [
    "## splitting data data\n",
    "from sklearn.model_selection import train_test_split\n",
    "X_train,X_valtest,y_train,y_valtest = train_test_split(features,bin_overall,train_size=0.7, random_state = 12345)\n",
    "X_validation,X_test,y_validation,y_test \\\n",
    "= train_test_split(X_valtest,y_valtest,train_size = 0.5,random_state = 12345)"
   ]
  },
  {
   "cell_type": "code",
   "execution_count": 15,
   "metadata": {},
   "outputs": [],
   "source": [
    "myxtest = X_test[:5000,:]\n",
    "myytest = y_test[:5000]\n",
    "myxvalid = X_validation[:500,:]\n",
    "myyvalid = y_validation[:500]"
   ]
  },
  {
   "cell_type": "markdown",
   "metadata": {},
   "source": [
    "# Logistic Regression"
   ]
  },
  {
   "cell_type": "code",
   "execution_count": 16,
   "metadata": {},
   "outputs": [
    {
     "data": {
      "text/plain": [
       "LogisticRegression(C=1.0, class_weight=None, dual=False, fit_intercept=True,\n",
       "          intercept_scaling=1, max_iter=100, multi_class='ovr', n_jobs=1,\n",
       "          penalty='l2', random_state=0, solver='liblinear', tol=0.0001,\n",
       "          verbose=0, warm_start=False)"
      ]
     },
     "execution_count": 16,
     "metadata": {},
     "output_type": "execute_result"
    }
   ],
   "source": [
    "from sklearn.linear_model import LogisticRegression\n",
    "classifier = LogisticRegression(random_state=0)\n",
    "classifier.fit(myxtest,myytest)"
   ]
  },
  {
   "cell_type": "code",
   "execution_count": 17,
   "metadata": {},
   "outputs": [],
   "source": [
    "y_pred = classifier.predict(myxtest)"
   ]
  },
  {
   "cell_type": "code",
   "execution_count": 18,
   "metadata": {},
   "outputs": [
    {
     "data": {
      "text/plain": [
       "array([0, 1, 1, ..., 1, 0, 1])"
      ]
     },
     "execution_count": 18,
     "metadata": {},
     "output_type": "execute_result"
    }
   ],
   "source": [
    "y_pred"
   ]
  },
  {
   "cell_type": "code",
   "execution_count": 19,
   "metadata": {},
   "outputs": [],
   "source": [
    "## making confusion matrix\n",
    "from sklearn.metrics import confusion_matrix\n",
    "cm = confusion_matrix(myytest,y_pred)"
   ]
  },
  {
   "cell_type": "code",
   "execution_count": 20,
   "metadata": {},
   "outputs": [
    {
     "data": {
      "text/plain": [
       "array([[2101,  177],\n",
       "       [ 174, 2548]])"
      ]
     },
     "execution_count": 20,
     "metadata": {},
     "output_type": "execute_result"
    }
   ],
   "source": [
    "cm"
   ]
  },
  {
   "cell_type": "code",
   "execution_count": 21,
   "metadata": {},
   "outputs": [],
   "source": [
    "from sklearn.linear_model import LogisticRegression\n",
    "rgr = 1\n",
    "classifier = LogisticRegression(random_state=0, penalty='l2', C = rgr)\n",
    "classifier.fit(X_test,y_test)\n",
    "y_pred = classifier.predict(X_test)\n"
   ]
  },
  {
   "cell_type": "code",
   "execution_count": 22,
   "metadata": {},
   "outputs": [],
   "source": [
    "cm = confusion_matrix(y_test,y_pred)"
   ]
  },
  {
   "cell_type": "code",
   "execution_count": 23,
   "metadata": {},
   "outputs": [
    {
     "name": "stdout",
     "output_type": "stream",
     "text": [
      "error rate for C = 1 is 0.21168887232439476\n"
     ]
    }
   ],
   "source": [
    "print(\"error rate for C = \" + str(rgr) + \" is \" + str((cm[0,1]+cm[1,0])/cm.sum()))"
   ]
  },
  {
   "cell_type": "code",
   "execution_count": 24,
   "metadata": {},
   "outputs": [],
   "source": [
    "def lgrg_compare_regularization(X_test,y_test,X_validation,y_validation,rgrs):\n",
    "    from sklearn.linear_model import LogisticRegression\n",
    "    from sklearn.metrics import confusion_matrix\n",
    "    error_rates = []\n",
    "    times = []\n",
    "    for rgr in rgrs:\n",
    "        start = time.time()\n",
    "        classifier = LogisticRegression(random_state=0, penalty='l2', C = rgr)\n",
    "        classifier.fit(X_test,y_test)\n",
    "        y_pred = classifier.predict(X_validation)\n",
    "        end = time.time()\n",
    "        times.append(end-start)\n",
    "        cm = confusion_matrix(y_validation,y_pred)\n",
    "        error_rate = (cm[0,1]+cm[1,0])/cm.sum()\n",
    "        error_rates.append(error_rate)\n",
    "        #print(\"error rate for C = \" + str(rgr) + \" is \" + str(error_rate))\n",
    "    return error_rates,times"
   ]
  },
  {
   "cell_type": "code",
   "execution_count": 25,
   "metadata": {},
   "outputs": [],
   "source": [
    "er, ti = lgrg_compare_regularization(myxtest,myytest,myxvalid,myyvalid,[0.1,0.5,1,1.5,2.0])"
   ]
  },
  {
   "cell_type": "code",
   "execution_count": 35,
   "metadata": {},
   "outputs": [],
   "source": [
    "rgrs1 = [x for x in range(1,8)]"
   ]
  },
  {
   "cell_type": "code",
   "execution_count": 36,
   "metadata": {},
   "outputs": [],
   "source": [
    "rgrs2 = [0.1*x for x in range(1,8)]"
   ]
  },
  {
   "cell_type": "code",
   "execution_count": 37,
   "metadata": {},
   "outputs": [],
   "source": [
    "error_lg2, times_lg2 = \\\n",
    "lgrg_compare_regularization(X_test,y_test,X_validation,y_validation,rgrs2)"
   ]
  },
  {
   "cell_type": "code",
   "execution_count": 38,
   "metadata": {},
   "outputs": [],
   "source": [
    "error_lg1, times_lg1 = \\\n",
    "lgrg_compare_regularization(X_test,y_test,X_validation,y_validation,rgrs1)"
   ]
  },
  {
   "cell_type": "code",
   "execution_count": 39,
   "metadata": {},
   "outputs": [
    {
     "data": {
      "text/plain": [
       "<matplotlib.collections.PathCollection at 0x1bea2fcf28>"
      ]
     },
     "execution_count": 39,
     "metadata": {},
     "output_type": "execute_result"
    },
    {
     "data": {
      "image/png": "[encoded data removed]",
      "text/plain": [
       "<matplotlib.figure.Figure at 0x1bea323940>"
      ]
     },
     "metadata": {},
     "output_type": "display_data"
    }
   ],
   "source": [
    "plt.scatter(rgrs2,error_lg2)"
   ]
  },
  {
   "cell_type": "code",
   "execution_count": 40,
   "metadata": {},
   "outputs": [
    {
     "data": {
      "text/plain": [
       "<matplotlib.collections.PathCollection at 0x1bea36d978>"
      ]
     },
     "execution_count": 40,
     "metadata": {},
     "output_type": "execute_result"
    },
    {
     "data": {
      "image/png": "[encoded data removed]",
      "text/plain": [
       "<matplotlib.figure.Figure at 0x1bea313f60>"
      ]
     },
     "metadata": {},
     "output_type": "display_data"
    }
   ],
   "source": [
    "plt.scatter(rgrs2,times_lg2)"
   ]
  },
  {
   "cell_type": "code",
   "execution_count": 41,
   "metadata": {},
   "outputs": [
    {
     "data": {
      "text/plain": [
       "<matplotlib.collections.PathCollection at 0x1bea3cea90>"
      ]
     },
     "execution_count": 41,
     "metadata": {},
     "output_type": "execute_result"
    },
    {
     "data": {
      "image/png": "[encoded data removed]",
      "text/plain": [
       "<matplotlib.figure.Figure at 0x1bea386128>"
      ]
     },
     "metadata": {},
     "output_type": "display_data"
    }
   ],
   "source": [
    "plt.scatter(rgrs1,error_lg1)"
   ]
  },
  {
   "cell_type": "code",
   "execution_count": 42,
   "metadata": {},
   "outputs": [
    {
     "data": {
      "text/plain": [
       "<matplotlib.collections.PathCollection at 0x1bea5c8860>"
      ]
     },
     "execution_count": 42,
     "metadata": {},
     "output_type": "execute_result"
    },
    {
     "data": {
      "image/png": "[encoded data removed]",
      "text/plain": [
       "<matplotlib.figure.Figure at 0x1bea3e8320>"
      ]
     },
     "metadata": {},
     "output_type": "display_data"
    }
   ],
   "source": [
    "plt.scatter(rgrs1,times_lg1)"
   ]
  },
  {
   "cell_type": "markdown",
   "metadata": {},
   "source": [
    "Analysis of the effect of C in newton method for logistic regression:<br>\n",
    "From comparison of different regularization, we can see that LogisticRegression perfoms better and takes less time when C is smaller.\n",
    "The influence in error rate is modest, while its influence in time is significant.<br>\n",
    "The algorithm performs much better when C is smaller than 1 compared with they are smaller than 1, while within [0,1] the difference is not apparent. This might be because bigger C encourages ovefitting; yet C is below one, the danger of overfitting is not that great considering the number of samples compared with the dictionary size.<br> \n",
    "\n",
    "The algorithm uses significantly more time to run when C gets bigger. This  is because bigger C encourages the algorithm to find the classifier to spend more effort minimizing errors, and this process is very time consuming. \n"
   ]
  },
  {
   "cell_type": "code",
   "execution_count": 43,
   "metadata": {},
   "outputs": [
    {
     "data": {
      "text/plain": [
       "LinearSVC(C=1.0, class_weight=None, dual=True, fit_intercept=True,\n",
       "     intercept_scaling=1, loss='hinge', max_iter=1000, multi_class='ovr',\n",
       "     penalty='l2', random_state=0, tol=0.0001, verbose=0)"
      ]
     },
     "execution_count": 43,
     "metadata": {},
     "output_type": "execute_result"
    }
   ],
   "source": [
    "from sklearn.svm import LinearSVC\n",
    "classifier = LinearSVC(loss='hinge',random_state = 0)\n",
    "classifier.fit(X_test,y_test)"
   ]
  },
  {
   "cell_type": "code",
   "execution_count": 44,
   "metadata": {},
   "outputs": [
    {
     "name": "stdout",
     "output_type": "stream",
     "text": [
      "0.24315997769149916\n"
     ]
    }
   ],
   "source": [
    "y_pred_lsvm = classifier.predict(X_validation)\n",
    "from sklearn.metrics import confusion_matrix\n",
    "cm_lsvm = confusion_matrix(y_validation,y_pred_lsvm)\n",
    "error_rate_lsvm = (cm_lsvm[0,1]+cm_lsvm[1,0])/cm_lsvm.sum()\n",
    "print(error_rate_lsvm)"
   ]
  },
  {
   "cell_type": "code",
   "execution_count": 45,
   "metadata": {},
   "outputs": [],
   "source": [
    "def lsvc_compare_regularization(X_test,y_test,X_validation,y_validation,rgrs):\n",
    "    from sklearn.svm import LinearSVC \n",
    "    from sklearn.metrics import confusion_matrix\n",
    "    error_rates = []\n",
    "    times = []\n",
    "    for rgr in rgrs:\n",
    "        start = time.time()\n",
    "        classifier = LinearSVC(random_state=0, loss='hinge', C = rgr)\n",
    "        classifier.fit(X_test,y_test)\n",
    "        y_pred = classifier.predict(X_validation)\n",
    "        end = time.time()\n",
    "        times.append(end-start)\n",
    "        cm = confusion_matrix(y_validation,y_pred)\n",
    "        error_rate = (cm[0,1]+cm[1,0])/cm.sum()\n",
    "        error_rates.append(error_rate)\n",
    "        #print(\"error rate for C = \" + str(rgr) + \" is \" + str(error_rate))\n",
    "    return error_rates,times"
   ]
  },
  {
   "cell_type": "code",
   "execution_count": null,
   "metadata": {},
   "outputs": [],
   "source": [
    "er, ti = lsvc_compare_regularization(myxtest,myytest,myxvalid,myyvalid,[0.1,0.5,1,1.5,2.0])"
   ]
  },
  {
   "cell_type": "code",
   "execution_count": 46,
   "metadata": {},
   "outputs": [],
   "source": [
    "error_lsvc2, times_lsvc2 = \\\n",
    "lsvc_compare_regularization(X_test,y_test,X_validation,y_validation,rgrs2)\n",
    "error_lsvc1, times_lsvc1 = \\\n",
    "lsvc_compare_regularization(X_test,y_test,X_validation,y_validation,rgrs1)"
   ]
  },
  {
   "cell_type": "code",
   "execution_count": 47,
   "metadata": {},
   "outputs": [
    {
     "data": {
      "text/plain": [
       "<matplotlib.collections.PathCollection at 0x1bea6114a8>"
      ]
     },
     "execution_count": 47,
     "metadata": {},
     "output_type": "execute_result"
    },
    {
     "data": {
      "image/png": "[encoded data removed]",
      "text/plain": [
       "<matplotlib.figure.Figure at 0x1bea5cf400>"
      ]
     },
     "metadata": {},
     "output_type": "display_data"
    }
   ],
   "source": [
    "plt.scatter(rgrs2,error_lsvc2)"
   ]
  },
  {
   "cell_type": "code",
   "execution_count": 48,
   "metadata": {},
   "outputs": [
    {
     "data": {
      "text/plain": [
       "<matplotlib.collections.PathCollection at 0x1c0a839198>"
      ]
     },
     "execution_count": 48,
     "metadata": {},
     "output_type": "execute_result"
    },
    {
     "data": {
      "image/png": "[encoded data removed]",
      "text/plain": [
       "<matplotlib.figure.Figure at 0x1bea5f49b0>"
      ]
     },
     "metadata": {},
     "output_type": "display_data"
    }
   ],
   "source": [
    "plt.scatter(rgrs2,times_lsvc2)"
   ]
  },
  {
   "cell_type": "code",
   "execution_count": 49,
   "metadata": {},
   "outputs": [
    {
     "data": {
      "text/plain": [
       "<matplotlib.collections.PathCollection at 0x1c0a7ddd68>"
      ]
     },
     "execution_count": 49,
     "metadata": {},
     "output_type": "execute_result"
    },
    {
     "data": {
      "image/png": "[encoded data removed]",
      "text/plain": [
       "<matplotlib.figure.Figure at 0x1c0a7acef0>"
      ]
     },
     "metadata": {},
     "output_type": "display_data"
    }
   ],
   "source": [
    "plt.scatter(rgrs1,error_lsvc1)"
   ]
  },
  {
   "cell_type": "code",
   "execution_count": 50,
   "metadata": {},
   "outputs": [
    {
     "data": {
      "text/plain": [
       "<matplotlib.collections.PathCollection at 0x1c0a85c630>"
      ]
     },
     "execution_count": 50,
     "metadata": {},
     "output_type": "execute_result"
    },
    {
     "data": {
      "image/png": "[encoded data removed]",
      "text/plain": [
       "<matplotlib.figure.Figure at 0x1c0a8010f0>"
      ]
     },
     "metadata": {},
     "output_type": "display_data"
    }
   ],
   "source": [
    "plt.scatter(rgrs1,times_lsvc1)"
   ]
  },
  {
   "cell_type": "markdown",
   "metadata": {},
   "source": [
    "There is no significant differences between linear svm (with C = 1)and logistic regression. This is because, without expanding to higher dimension using kernel, SVM is similar to logistic regression. <br> \n",
    "\n",
    "The anlaysis of the effect of C on the algorithm is the same as previous one. "
   ]
  },
  {
   "cell_type": "markdown",
   "metadata": {},
   "source": [
    "# Stochastic Gradient Descent"
   ]
  },
  {
   "cell_type": "code",
   "execution_count": 51,
   "metadata": {},
   "outputs": [],
   "source": [
    "## shuffle the data and divide them into mini batches of size N\n",
    "def shuffle_into_minibatch(X_test,y_test,batch_size):\n",
    "    index = np.arange(y_test.shape[0])\n",
    "    random.seed(12345)\n",
    "    np.random.shuffle(index)\n",
    "    X_shf = X_test[index,:]\n",
    "    y_shf = y_test.iloc[index]\n",
    "    num_batch = int(X_test.shape[0]/batch_size)\n",
    "    \n",
    "    X_batches = []\n",
    "    y_batches = []\n",
    "    for i in range(num_batch):\n",
    "        X_batches.append(X_shf[i*batch_size:(i+1)*batch_size,:])\n",
    "        y_batches.append(y_shf[i*batch_size:(i+1)*batch_size])\n",
    "    \n",
    "    return X_batches,y_batches"
   ]
  },
  {
   "cell_type": "markdown",
   "metadata": {},
   "source": [
    "### formula behind SGD\n",
    "nabla_beta J = -1/m * (Y.*(1/H)+(1-Y).*(1/(H-1))).*g(Z).* (X1,X2,...Xn) + (alpha/m)* (beta1,beta2,...betan)\n",
    "g(Z) = exp(Z)/(1+exp(Z))^2\n",
    "The terms up to before Xj can be wrapped up into a vector u of size m "
   ]
  },
  {
   "cell_type": "code",
   "execution_count": 52,
   "metadata": {},
   "outputs": [],
   "source": [
    "## my lg SGD; \n",
    "## output should be beta (in R^{n}) and b in R, where n is X_test.shape[1]\n",
    "def my_lg_SGD_fit(X_test,y_test,batch_size = 500,alpha=0.0001,n_iter = 5):\n",
    "    start = time.time()\n",
    "    ## global parameters\n",
    "    m = batch_size ## number of samples in a batch\n",
    "    n = X_test.shape[1] ## number of features\n",
    "    #eta = 0.55\n",
    "    \n",
    "    ## initialization\n",
    "    beta = np.array([np.zeros(n)]).transpose()\n",
    "    b = -0.5\n",
    "    \n",
    "    ##generate mini_batch\n",
    "    X_test_batches, y_test_batches = shuffle_into_minibatch(X_test,y_test,m)\n",
    "    M = len(y_test_batches)## number of batches\n",
    "    ## iteration \n",
    "    for t in range(n_iter):\n",
    "        for i in range(M):\n",
    "            eta = 0.6/(t+1)\n",
    "            ## within on batch, find gradient and update beta and b\n",
    "            X = X_test_batches[i]\n",
    "            y = y_test_batches[i]\n",
    "            y = np.array([y]).transpose()\n",
    "            \n",
    "            Z = X*beta + b\n",
    "            \n",
    "            H = 1/(np.exp(-Z) + 1) ## hi = 1/(1+exp(-zi))\n",
    "            g_Z = np.exp(Z)\n",
    "            g_Z = g_Z/((1+g_Z)*(1+g_Z))\n",
    "            \n",
    "            u = (-1/m) * (y*(1/H) + (1-y)*(1/(H-1)))*g_Z\n",
    "            nabla_beta_J = X.multiply(u)\n",
    "            nabla_beta_J = nabla_beta_J.sum(axis = 0).transpose()\n",
    "            nabla_beta_J += (alpha/m)*beta\n",
    "\n",
    "            nabla_b_J = u.sum()\n",
    "            b -= eta*nabla_b_J\n",
    "            beta -= eta*nabla_beta_J\n",
    "    end = time.time()\n",
    "    print(\"time elapsed: \",str(end-start))\n",
    "    return beta,b\n",
    "            \n",
    "            \n",
    "                       "
   ]
  },
  {
   "cell_type": "code",
   "execution_count": 53,
   "metadata": {},
   "outputs": [],
   "source": [
    "def my_lg_SGD_predict(beta,b,X_validation,y_validation):\n",
    "    Z= X_validation*beta + b\n",
    "    H = 1/(np.exp(-Z) + 1)\n",
    "    into_pred = lambda x: 1 if x > 0.5 else 0\n",
    "    y_pred_mysgd = np.vectorize(into_pred)(H)\n",
    "    \n",
    "    from sklearn.metrics import confusion_matrix\n",
    "    cm = confusion_matrix(y_validation,y_pred_mysgd)\n",
    "    error = (cm[0,1]+cm[1,0])/cm.sum()\n",
    "    #print(error)\n",
    "    \n",
    "    return error"
   ]
  },
  {
   "cell_type": "code",
   "execution_count": 54,
   "metadata": {},
   "outputs": [],
   "source": [
    "def my_lg_SGD(X_train,y_train,X_validation,y_validation,\\\n",
    "              batch_size = 500,alpha=0.0001,n_iter = 5):\n",
    "    beta,b = my_lg_SGD_fit(X_train,y_train,alpha=alpha,batch_size=batch_size, n_iter=n_iter)\n",
    "    error = my_lg_SGD_predict(beta,b,X_validation,y_validation)\n",
    "    return error"
   ]
  },
  {
   "cell_type": "code",
   "execution_count": 55,
   "metadata": {},
   "outputs": [
    {
     "name": "stdout",
     "output_type": "stream",
     "text": [
      "time elapsed:  15.835628986358643\n"
     ]
    }
   ],
   "source": [
    "mySGD_error = my_lg_SGD(X_train,y_train,X_validation,y_validation,alpha = 1,batch_size=500,n_iter=5)"
   ]
  },
  {
   "cell_type": "code",
   "execution_count": 56,
   "metadata": {},
   "outputs": [
    {
     "data": {
      "text/plain": [
       "0.2555234990025526"
      ]
     },
     "execution_count": 56,
     "metadata": {},
     "output_type": "execute_result"
    }
   ],
   "source": [
    "mySGD_error"
   ]
  },
  {
   "cell_type": "markdown",
   "metadata": {},
   "source": [
    "After tuning eta and alpha,b(initialized), and eta, I choose alpha = 0.0001, eta = 0.6/t (t being the number of iterations), b = -0.5. I obtain the best error rate : 0.2555234990025526."
   ]
  },
  {
   "cell_type": "markdown",
   "metadata": {},
   "source": [
    "## Plot Error rate and negative log-likelihood (scaled over the number of data)"
   ]
  },
  {
   "cell_type": "code",
   "execution_count": 57,
   "metadata": {},
   "outputs": [],
   "source": [
    "def my_lg_SGD_predict_and_get_error_loglik(beta,b,X_validation,y_validation):\n",
    "    start = time.time()\n",
    "    Z= X_validation*beta + b\n",
    "    H = 1/(np.exp(-Z) + 1)\n",
    "    into_pred = lambda x: 1 if x > 0.5 else 0\n",
    "    y_pred_mysgd = np.vectorize(into_pred)(H)\n",
    "    \n",
    "    #from sklearn.metrics import confusion_matrix\n",
    "    cm = confusion_matrix(y_validation,y_pred_mysgd)\n",
    "    error = (cm[0,1]+cm[1,0])/cm.sum()\n",
    "    \n",
    "    m = y_validation.shape[0]\n",
    "    #negloglik = (-1/m)*(y_validation*np.log(H[:,0]) + (1-y_validation)*np.log(1-H[:,0])) \n",
    "    negloglik = (-1/m)*(y_validation.dot(np.log(H[:,0])) + \\\n",
    "                        (1-y_validation).dot(np.log(1-H[:,0])))\n",
    "    end = time.time()\n",
    "                        \n",
    "    #print(\"time elapsed: \", end-start)\n",
    "    return error, negloglik    "
   ]
  },
  {
   "cell_type": "code",
   "execution_count": 58,
   "metadata": {},
   "outputs": [],
   "source": [
    "\n",
    "def my_lg_SGD_analysis(X_train,y_train,X_validation,y_validation,\\\n",
    "                       X_test,y_test,batch_size = 500,alpha=0.0001,n_iter = 5):\n",
    "    start = time.time()\n",
    "    ## global parameters\n",
    "    m = batch_size ## number of samples in a batch\n",
    "    n = X_train.shape[1] ## number of features\n",
    "    #eta = 0.55\n",
    "    #eta = 1\n",
    "    #eta = 10\n",
    "    \n",
    "    ## initialization\n",
    "    beta = np.array([np.zeros(n)]).transpose()\n",
    "    b = -0.5\n",
    "    \n",
    "    ##generate mini_batch\n",
    "    X_train_batches, y_train_batches = shuffle_into_minibatch(X_train,y_train,m)\n",
    "    M = len(y_train_batches)## number of batches\n",
    "   \n",
    "\n",
    "    error_rates1 = []\n",
    "    neglogliks1 = []\n",
    "    \n",
    "    error_rates2 = []\n",
    "    neglogliks2 = []\n",
    "    \n",
    "    ## iteration \n",
    "    for t in range(n_iter):\n",
    "        for i in range(M):\n",
    "            \n",
    "            #eta = 1/(t+1)\n",
    "            #eta = 0.1/(t+1)\n",
    "            eta = 0.6/(t+1)\n",
    "            ## within on batch, find gradient and update beta and b\n",
    "            X = X_train_batches[i]\n",
    "            #print(X.shape)\n",
    "            y = y_train_batches[i]\n",
    "            y = np.array([y]).transpose()\n",
    "            \n",
    "            Z = X*beta + b\n",
    "            \n",
    "            H = 1/(np.exp(-Z) + 1) ## hi = 1/(1+exp(-zi))\n",
    "            g_Z = np.exp(Z)\n",
    "            g_Z = g_Z/((1+g_Z)*(1+g_Z))\n",
    "            \n",
    "            u = (-1/m) * (y*(1/H) + (1-y)*(1/(H-1)))*g_Z\n",
    "            nabla_beta_J = X.multiply(u)\n",
    "            nabla_beta_J = nabla_beta_J.sum(axis = 0).transpose()\n",
    "            nabla_beta_J += (alpha/m)*beta\n",
    "\n",
    "            nabla_b_J = u.sum()\n",
    "            \n",
    "            b -= eta*nabla_b_J\n",
    "            beta -= eta*nabla_beta_J\n",
    "            \n",
    "            if ((t*M+i+1)%100) == 0:\n",
    "                error_rate1, negloglik1 = my_lg_SGD_predict_and_get_error_loglik(beta,b,X_validation,y_validation)\n",
    "                error_rates1.append(error_rate1)\n",
    "                neglogliks1.append(negloglik1)\n",
    "                     \n",
    "                error_rate2, negloglik2 = my_lg_SGD_predict_and_get_error_loglik(beta,b,X_test,y_test)\n",
    "                error_rates2.append(error_rate2)\n",
    "                neglogliks2.append(negloglik2)\n",
    "                            \n",
    "    end = time.time()\n",
    "    times = end -start\n",
    "    print(\"time elapsed: \",str(end-start))\n",
    "    return beta,b,error_rates1,neglogliks1,error_rates2,neglogliks2,times\n",
    "            \n",
    "            "
   ]
  },
  {
   "cell_type": "code",
   "execution_count": 59,
   "metadata": {},
   "outputs": [
    {
     "name": "stdout",
     "output_type": "stream",
     "text": [
      "time elapsed:  142.09716296195984\n"
     ]
    }
   ],
   "source": [
    "beta,b,errors_valid,lks_valid,errors_test,lks_test,times =\\\n",
    "my_lg_SGD_analysis(X_train,y_train,X_validation,y_validation,X_test,y_test)\n",
    "                                                             "
   ]
  },
  {
   "cell_type": "code",
   "execution_count": 69,
   "metadata": {},
   "outputs": [
    {
     "data": {
      "text/plain": [
       "Text(0.5,1,'error rate on validation data VS number of iterations')"
      ]
     },
     "execution_count": 69,
     "metadata": {},
     "output_type": "execute_result"
    },
    {
     "data": {
      "image/png": "[encoded data removed]",
      "text/plain": [
       "<matplotlib.figure.Figure at 0x1c0b52d438>"
      ]
     },
     "metadata": {},
     "output_type": "display_data"
    }
   ],
   "source": [
    "plt.plot(errors_valid)\n",
    "plt.title(\"error rate on validation data VS number of iterations\")"
   ]
  },
  {
   "cell_type": "code",
   "execution_count": 70,
   "metadata": {},
   "outputs": [
    {
     "data": {
      "text/plain": [
       "Text(0.5,1,'negative loglikelihhod of validation data VS number of iterations')"
      ]
     },
     "execution_count": 70,
     "metadata": {},
     "output_type": "execute_result"
    },
    {
     "data": {
      "image/png": "[encoded data removed]",
      "text/plain": [
       "<matplotlib.figure.Figure at 0x1c0b57d160>"
      ]
     },
     "metadata": {},
     "output_type": "display_data"
    }
   ],
   "source": [
    "plt.plot(lks_valid)\n",
    "plt.title(\"negative loglikelihhod of validation data VS number of iterations\")"
   ]
  },
  {
   "cell_type": "code",
   "execution_count": 66,
   "metadata": {},
   "outputs": [
    {
     "data": {
      "text/plain": [
       "Text(0.5,1,'error rate on test data VS number of iterations')"
      ]
     },
     "execution_count": 66,
     "metadata": {},
     "output_type": "execute_result"
    },
    {
     "data": {
      "image/png": "[encoded data removed]",
      "text/plain": [
       "<matplotlib.figure.Figure at 0x1c21c89b70>"
      ]
     },
     "metadata": {},
     "output_type": "display_data"
    }
   ],
   "source": [
    "plt.plot(errors_test)\n",
    "plt.title(\"error rate on test data VS number of iterations\")"
   ]
  },
  {
   "cell_type": "code",
   "execution_count": 67,
   "metadata": {},
   "outputs": [
    {
     "data": {
      "text/plain": [
       "Text(0.5,1,'negative loglikelihhod of test data VS number of iterations')"
      ]
     },
     "execution_count": 67,
     "metadata": {},
     "output_type": "execute_result"
    },
    {
     "data": {
      "image/png": "[encoded data removed]",
      "text/plain": [
       "<matplotlib.figure.Figure at 0x1c0a9cd7f0>"
      ]
     },
     "metadata": {},
     "output_type": "display_data"
    }
   ],
   "source": [
    "plt.plot(lks_test)\n",
    "plt.title(\"negative loglikelihhod of test data VS number of iterations\")"
   ]
  },
  {
   "cell_type": "code",
   "execution_count": 71,
   "metadata": {},
   "outputs": [],
   "source": [
    "final_error_rate_test,final_negloglk_test = my_lg_SGD_predict_and_get_error_loglik(beta,b,X_test,y_test)"
   ]
  },
  {
   "cell_type": "code",
   "execution_count": 72,
   "metadata": {},
   "outputs": [
    {
     "data": {
      "text/plain": [
       "0.23898453692556434"
      ]
     },
     "execution_count": 72,
     "metadata": {},
     "output_type": "execute_result"
    }
   ],
   "source": [
    "final_error_rate_test"
   ]
  },
  {
   "cell_type": "markdown",
   "metadata": {},
   "source": [
    "## Analysis"
   ]
  },
  {
   "cell_type": "markdown",
   "metadata": {},
   "source": [
    "From computation above, we can clearly see the decrease of both negative log-likelihhod and error rate on validation data and test data. The final error rate on training data is as above: 0.23898453692556434, which is comparable to the results obtained above. "
   ]
  },
  {
   "cell_type": "markdown",
   "metadata": {},
   "source": [
    "# Scores versus text"
   ]
  },
  {
   "cell_type": "markdown",
   "metadata": {},
   "source": [
    "### preprocessing data"
   ]
  },
  {
   "cell_type": "code",
   "execution_count": 73,
   "metadata": {},
   "outputs": [],
   "source": [
    "scores_beer = beer_rv.as_matrix\\\n",
    "(columns=['appearance','aroma','palate','style','taste'])"
   ]
  },
  {
   "cell_type": "code",
   "execution_count": 74,
   "metadata": {},
   "outputs": [
    {
     "name": "stderr",
     "output_type": "stream",
     "text": [
      "/anaconda3/lib/python3.6/site-packages/sklearn/utils/validation.py:475: DataConversionWarning: Data with input dtype int64 was converted to float64 by the scale function.\n",
      "  warnings.warn(msg, DataConversionWarning)\n"
     ]
    }
   ],
   "source": [
    "from sklearn import preprocessing\n",
    "scores_beer_scaled = preprocessing.scale(scores_beer)"
   ]
  },
  {
   "cell_type": "code",
   "execution_count": 75,
   "metadata": {},
   "outputs": [
    {
     "name": "stderr",
     "output_type": "stream",
     "text": [
      "/anaconda3/lib/python3.6/site-packages/sklearn/model_selection/_split.py:2026: FutureWarning: From version 0.21, test_size will always complement train_size unless both are specified.\n",
      "  FutureWarning)\n"
     ]
    }
   ],
   "source": [
    "## split data\n",
    "from sklearn.model_selection import train_test_split\n",
    "scoreX_train,scoreX_valtest,scoreY_train,scoreY_valtest = train_test_split(scores_beer_scaled,bin_overall,train_size=0.7, random_state = 12345)\n",
    "scoreX_validation,scoreX_test,scoreY_validation,scoreY_test \\\n",
    "= train_test_split(scoreX_valtest,scoreY_valtest,train_size = 0.5,random_state = 12345)"
   ]
  },
  {
   "cell_type": "code",
   "execution_count": 76,
   "metadata": {},
   "outputs": [],
   "source": [
    "## smaller data set for testing\n",
    "l = 500\n",
    "scorextrain = scoreX_train[:l,:]\n",
    "scorextest = scoreX_test[:l,:]\n",
    "scorexvalid = scoreX_validation[:l,:]\n",
    "scoreytrain = scoreY_train[:l]\n",
    "scoreytest = scoreY_test[:l]\n",
    "scoreyvalid = scoreY_validation[:l]"
   ]
  },
  {
   "cell_type": "markdown",
   "metadata": {},
   "source": [
    "### minibatch SDG "
   ]
  },
  {
   "cell_type": "code",
   "execution_count": 77,
   "metadata": {},
   "outputs": [],
   "source": [
    "## shuffle the data and divide them into mini batches of size N\n",
    "def shuffle_into_minibatch2(X_test,y_test,batch_size):\n",
    "    index = np.arange(y_test.shape[0])\n",
    "    random.seed(12345)\n",
    "    np.random.shuffle(index)\n",
    "    X_shf = X_test[index,:]\n",
    "    #y_shf = y_test.iloc[index]\n",
    "    y_shf = y_test[index]\n",
    "\n",
    "    num_batch = int(X_test.shape[0]/batch_size)\n",
    "    \n",
    "    X_batches = []\n",
    "    y_batches = []\n",
    "    for i in range(num_batch):\n",
    "        X_batches.append(X_shf[i*batch_size:(i+1)*batch_size,:])\n",
    "        y_batches.append(y_shf[i*batch_size:(i+1)*batch_size])\n",
    "    \n",
    "    return X_batches,y_batches"
   ]
  },
  {
   "cell_type": "code",
   "execution_count": 80,
   "metadata": {},
   "outputs": [],
   "source": [
    "## my lg SGD; \n",
    "## output should be beta (in R^{n}) and b in R, where n is X_test.shape[1]\n",
    "def my_lg_SGD_fit2(X_test,y_test,batch_size = 50,alpha=0.0001,n_iter = 5):\n",
    "    start = time.time()\n",
    "    ## global parameters\n",
    "    m = batch_size ## number of samples in a batch\n",
    "    n = X_test.shape[1] ## number of features\n",
    "    #eta = 0.55\n",
    "    \n",
    "    ## initialization\n",
    "    beta = np.array([np.zeros(n)]).transpose()\n",
    "    b = 1\n",
    "    \n",
    "    ##generate mini_batch\n",
    "    X_test_batches, y_test_batches = shuffle_into_minibatch2(X_test,y_test,m)\n",
    "    M = len(y_test_batches)## number of batches\n",
    "    #print(M)\n",
    "    ## iteration \n",
    "    for t in range(n_iter):\n",
    "        for i in range(M):\n",
    "            eta = 0.6/(t+1)\n",
    "            ## within on batch, find gradient and update beta and b\n",
    "            X = X_test_batches[i]\n",
    "            #print(X.shape)\n",
    "            y = y_test_batches[i]\n",
    "            y = np.array([y]).transpose()\n",
    "            \n",
    "            #Z = X*beta + b\n",
    "            \n",
    "            Z = np.dot(X,beta) + b\n",
    "            \n",
    "            #print(\"Z \"+str(Z.shape))\n",
    "            H = 1/(np.exp(-Z) + 1) ## hi = 1/(1+exp(-zi))\n",
    "            #print(\"H shape \",H.shape)\n",
    "            #print(\"H type \",type(H))\n",
    "            g_Z = np.exp(Z)\n",
    "            #g_Z = g_Z/(g_Z * g_Z)\n",
    "            g_Z = g_Z/((1+g_Z)*(1+g_Z))\n",
    "            \n",
    "            \n",
    "            u = (-1/m) * (y*(1/H) + (1-y)*(1/(H-1)))*g_Z\n",
    "            #print(\"u shape \",str(u.shape))\n",
    "            #nabla_beta_J = (u.transpose()*X).transpose() + (alpha/m)*beta\n",
    "            \n",
    "            #nabla_beta_J = X.multiply(u)+ (alpha/m)*beta\n",
    "            nabla_beta_J = np.dot(X.transpose(),u)\n",
    "            \n",
    "            #print(\"nabla_beta_J \", str(nabla_beta_J.shape))\n",
    "            #nabla_beta_J = nabla_beta_J.sum(axis = 0).transpose()\n",
    "\n",
    "            #print(\"nabla_beta_J: \", str(nabla_beta_J.shape))\n",
    "            #print(\"beta: \",str(beta.shape))\n",
    "            nabla_beta_J += (alpha/m)*beta\n",
    "\n",
    "            nabla_b_J = u.sum()\n",
    "            \n",
    "            #print(nabla_b_J)\n",
    "            b -= eta*nabla_b_J\n",
    "            beta -= eta*nabla_beta_J\n",
    "            #print(type(beta))\n",
    "            #print(\"b: \",b)\n",
    "            #print(\"nabla b : \", nabla_b_J)\n",
    "    end = time.time()\n",
    "    print(\"time elapsed: \",str(end-start))\n",
    "    return beta,b\n",
    "            "
   ]
  },
  {
   "cell_type": "markdown",
   "metadata": {},
   "source": [
    "### Result:"
   ]
  },
  {
   "cell_type": "code",
   "execution_count": 81,
   "metadata": {},
   "outputs": [],
   "source": [
    "scoreX_train_valid = np.concatenate((scoreX_train,scoreX_validation),axis = 0)\n",
    "scoreY_train_valid = np.concatenate((scoreY_train,scoreY_validation),axis = 0)"
   ]
  },
  {
   "cell_type": "code",
   "execution_count": 83,
   "metadata": {},
   "outputs": [
    {
     "name": "stdout",
     "output_type": "stream",
     "text": [
      "time elapsed:  1.9453797340393066\n"
     ]
    }
   ],
   "source": [
    "scorebeta,scoreb = my_lg_SGD_fit2(scoreX_train_valid,scoreY_train_valid,batch_size = 500,alpha=0.0001,n_iter = 5)"
   ]
  },
  {
   "cell_type": "code",
   "execution_count": 85,
   "metadata": {},
   "outputs": [],
   "source": [
    "def my_lg_SGD_predict2(beta,b,X_validation,y_validation):\n",
    "    Z= np.dot(X_validation,beta) + b\n",
    "    H = 1/(np.exp(-Z) + 1)\n",
    "    into_pred = lambda x: 1 if x > 0.5 else 0\n",
    "    y_pred_mysgd = np.vectorize(into_pred)(H)\n",
    "    \n",
    "    from sklearn.metrics import confusion_matrix\n",
    "    cm = confusion_matrix(y_validation,y_pred_mysgd)\n",
    "    error = (cm[0,1]+cm[1,0])/cm.sum()\n",
    "    #print(error)\n",
    "    \n",
    "    return error"
   ]
  },
  {
   "cell_type": "code",
   "execution_count": 86,
   "metadata": {},
   "outputs": [
    {
     "data": {
      "text/plain": [
       "0.14498877874691984"
      ]
     },
     "execution_count": 86,
     "metadata": {},
     "output_type": "execute_result"
    }
   ],
   "source": [
    "my_lg_SGD_predict2(scorebeta,scoreb,scoreX_test,scoreY_test)"
   ]
  },
  {
   "cell_type": "markdown",
   "metadata": {},
   "source": [
    "Analysis: the predicted result based on scores o0f various feeatures is more powerful than text review, with error rate 0.14498877874691984, compared with around 0.23 using text. <br>\n",
    "\n",
    "Other thoughts:<br>\n",
    "Our training labels may be biased in this case. Each reviewer may score similarly for each feature and for overall rating, while might express opinion uniquely. In other words, the prediction based on scores is a bit like cheating, since X is in some way more similar to the label y. "
   ]
  }
 ],
 "metadata": {
  "kernelspec": {
   "display_name": "Python 3",
   "language": "python",
   "name": "python3"
  },
  "language_info": {
   "codemirror_mode": {
    "name": "ipython",
    "version": 3
   },
   "file_extension": ".py",
   "mimetype": "text/x-python",
   "name": "python",
   "nbconvert_exporter": "python",
   "pygments_lexer": "ipython3",
   "version": "3.6.4"
  }
 },
 "nbformat": 4,
 "nbformat_minor": 2
}
