{
 "cells": [
  {
   "cell_type": "markdown",
   "metadata": {},
   "source": [
    "CS25025_HW2_P4"
   ]
  },
  {
   "cell_type": "code",
   "execution_count": 2,
   "metadata": {},
   "outputs": [
    {
     "name": "stdout",
     "output_type": "stream",
     "text": [
      "[nltk_data] Downloading package punkt to /Users/ontheroad/nltk_data...\n",
      "[nltk_data]   Package punkt is already up-to-date!\n"
     ]
    }
   ],
   "source": [
    "import numpy as np\n",
    "import pandas as pd\n",
    "import matplotlib.pyplot as plt\n",
    "import sklearn\n",
    "import pickle\n",
    "import pyspark\n",
    "import nltk\n",
    "nltk.download('punkt')\n",
    "import itertools\n",
    "import string\n",
    "import os\n",
    "import re\n",
    "import math\n",
    "from scipy.spatial import distance_matrix"
   ]
  },
  {
   "cell_type": "code",
   "execution_count": 3,
   "metadata": {},
   "outputs": [],
   "source": [
    "f = open(\"speeches.pkl\",'rb')\n",
    "speeches = pickle.load(f)"
   ]
  },
  {
   "cell_type": "code",
   "execution_count": 4,
   "metadata": {},
   "outputs": [],
   "source": [
    "speeches = pd.DataFrame(speeches,columns = ['president','words','year'])"
   ]
  },
  {
   "cell_type": "markdown",
   "metadata": {},
   "source": [
    "(a) Compute TF-TDF for Each SOU Address"
   ]
  },
  {
   "cell_type": "code",
   "execution_count": 5,
   "metadata": {},
   "outputs": [],
   "source": [
    "## clean the data\n",
    "def clean_and_split(s):\n",
    "             # encode to UTF-8, convert to lowercase and translate all hyphens and\n",
    "             # punctuation to whitespace\n",
    "             s = s.lower().replace('-',' ').translate(string.punctuation)\n",
    "             # replace \\r\\n\n",
    "             s = re.sub('(\\r\\n)+',' ',s)\n",
    "             # replace whitespace substrings with one whitespace and remove\n",
    "             # leading/trailing whitespaces\n",
    "             s = re.sub(' +',' ',s.strip())\n",
    "             return s.split(' ')\n"
   ]
  },
  {
   "cell_type": "code",
   "execution_count": 6,
   "metadata": {
    "scrolled": true
   },
   "outputs": [],
   "source": [
    "speeches['cleaned'] = speeches['words'].apply(clean_and_split)"
   ]
  },
  {
   "cell_type": "code",
   "execution_count": 94,
   "metadata": {},
   "outputs": [],
   "source": [
    "## decide vocabulary \n",
    "voc_pool = list(itertools.chain.from_iterable(speeches['cleaned']))\n",
    "voc_counts = pd.value_counts(voc_pool)\n",
    "voc_counts = pd.DataFrame(voc_counts)\n",
    "voc_counts = voc_counts.loc[voc_counts.loc[:,0] > 50,:]\n",
    "voc_counts = voc_counts.iloc[20:,:]\n",
    "voc = voc_counts.index"
   ]
  },
  {
   "cell_type": "code",
   "execution_count": 97,
   "metadata": {},
   "outputs": [],
   "source": [
    "## begin to compute \"TF-IDF\"\n",
    "from collections import Counter\n",
    "word_counter = [Counter(x) for x in speeches['cleaned']]\n",
    "## speech[\"TF-IDF\"] here is now only the n_i(d)\n",
    "speeches[\"TF-IDF\"] = [pd.DataFrame([y[x] for x in voc],index = voc)\\\n",
    "                      for y in word_counter] \n",
    "\n",
    "\n"
   ]
  },
  {
   "cell_type": "code",
   "execution_count": 98,
   "metadata": {},
   "outputs": [],
   "source": [
    "## compute the global weight parameter\n",
    "D = len(speeches[\"TF-IDF\"])\n",
    "d = [sum([int(x.loc[y].values[0]>0) for x in speeches[\"TF-IDF\"]]) for y in voc]"
   ]
  },
  {
   "cell_type": "code",
   "execution_count": 100,
   "metadata": {},
   "outputs": [],
   "source": [
    "global_weight = [math.log(D/x) for x in d]"
   ]
  },
  {
   "cell_type": "code",
   "execution_count": 101,
   "metadata": {},
   "outputs": [],
   "source": [
    "## now obtain the \"TF-IDF\" desired\n",
    "speeches[\"TF-IDF\"] = [[x.values[:,0]*global_weight] for x in speeches[\"TF-IDF\"]]\n",
    "#speeches[\"TF-IDF\"][d][0][i]: dth row (speech) and i th word in voc; 0 is fixed"
   ]
  },
  {
   "cell_type": "markdown",
   "metadata": {},
   "source": [
    "(b)measuring distance between documents\n",
    "• 50 most similar pairs of SOUs given by different Presidents.\n",
    "• 50 most similar pairs of SOUs given by the same President.\n",
    "• 25 most similar pairs of Presidents, averaging the cosine similarity over all\n",
    "pairs of their SOUs."
   ]
  },
  {
   "cell_type": "code",
   "execution_count": 102,
   "metadata": {},
   "outputs": [],
   "source": [
    "## extract information of speeches[\"TF-IDF\"] in we, meaning, the weight information of the speeches\n",
    "we = [list(x[0]) for x in speeches[\"TF-IDF\"]]\n",
    "#speeches[\"weights\"] = [list(x[0]) for x in speeches[\"TF-IDF\"]]\n",
    "#speech_weights = speeches[\"weights\"].copy()"
   ]
  },
  {
   "cell_type": "code",
   "execution_count": 103,
   "metadata": {},
   "outputs": [],
   "source": [
    "we = np.array(we)"
   ]
  },
  {
   "cell_type": "code",
   "execution_count": 107,
   "metadata": {},
   "outputs": [],
   "source": [
    "## build a distance matrix with metric cosine distance\n",
    "cos_dis = sklearn.metrics.pairwise.pairwise_distances(we,we,metric='cosine')"
   ]
  },
  {
   "cell_type": "code",
   "execution_count": 108,
   "metadata": {},
   "outputs": [],
   "source": [
    "# Obtain cosine similarity matrix (Cosine distance is defined as 1.0 minus the cosine similarity).\n",
    "cos_sim = 1 - cos_dis"
   ]
  },
  {
   "cell_type": "code",
   "execution_count": 109,
   "metadata": {},
   "outputs": [],
   "source": [
    "# take the upper triangle, including the diagonal elements of the similarity matrix\n",
    "cos_sim = np.triu(cos_sim,k=1) "
   ]
  },
  {
   "cell_type": "code",
   "execution_count": 113,
   "metadata": {},
   "outputs": [],
   "source": [
    "## indicator matrix for the same president: 1 for the same president; 0 for different presient\n",
    "idc_same_pre = [[int(speeches.loc[x,'president']==speeches.loc[y,'president']) for y in range(226)] for x in range(226)]"
   ]
  },
  {
   "cell_type": "code",
   "execution_count": 114,
   "metadata": {},
   "outputs": [],
   "source": [
    "# take the upper triangle, including the diagonal elements of the indicator matrix \n",
    "idc_same_pre = np.array(idc_same_pre)\n",
    "idc_same_pre = np.triu(idc_same_pre,k=1)"
   ]
  },
  {
   "cell_type": "code",
   "execution_count": 115,
   "metadata": {},
   "outputs": [],
   "source": [
    "## same_pre_sim contains only the sim between speeches of the same president, with 0 otherwise\n",
    "## diff_pre_sim contains only the sim between speeches of the different president, with 0 otherwise\n",
    "same_pre_sim = np.multiply(idc_same_pre,cos_sim)\n",
    "diff_pre_sim = cos_sim-same_pre_sim"
   ]
  },
  {
   "cell_type": "code",
   "execution_count": 116,
   "metadata": {},
   "outputs": [],
   "source": [
    "## sort the matrix and find the most similar pairs by different presidents\n",
    "ind_diff_pre = np.unravel_index(np.argsort(-1*diff_pre_sim, axis=None), diff_pre_sim.shape)\n",
    "# sort on (-1*diff_pre_simargsort) because this function results in increasing order"
   ]
  },
  {
   "cell_type": "code",
   "execution_count": 119,
   "metadata": {},
   "outputs": [],
   "source": [
    "diff_pre_top50 = [(speeches.loc[ind_diff_pre[0][i],'year'],\\\n",
    "                  speeches.loc[ind_diff_pre[1][i],'year'])for i in range(50)]"
   ]
  },
  {
   "cell_type": "code",
   "execution_count": 120,
   "metadata": {
    "scrolled": true
   },
   "outputs": [
    {
     "data": {
      "text/plain": [
       "[('1864', '1882'),\n",
       " ('1883', '1864'),\n",
       " ('1882', '1872'),\n",
       " ('1883', '1872'),\n",
       " ('1864', '1872'),\n",
       " ('1881', '1872'),\n",
       " ('1864', '1881'),\n",
       " ('1862', '1882'),\n",
       " ('1883', '1862'),\n",
       " ('1862', '1872'),\n",
       " ('1884', '1872'),\n",
       " ('1864', '1884'),\n",
       " ('1862', '1881'),\n",
       " ('1910', '1882'),\n",
       " ('1910', '1872'),\n",
       " ('1883', '1910'),\n",
       " ('1910', '1881'),\n",
       " ('1880', '1881'),\n",
       " ('1864', '1910'),\n",
       " ('1862', '1884'),\n",
       " ('1880', '1872'),\n",
       " ('1880', '1882'),\n",
       " ('1883', '1880'),\n",
       " ('1910', '1884'),\n",
       " ('1880', '1884'),\n",
       " ('1864', '1880'),\n",
       " ('1880', '1910'),\n",
       " ('1862', '1910'),\n",
       " ('1862', '1880'),\n",
       " ('1874', '1881'),\n",
       " ('1874', '1884'),\n",
       " ('1874', '1880'),\n",
       " ('1874', '1910'),\n",
       " ('1883', '1874'),\n",
       " ('1874', '1882'),\n",
       " ('1862', '1874'),\n",
       " ('1874', '1864'),\n",
       " ('1880', '1896'),\n",
       " ('1896', '1881'),\n",
       " ('1910', '1896'),\n",
       " ('1896', '1884'),\n",
       " ('1896', '1872'),\n",
       " ('1880', '1888'),\n",
       " ('1896', '1882'),\n",
       " ('1862', '1896'),\n",
       " ('1883', '1896'),\n",
       " ('1864', '1896'),\n",
       " ('1881', '1888'),\n",
       " ('1910', '1888'),\n",
       " ('1884', '1888')]"
      ]
     },
     "execution_count": 120,
     "metadata": {},
     "output_type": "execute_result"
    }
   ],
   "source": [
    "## this is the top 50 speeches between different presidents\n",
    "diff_pre_top50"
   ]
  },
  {
   "cell_type": "code",
   "execution_count": 121,
   "metadata": {},
   "outputs": [],
   "source": [
    "## sort the matrix and find the most similar pairs by the same presidents\n",
    "ind_same_pre = np.unravel_index(np.argsort(-1*same_pre_sim, axis=None), same_pre_sim.shape)\n",
    "# sort on (-1*same_pre_simargsort) because this function results in increasing order"
   ]
  },
  {
   "cell_type": "code",
   "execution_count": 122,
   "metadata": {},
   "outputs": [],
   "source": [
    "same_pre_top50 = [(speeches.loc[ind_same_pre[0][i],'year'],\\\n",
    "                  speeches.loc[ind_same_pre[1][i],'year'])for i in range(50)]"
   ]
  },
  {
   "cell_type": "code",
   "execution_count": 123,
   "metadata": {
    "scrolled": true
   },
   "outputs": [
    {
     "data": {
      "text/plain": [
       "[('1883', '1882'),\n",
       " ('1882', '1881'),\n",
       " ('1883', '1881'),\n",
       " ('1862', '1864'),\n",
       " ('1883', '1884'),\n",
       " ('1884', '1882'),\n",
       " ('1884', '1881'),\n",
       " ('1874', '1872'),\n",
       " ('2010', '2011'),\n",
       " ('2010', '2012'),\n",
       " ('2011', '2012'),\n",
       " ('1877', '1880'),\n",
       " ('1896', '1888'),\n",
       " ('2013', '2012'),\n",
       " ('2007', '2008'),\n",
       " ('1998', '1999'),\n",
       " ('1966', '1967'),\n",
       " ('2010', '2009'),\n",
       " ('1998', '2000'),\n",
       " ('1998', '1997'),\n",
       " ('1995', '1994'),\n",
       " ('2009', '2012'),\n",
       " ('1905', '1907'),\n",
       " ('2009', '2011'),\n",
       " ('1999', '2000'),\n",
       " ('1908', '1907'),\n",
       " ('1900', '1899'),\n",
       " ('1999', '1997'),\n",
       " ('1899', '1898'),\n",
       " ('1955', '1956'),\n",
       " ('2006', '2007'),\n",
       " ('2008', '2005'),\n",
       " ('1905', '1904'),\n",
       " ('1845', '1846'),\n",
       " ('1907', '1906'),\n",
       " ('1894', '1893'),\n",
       " ('1905', '1901'),\n",
       " ('1905', '1906'),\n",
       " ('1911', '1912'),\n",
       " ('1892', '1891'),\n",
       " ('1886', '1885'),\n",
       " ('1835', '1834'),\n",
       " ('2006', '2008'),\n",
       " ('2003', '2007'),\n",
       " ('1909', '1912'),\n",
       " ('2007', '2004'),\n",
       " ('1994', '1993'),\n",
       " ('1956', '1954'),\n",
       " ('2007', '2005'),\n",
       " ('1997', '2000')]"
      ]
     },
     "execution_count": 123,
     "metadata": {},
     "output_type": "execute_result"
    }
   ],
   "source": [
    "## this is the top 50 speeches by the same presidents\n",
    "same_pre_top50"
   ]
  },
  {
   "cell_type": "code",
   "execution_count": 347,
   "metadata": {},
   "outputs": [],
   "source": [
    "## now find most similar pairs of presidents"
   ]
  },
  {
   "cell_type": "code",
   "execution_count": 124,
   "metadata": {},
   "outputs": [],
   "source": [
    "## cos_sim_df is now a full symmetric matrix, with diagnol 0\n",
    "cos_sim_df = pd.DataFrame(cos_sim+np.transpose(cos_sim),index = speeches['president'], columns = speeches['president'])"
   ]
  },
  {
   "cell_type": "code",
   "execution_count": 125,
   "metadata": {},
   "outputs": [],
   "source": [
    "president = np.unique(speeches['president'])"
   ]
  },
  {
   "cell_type": "code",
   "execution_count": 126,
   "metadata": {},
   "outputs": [],
   "source": [
    "## it might happen that the matrix is reduced to a float after second first .mean()\n",
    "def safe_mean(x):\n",
    "    if isinstance(x,float):\n",
    "        return x\n",
    "    else:\n",
    "        return x.mean()"
   ]
  },
  {
   "cell_type": "code",
   "execution_count": 127,
   "metadata": {},
   "outputs": [],
   "source": [
    "### pre_sim is a similarity matrix of presidents\n",
    "#fp = [safe_mean(cos_sim_df.loc[president[0], x].mean()) for x in president]\n",
    "pre_sim = np.array([[np.array(safe_mean(cos_sim_df.loc[y, x].mean())) for x in president] for y in president]) \n",
    "# pre_sim[i][j] the ith president with his jth friend"
   ]
  },
  {
   "cell_type": "code",
   "execution_count": 128,
   "metadata": {},
   "outputs": [],
   "source": [
    "pre_sim = np.triu(pre_sim,k=1)\n",
    "pre_pair_ind = np.unravel_index(np.argsort(-1*pre_sim, axis=None), pre_sim.shape)"
   ]
  },
  {
   "cell_type": "code",
   "execution_count": 129,
   "metadata": {},
   "outputs": [],
   "source": [
    "pre_top25 = [(president[pre_pair_ind[0][i]],\\\n",
    "                  president[pre_pair_ind[1][i]])for i in range(25)]"
   ]
  },
  {
   "cell_type": "code",
   "execution_count": 130,
   "metadata": {},
   "outputs": [
    {
     "data": {
      "text/plain": [
       "[('Abraham Lincoln', 'Chester A. Arthur'),\n",
       " ('Barack Obama', 'William J. Clinton'),\n",
       " ('Millard Fillmore', 'Zachary Taylor'),\n",
       " ('Barack Obama', 'George Bush'),\n",
       " ('George Bush', 'Ronald Reagan'),\n",
       " ('George Bush', 'William J. Clinton'),\n",
       " ('Chester A. Arthur', 'Rutherford B. Hayes'),\n",
       " ('Ronald Reagan', 'William J. Clinton'),\n",
       " ('Benjamin Harrison', 'Grover Cleveland'),\n",
       " ('Andrew Jackson', 'Martin Van Buren'),\n",
       " ('Barack Obama', 'Ronald Reagan'),\n",
       " ('James K. Polk', 'Millard Fillmore'),\n",
       " ('Chester A. Arthur', 'William Howard Taft'),\n",
       " ('Franklin Pierce', 'Millard Fillmore'),\n",
       " ('Benjamin Harrison', 'William McKinley'),\n",
       " ('Franklin Pierce', 'James Buchanan'),\n",
       " ('James K. Polk', 'Zachary Taylor'),\n",
       " ('Dwight D. Eisenhower', 'John F. Kennedy'),\n",
       " ('James Buchanan', 'Zachary Taylor'),\n",
       " ('Dwight D. Eisenhower', 'Harry S Truman'),\n",
       " ('John Tyler', 'Martin Van Buren'),\n",
       " ('James K. Polk', 'John Tyler'),\n",
       " ('Franklin Pierce', 'Zachary Taylor'),\n",
       " ('Rutherford B. Hayes', 'William Howard Taft'),\n",
       " ('Grover Cleveland', 'Rutherford B. Hayes')]"
      ]
     },
     "execution_count": 130,
     "metadata": {},
     "output_type": "execute_result"
    }
   ],
   "source": [
    "## this is top 25 pair of presidents\n",
    "pre_top25"
   ]
  },
  {
   "cell_type": "markdown",
   "metadata": {},
   "source": [
    "Finding, first,presidents from the same party tends to be similar in style; second, president from the same period of time tend to emulate each other in speech.\n",
    "\n",
    "Need to improve: \n",
    "First, the length of the document should be considered when constructing the distance matrix, as the length will influence the the occurence of certain words.\n",
    "\n",
    "Second, people use different words in different times, the words of of Abraham Lincoln might be very different from Barack Obama. Therefore,we need to add a coefficient of time distance to represent the possible word differences due to the passing pf time."
   ]
  },
  {
   "cell_type": "markdown",
   "metadata": {},
   "source": [
    "(c) clustering"
   ]
  },
  {
   "cell_type": "code",
   "execution_count": 133,
   "metadata": {},
   "outputs": [],
   "source": [
    "from sklearn.cluster import KMeans"
   ]
  },
  {
   "cell_type": "code",
   "execution_count": 143,
   "metadata": {},
   "outputs": [
    {
     "data": {
      "text/plain": [
       "(226, 3279)"
      ]
     },
     "execution_count": 143,
     "metadata": {},
     "output_type": "execute_result"
    }
   ],
   "source": [
    "#tf_idf_mat = cos_sim.copy()\n",
    "#tf_idf_mat = [list(x) for x in cos_sim]\n",
    "we.shape"
   ]
  },
  {
   "cell_type": "code",
   "execution_count": 145,
   "metadata": {},
   "outputs": [],
   "source": [
    "model = KMeans(n_clusters=10)\n",
    "#sou_clust = model.fit(tf_idf_mat)\n",
    "sou_clust = model.fit(we)\n",
    "# we has the weight information (the vector representation of every speech)"
   ]
  },
  {
   "cell_type": "code",
   "execution_count": 146,
   "metadata": {},
   "outputs": [],
   "source": [
    "#y_means = sou_clust.predict(tf_idf_mat)\n",
    "y_means = sou_clust.predict(we)"
   ]
  },
  {
   "cell_type": "code",
   "execution_count": 393,
   "metadata": {},
   "outputs": [],
   "source": [
    "centers = sou_clust.cluster_centers_\n",
    "#plt.scatter(tf_idf_mat,c=y_means, cmap='viridis')\n",
    "#plt.scatter(centers[:,0], centers[:,1], c = '0.5', s= 200, alpha = 0.8)\n",
    "#centers"
   ]
  },
  {
   "cell_type": "code",
   "execution_count": 148,
   "metadata": {},
   "outputs": [
    {
     "data": {
      "text/plain": [
       "(10, 3279)"
      ]
     },
     "execution_count": 148,
     "metadata": {},
     "output_type": "execute_result"
    }
   ],
   "source": [
    "centers.shape"
   ]
  },
  {
   "cell_type": "code",
   "execution_count": 163,
   "metadata": {},
   "outputs": [],
   "source": [
    "from collections import Counter\n",
    "cluster_num_10 = Counter(y_means)"
   ]
  },
  {
   "cell_type": "code",
   "execution_count": 164,
   "metadata": {},
   "outputs": [
    {
     "data": {
      "text/plain": [
       "[(9, 118), (1, 43)]"
      ]
     },
     "execution_count": 164,
     "metadata": {},
     "output_type": "execute_result"
    }
   ],
   "source": [
    "## find the cluster with the most speeches\n",
    "most_common_10 = cluster_num.most_common(2)\n",
    "most_common_10"
   ]
  },
  {
   "cell_type": "code",
   "execution_count": 361,
   "metadata": {},
   "outputs": [
    {
     "data": {
      "image/png": "[encoded data removed]",
      "text/plain": [
       "<matplotlib.figure.Figure at 0x1a228a8518>"
      ]
     },
     "metadata": {},
     "output_type": "display_data"
    }
   ],
   "source": [
    "## blow show the distribution of the speeches among various clusters\n",
    "from collections import Counter\n",
    "labels, values = zip(*Counter(y_means).items())\n",
    "\n",
    "indexes = np.arange(len(labels))\n",
    "width = 1\n",
    "\n",
    "plt.bar(indexes, values, width)\n",
    "plt.xticks(indexes + width * 0.5, labels)\n",
    "plt.show()"
   ]
  },
  {
   "cell_type": "code",
   "execution_count": 368,
   "metadata": {},
   "outputs": [
    {
     "data": {
      "text/plain": [
       "<matplotlib.collections.PathCollection at 0x1a22a1afd0>"
      ]
     },
     "execution_count": 368,
     "metadata": {},
     "output_type": "execute_result"
    },
    {
     "data": {
      "image/png": "[encoded data removed]",
      "text/plain": [
       "<matplotlib.figure.Figure at 0x1a2288eb70>"
      ]
     },
     "metadata": {},
     "output_type": "display_data"
    }
   ],
   "source": [
    "## from the graph above we can see cluster 9 and 1 contains most of the speeches, therefore I plot the occurecne of the two clusters\n",
    "years = [int(x) for x in speeches['year']]\n",
    "cluster_year = [[int(x == y) for x in y_means] for y in range(10)]\n",
    "plt.scatter(years,cluster_year[9],c = 'b')\n",
    "plt.scatter(years,cluster_year[1],c = 'r')"
   ]
  },
  {
   "cell_type": "code",
   "execution_count": null,
   "metadata": {},
   "outputs": [],
   "source": [
    "## from the graph above, we can see alternating occurrence of the two types"
   ]
  },
  {
   "cell_type": "code",
   "execution_count": 375,
   "metadata": {},
   "outputs": [],
   "source": [
    "#indices = [[i for i, x in enumerate(cluster_year[j]) if x == 1] for j in range(10)]\n"
   ]
  },
  {
   "cell_type": "code",
   "execution_count": 405,
   "metadata": {},
   "outputs": [],
   "source": [
    "### experiment with different number of clusters\n",
    "def experiemnt_with_different_cluster(k):\n",
    "    from sklearn.cluster import KMeans\n",
    "    model = KMeans(n_clusters=k)\n",
    "    sou_clust = model.fit(we)\n",
    "    y_means = sou_clust.predict(we)\n",
    "    from collections import Counter\n",
    "    \n",
    "    labels, values = zip(*Counter(y_means).items())\n",
    "    indexes = np.arange(len(labels))\n",
    "    width = 1\n",
    "    plt.bar(indexes, values, width)\n",
    "    plt.xticks(indexes + width * 0.5, labels)\n",
    "    plt.show()\n",
    "    \n",
    "    most_common = Counter(y_means).most_common(2)\n",
    "    cluster1 = most_common[0][0]\n",
    "    cluster2 = most_common[1][0]\n",
    "    \n",
    "    years = [int(x) for x in speeches['year']]\n",
    "    cluster_year = [[int(x == y) for x in y_means] for y in range(10)]\n",
    "    plt.scatter(years,cluster_year[cluster1],c = 'b')\n",
    "    plt.scatter(years,cluster_year[cluster2],c = 'r')\n",
    "\n",
    "    "
   ]
  },
  {
   "cell_type": "code",
   "execution_count": 419,
   "metadata": {},
   "outputs": [
    {
     "data": {
      "image/png": "[encoded data removed]",
      "text/plain": [
       "<matplotlib.figure.Figure at 0x1a298d3da0>"
      ]
     },
     "metadata": {},
     "output_type": "display_data"
    },
    {
     "data": {
      "image/png": "[encoded data removed]",
      "text/plain": [
       "<matplotlib.figure.Figure at 0x1a299ef6a0>"
      ]
     },
     "metadata": {},
     "output_type": "display_data"
    }
   ],
   "source": [
    "experiemnt_with_different_cluster(3)"
   ]
  },
  {
   "cell_type": "code",
   "execution_count": 416,
   "metadata": {},
   "outputs": [
    {
     "data": {
      "image/png": "[encoded data removed]",
      "text/plain": [
       "<matplotlib.figure.Figure at 0x1a1ddd1828>"
      ]
     },
     "metadata": {},
     "output_type": "display_data"
    },
    {
     "data": {
      "image/png": "[encoded data removed]",
      "text/plain": [
       "<matplotlib.figure.Figure at 0x1a29481f60>"
      ]
     },
     "metadata": {},
     "output_type": "display_data"
    }
   ],
   "source": [
    "experiemnt_with_different_cluster(5)"
   ]
  },
  {
   "cell_type": "code",
   "execution_count": 417,
   "metadata": {},
   "outputs": [
    {
     "data": {
      "image/png": "[encoded data removed]",
      "text/plain": [
       "<matplotlib.figure.Figure at 0x1a293737b8>"
      ]
     },
     "metadata": {},
     "output_type": "display_data"
    },
    {
     "data": {
      "image/png": "[encoded data removed]",
      "text/plain": [
       "<matplotlib.figure.Figure at 0x1a29423208>"
      ]
     },
     "metadata": {},
     "output_type": "display_data"
    }
   ],
   "source": [
    "experiemnt_with_different_cluster(7)"
   ]
  },
  {
   "cell_type": "code",
   "execution_count": 418,
   "metadata": {},
   "outputs": [
    {
     "data": {
      "image/png": "[encoded data removed]",
      "text/plain": [
       "<matplotlib.figure.Figure at 0x1a28350dd8>"
      ]
     },
     "metadata": {},
     "output_type": "display_data"
    },
    {
     "data": {
      "image/png": "[encoded data removed]",
      "text/plain": [
       "<matplotlib.figure.Figure at 0x1a2836f7b8>"
      ]
     },
     "metadata": {},
     "output_type": "display_data"
    }
   ],
   "source": [
    "experiemnt_with_different_cluster(9)"
   ]
  },
  {
   "cell_type": "markdown",
   "metadata": {},
   "source": [
    "Analysis:\n",
    "From the various cluster numbers experimented, we can see there are mostly two main clusters, with very few left in other clusters; the two main clusters occur in alternatinbg fashion. It is also obvious that there is there seems to be dominating cluster related with time: for example, from the 9 cluster graph we can see clearly that after 1900, the second cluster almost disappears with the first cluster. This can be interpreted that with the passing of time, wording tend to change in the political environment.\n",
    "\n",
    "However, the KMeans clustering methods are not stable in this case. I get very different results every time I run it. Therefore, the trend and interpretation above might be dubious. "
   ]
  }
 ],
 "metadata": {
  "kernelspec": {
   "display_name": "Python 3",
   "language": "python",
   "name": "python3"
  },
  "language_info": {
   "codemirror_mode": {
    "name": "ipython",
    "version": 3
   },
   "file_extension": ".py",
   "mimetype": "text/x-python",
   "name": "python",
   "nbconvert_exporter": "python",
   "pygments_lexer": "ipython3",
   "version": "3.6.4"
  }
 },
 "nbformat": 4,
 "nbformat_minor": 2
}
