{
 "cells": [
  {
   "cell_type": "code",
   "execution_count": 1,
   "metadata": {},
   "outputs": [],
   "source": [
    "import numpy as np\n",
    "import scipy\n",
    "from scipy.special import logsumexp"
   ]
  },
  {
   "cell_type": "code",
   "execution_count": 2,
   "metadata": {},
   "outputs": [],
   "source": [
    "X = np.load(\"X.npy\")"
   ]
  },
  {
   "cell_type": "code",
   "execution_count": 7,
   "metadata": {},
   "outputs": [],
   "source": [
    "a0 = np.array([0.5,0.4,0.1])\n",
    "b0 = np.array([0.5,0.4,0.1])\n",
    "c0 = np.array([0.5,0.4,0.1])\n",
    "#pi0 = [float(1)/(d-3)] * (d-3)"
   ]
  },
  {
   "cell_type": "code",
   "execution_count": 18,
   "metadata": {},
   "outputs": [],
   "source": [
    "a1 = np.array([0.9,0.05,0.05])\n",
    "b1 = np.array([0.9,0.05,0.05])\n",
    "c1 = np.array([0.9,0.05,0.05])"
   ]
  },
  {
   "cell_type": "code",
   "execution_count": 14,
   "metadata": {},
   "outputs": [],
   "source": [
    "def my_E(X,a,b,c,pi):\n",
    "    n,d = X.shape\n",
    "    V = np.zeros([n,d-3])\n",
    "    W = np.zeros([n,d-3])\n",
    "    for k in range(d-3):\n",
    "        #print(k)\n",
    "        loga = np.log(a[X[:,k]]) + np.log(a[X[:,k+1]])\n",
    "        logb = np.log(b[X[:,k+2]]) + np.log(b[X[:,k+3]])        \n",
    "        logc = np.sum(np.array([np.log(c[X[:,p]]) for p in range(d) if p not in range(k,k+4)]), axis = 0)\n",
    "        V[:,k] = np.log(pi[k]) + loga+logb+logc\n",
    "    \n",
    "    dd = logsumexp(V, axis = 1)\n",
    "    #print(dd.shape)\n",
    "    W = np.exp(V - dd[:,None])\n",
    "\n",
    "    return(W)\n",
    "    "
   ]
  },
  {
   "cell_type": "code",
   "execution_count": 26,
   "metadata": {},
   "outputs": [],
   "source": [
    "def my_EM(X=X, eps = 0.001, a = a0, b = b0, c=c0):\n",
    "    n,d = X.shape\n",
    "    \n",
    "    ## initializatio:\n",
    "    #a = np.array([0.5,0.4,0.1])\n",
    "    #b = np.array([0.5,0.4,0.1])\n",
    "    #c = np.array([0.5,0.4,0.1]) \n",
    "    \n",
    "    theta = np.concatenate((a,b,c))\n",
    "    \n",
    "    pi = [float(1)/(d-3)] * (d-3)\n",
    "    \n",
    "    N = 1000\n",
    "    \n",
    "    ## loop\n",
    "    for step in range(N):\n",
    "        #print(step)\n",
    "        ## E step \n",
    "        W = my_E(X=X,a=a,b=b,c=c,pi=pi)\n",
    "        \n",
    "        pi = W.mean(axis = 0)\n",
    "        \n",
    "        \n",
    "        ## store necessary info in am, bm,cm\n",
    "        am = np.zeros([n,d-3,3])\n",
    "        bm = am.copy()\n",
    "        cm = am.copy()        \n",
    "        for k in range(d-3):\n",
    "            for i in range(3):\n",
    "                am[:,k,i] = (X[:,k:k+2] == i).sum(axis = 1) * W[:,k]\n",
    "                bm[:,k,i] = (X[:,k+2:k+4] == i).sum(axis = 1) * W[:,k]\n",
    "                cm[:,k,i] = ((X[:,:k] == i).sum(axis = 1)+\n",
    "                             (X[:,k+4:] == i).sum(axis = 1)) * W[:,k]\n",
    "        \n",
    "        ## use am, bm, cm to update a,b,c\n",
    "        for i in range(3):\n",
    "            a[i] = am[:,:,i].sum()/am.sum()\n",
    "            #print(a[i])\n",
    "            b[i] = bm[:,:,i].sum()/bm.sum()\n",
    "            c[i] = cm[:,:,i].sum()/cm.sum()\n",
    "            \n",
    "        ## compare progress with  eps\n",
    "        theta_old = theta.copy()\n",
    "        theta = np.concatenate((a,b,c))\n",
    "        \n",
    "        prog = np.linalg.norm(theta-theta_old)/np.linalg.norm(theta_old)\n",
    "        if prog < eps:\n",
    "            print(\"break after step: \"+ str(k))\n",
    "            break\n",
    "    \n",
    "    \n",
    "    return(a,b,c,pi)\n",
    "            \n",
    "        \n",
    "            \n",
    "    \n",
    "    \n",
    "    \n",
    "    "
   ]
  },
  {
   "cell_type": "code",
   "execution_count": 27,
   "metadata": {},
   "outputs": [
    {
     "name": "stdout",
     "output_type": "stream",
     "text": [
      "break after step: 16\n"
     ]
    }
   ],
   "source": [
    "af,bf,cf,pi = my_EM()"
   ]
  },
  {
   "cell_type": "code",
   "execution_count": 28,
   "metadata": {},
   "outputs": [
    {
     "name": "stdout",
     "output_type": "stream",
     "text": [
      "a:\n",
      "[0.02949659 0.00550341 0.965     ]\n",
      "b:\n",
      "[1.50770244e-01 8.49229755e-01 6.02883288e-10]\n",
      "c:\n",
      "[9.07466646e-01 9.25333537e-02 6.71804088e-13]\n",
      "pi:\n",
      "[0.27       0.15       0.05932878 0.08067122 0.09       0.05\n",
      " 0.06       0.01       0.03017789 0.04964423 0.02017789 0.03\n",
      " 0.00966439 0.01033561 0.02017789 0.04982211 0.01      ]\n"
     ]
    }
   ],
   "source": [
    "print(\"a:\")\n",
    "print(af)\n",
    "print(\"b:\")\n",
    "print(bf)\n",
    "print(\"c:\")\n",
    "print(cf)\n",
    "print(\"pi:\")\n",
    "print(pi)"
   ]
  },
  {
   "cell_type": "code",
   "execution_count": 29,
   "metadata": {},
   "outputs": [
    {
     "name": "stdout",
     "output_type": "stream",
     "text": [
      "break after step: 16\n"
     ]
    }
   ],
   "source": [
    "af1,bf1,cf1,pi1 = my_EM(a= a1,b=b1,c=c1)"
   ]
  },
  {
   "cell_type": "code",
   "execution_count": 30,
   "metadata": {},
   "outputs": [
    {
     "name": "stdout",
     "output_type": "stream",
     "text": [
      "a:\n",
      "[0.02951906 0.00548094 0.965     ]\n",
      "b:\n",
      "[1.50747660e-01 8.49252340e-01 8.54105684e-12]\n",
      "c:\n",
      "[9.07466660e-01 9.25333401e-02 1.29028877e-15]\n",
      "pi:\n",
      "[0.27       0.15       0.05935875 0.08064125 0.09       0.05\n",
      " 0.06       0.01       0.03017781 0.04964437 0.02017781 0.03\n",
      " 0.00967937 0.01032063 0.02017781 0.04982219 0.01      ]\n"
     ]
    }
   ],
   "source": [
    "print(\"a:\")\n",
    "print(af1)\n",
    "print(\"b:\")\n",
    "print(bf1)\n",
    "print(\"c:\")\n",
    "print(cf1)\n",
    "print(\"pi:\")\n",
    "print(pi1)"
   ]
  },
  {
   "cell_type": "markdown",
   "metadata": {},
   "source": [
    "## Comment:\n",
    "From the result above, we can see the EM algorithm manages to output satisfactory parameters for this toy problem. Even after changing the initial conditions of a,b,c, the algorthm seems to be able to get similar results."
   ]
  },
  {
   "cell_type": "code",
   "execution_count": null,
   "metadata": {},
   "outputs": [],
   "source": []
  }
 ],
 "metadata": {
  "kernelspec": {
   "display_name": "Python 3",
   "language": "python",
   "name": "python3"
  },
  "language_info": {
   "codemirror_mode": {
    "name": "ipython",
    "version": 3
   },
   "file_extension": ".py",
   "mimetype": "text/x-python",
   "name": "python",
   "nbconvert_exporter": "python",
   "pygments_lexer": "ipython3",
   "version": "3.6.4"
  }
 },
 "nbformat": 4,
 "nbformat_minor": 2
}
