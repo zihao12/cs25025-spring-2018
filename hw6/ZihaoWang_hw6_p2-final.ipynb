{
 "cells": [
  {
   "cell_type": "code",
   "execution_count": 36,
   "metadata": {},
   "outputs": [
    {
     "name": "stdout",
     "output_type": "stream",
     "text": [
      "[nltk_data] Downloading package punkt to /Users/wangzh/nltk_data...\n",
      "[nltk_data]   Package punkt is already up-to-date!\n"
     ]
    }
   ],
   "source": [
    "import numpy as np\n",
    "import pandas as pd\n",
    "import matplotlib.pyplot as plt\n",
    "import sklearn\n",
    "import pickle\n",
    "import nltk\n",
    "nltk.download('punkt')\n",
    "import itertools\n",
    "import time\n",
    "import scipy.sparse as sparse\n",
    "from sklearn.ensemble import RandomForestClassifier,AdaBoostClassifier"
   ]
  },
  {
   "cell_type": "code",
   "execution_count": 2,
   "metadata": {},
   "outputs": [],
   "source": [
    "data = np.float64(np.load(\"../MNIST.npy\"))\n",
    "labels = np.float64(np.load(\"../MNIST_labels.npy\"))\n",
    "from sklearn.model_selection import train_test_split\n",
    "X_train,X_test,y_train,y_test = train_test_split(data,labels,\n",
    "                                                 test_size = float(2/7), \n",
    "                                                 random_state = 12345)\n",
    "X_val, X_test, y_val, y_test = train_test_split(X_test,y_test,\n",
    "                                               test_size = 0.5,\n",
    "                                               random_state = 12345)"
   ]
  },
  {
   "cell_type": "code",
   "execution_count": 3,
   "metadata": {},
   "outputs": [],
   "source": [
    "mytrain_x = X_train[:5000]\n",
    "mytrain_y = y_train[:5000]\n",
    "mytest_x = X_test[:100]\n",
    "mytest_y = y_test[:100]\n",
    "myval_x = X_val[:500]\n",
    "myval_y = y_val[:500]\n"
   ]
  },
  {
   "cell_type": "markdown",
   "metadata": {},
   "source": [
    "# (a) Experiment with RandomForestClassifier"
   ]
  },
  {
   "cell_type": "code",
   "execution_count": 3,
   "metadata": {},
   "outputs": [
    {
     "data": {
      "text/plain": [
       "RandomForestClassifier(bootstrap=True, class_weight=None, criterion='entropy',\n",
       "            max_depth=None, max_features=50, max_leaf_nodes=None,\n",
       "            min_impurity_decrease=0.0, min_impurity_split=None,\n",
       "            min_samples_leaf=1, min_samples_split=100,\n",
       "            min_weight_fraction_leaf=0.0, n_estimators=10, n_jobs=1,\n",
       "            oob_score=False, random_state=None, verbose=0,\n",
       "            warm_start=False)"
      ]
     },
     "execution_count": 3,
     "metadata": {},
     "output_type": "execute_result"
    }
   ],
   "source": [
    "num_trees = 10\n",
    "min_sam =100\n",
    "max_fea = 50\n",
    "clf = RandomForestClassifier(\n",
    "    n_estimators=num_trees,min_samples_split=min_sam,criterion = \"entropy\",\n",
    "max_features = max_fea)\n",
    "\n",
    "clf.fit(X_train,y_train)"
   ]
  },
  {
   "cell_type": "code",
   "execution_count": 4,
   "metadata": {},
   "outputs": [],
   "source": [
    "pred_val = clf.predict(X_val)"
   ]
  },
  {
   "cell_type": "code",
   "execution_count": 6,
   "metadata": {},
   "outputs": [],
   "source": [
    "error = np.count_nonzero(pred_val - y_val)/len(y_val)"
   ]
  },
  {
   "cell_type": "code",
   "execution_count": 7,
   "metadata": {},
   "outputs": [
    {
     "data": {
      "text/plain": [
       "0.0715"
      ]
     },
     "execution_count": 7,
     "metadata": {},
     "output_type": "execute_result"
    }
   ],
   "source": [
    "error"
   ]
  },
  {
   "cell_type": "code",
   "execution_count": 8,
   "metadata": {},
   "outputs": [],
   "source": [
    "pred_prob_val = clf.predict_proba(X_val)"
   ]
  },
  {
   "cell_type": "code",
   "execution_count": 9,
   "metadata": {},
   "outputs": [
    {
     "data": {
      "text/plain": [
       "(10000, 10)"
      ]
     },
     "execution_count": 9,
     "metadata": {},
     "output_type": "execute_result"
    }
   ],
   "source": [
    "pred_prob_val.shape"
   ]
  },
  {
   "cell_type": "code",
   "execution_count": 57,
   "metadata": {},
   "outputs": [],
   "source": [
    "def my_forest(num_trees,min_sam=10,max_fea=10):\n",
    "    clf = RandomForestClassifier(\n",
    "    n_estimators=num_trees,min_samples_split=min_sam,criterion = \"entropy\",\n",
    "max_features = max_fea)\n",
    "    \n",
    "    start = time.time()\n",
    "    clf.fit(X_train,y_train)\n",
    "    fit_time = time.time() - start\n",
    "    \n",
    "    pred_tra = clf.predict(X_train)\n",
    "    pred_val = clf.predict(X_val)\n",
    "    \n",
    "    err_val = np.count_nonzero(pred_val - y_val)/len(y_val)\n",
    "    err_tra = np.count_nonzero(pred_tra - y_train)/len(y_train)\n",
    "    \n",
    "    return(err_tra,err_val,fit_time)\n",
    "    "
   ]
  },
  {
   "cell_type": "code",
   "execution_count": 58,
   "metadata": {},
   "outputs": [
    {
     "data": {
      "text/plain": [
       "(0.0105, 0.0632, 1.2128288745880127)"
      ]
     },
     "execution_count": 58,
     "metadata": {},
     "output_type": "execute_result"
    }
   ],
   "source": [
    "my_forest(num_trees=10)"
   ]
  },
  {
   "cell_type": "markdown",
   "metadata": {},
   "source": [
    "## Fix min_samples = 10 and max_features = 10 and tune num_trees"
   ]
  },
  {
   "cell_type": "code",
   "execution_count": 59,
   "metadata": {},
   "outputs": [],
   "source": [
    "nums_trees = [10,20,30,40,100,1000,600]\n",
    "#nums_trees = [10,20,30,40,100]\n",
    "errs_tra = []\n",
    "errs_val = []\n",
    "times = []\n",
    "for x in nums_trees:\n",
    "    e1,e2,t = my_forest(num_trees=x)\n",
    "    errs_tra.append(e1)\n",
    "    errs_val.append(e2)\n",
    "    times.append(t)\n",
    "    "
   ]
  },
  {
   "cell_type": "code",
   "execution_count": 79,
   "metadata": {},
   "outputs": [
    {
     "data": {
      "text/plain": [
       "[1.3836920261383057,\n",
       " 2.726815938949585,\n",
       " 3.9291470050811768,\n",
       " 5.191199779510498,\n",
       " 12.848658084869385,\n",
       " 130.29941511154175,\n",
       " 76.91189503669739]"
      ]
     },
     "execution_count": 79,
     "metadata": {},
     "output_type": "execute_result"
    }
   ],
   "source": [
    "times"
   ]
  },
  {
   "cell_type": "code",
   "execution_count": 72,
   "metadata": {},
   "outputs": [],
   "source": [
    "nums_trees = [10,20,30,40,100,1000,600]"
   ]
  },
  {
   "cell_type": "code",
   "execution_count": 75,
   "metadata": {},
   "outputs": [
    {
     "data": {
      "image/png": "[encoded data removed]",
      "text/plain": [
       "<matplotlib.figure.Figure at 0x1a2fb44fd0>"
      ]
     },
     "metadata": {},
     "output_type": "display_data"
    },
    {
     "data": {
      "text/plain": [
       "[<matplotlib.lines.Line2D at 0x10bfc6710>]"
      ]
     },
     "execution_count": 75,
     "metadata": {},
     "output_type": "execute_result"
    },
    {
     "data": {
      "image/png": "[encoded data removed]",
      "text/plain": [
       "<matplotlib.figure.Figure at 0x10bf5e780>"
      ]
     },
     "metadata": {},
     "output_type": "display_data"
    }
   ],
   "source": [
    "plt.plot(nums_trees,errs_val)\n",
    "plt.show()\n",
    "plt.plot(nums_trees,errs_tra)"
   ]
  },
  {
   "cell_type": "markdown",
   "metadata": {},
   "source": [
    "### Comment:\n",
    "From the results above we can see that increased number of trees help reduce variance and therefore reduce error on both training and validation data. However, when the tree number is big enough, the improvement is not that significant compared to when the number of trees is small. "
   ]
  },
  {
   "cell_type": "markdown",
   "metadata": {},
   "source": [
    "## Fix num_trees = 5, min_samples = 10, and tune max_features"
   ]
  },
  {
   "cell_type": "code",
   "execution_count": 62,
   "metadata": {},
   "outputs": [],
   "source": [
    "max_fea = [10,30,50,70,90]\n",
    "errs_tra_f = []\n",
    "errs_val_f = []\n",
    "times_f = []\n",
    "for x in max_fea:\n",
    "    e1,e2,t = my_forest(num_trees=5,max_fea=x)\n",
    "    errs_tra_f.append(e1)\n",
    "    errs_val_f.append(e2)\n",
    "    times_f.append(t)"
   ]
  },
  {
   "cell_type": "code",
   "execution_count": 64,
   "metadata": {},
   "outputs": [
    {
     "data": {
      "image/png": "[encoded data removed]",
      "text/plain": [
       "<matplotlib.figure.Figure at 0x1a47c379b0>"
      ]
     },
     "metadata": {},
     "output_type": "display_data"
    },
    {
     "data": {
      "text/plain": [
       "[<matplotlib.lines.Line2D at 0x1a59eca630>]"
      ]
     },
     "execution_count": 64,
     "metadata": {},
     "output_type": "execute_result"
    },
    {
     "data": {
      "image/png": "[encoded data removed]",
      "text/plain": [
       "<matplotlib.figure.Figure at 0x1a1201ab00>"
      ]
     },
     "metadata": {},
     "output_type": "display_data"
    }
   ],
   "source": [
    "plt.plot(max_fea,errs_tra_f)\n",
    "plt.show()\n",
    "plt.plot(max_fea,errs_val_f)"
   ]
  },
  {
   "cell_type": "markdown",
   "metadata": {},
   "source": [
    "### Comment:\n",
    "From the results above, we can see increased number of max_features help reduce error rate on both training and validation data, until it reaches a certain number (70 in this case). However, the effect of max_features is correlated with min_samples. So comprehensive experiements are needed. "
   ]
  },
  {
   "cell_type": "markdown",
   "metadata": {},
   "source": [
    "## Fix num_trees = 10, max_features =70 and tune min_samples"
   ]
  },
  {
   "cell_type": "code",
   "execution_count": 69,
   "metadata": {},
   "outputs": [],
   "source": [
    "min_samples = [3,5,10,50,100,500]\n",
    "errs_tra_s = []\n",
    "errs_val_s = []\n",
    "times_s = []\n",
    "for x in min_samples:\n",
    "    e1,e2,t = my_forest(num_trees=5,max_fea=70,min_sam=x)\n",
    "    errs_tra_s.append(e1)\n",
    "    errs_val_s.append(e2)\n",
    "    times_s.append(t)"
   ]
  },
  {
   "cell_type": "code",
   "execution_count": 70,
   "metadata": {},
   "outputs": [
    {
     "data": {
      "image/png": "[encoded data removed]",
      "text/plain": [
       "<matplotlib.figure.Figure at 0x1a119acdd8>"
      ]
     },
     "metadata": {},
     "output_type": "display_data"
    },
    {
     "data": {
      "text/plain": [
       "[<matplotlib.lines.Line2D at 0x1a59e71518>]"
      ]
     },
     "execution_count": 70,
     "metadata": {},
     "output_type": "execute_result"
    },
    {
     "data": {
      "image/png": "[encoded data removed]",
      "text/plain": [
       "<matplotlib.figure.Figure at 0x1a11bafb38>"
      ]
     },
     "metadata": {},
     "output_type": "display_data"
    }
   ],
   "source": [
    "plt.plot(min_samples,errs_tra_s)\n",
    "plt.show()\n",
    "plt.plot(min_samples,errs_val_s)"
   ]
  },
  {
   "cell_type": "markdown",
   "metadata": {},
   "source": [
    "### Comment:\n",
    "From the results above we can see the improvement decreases with increasing number of min_samples, until it is too small (3, in this case) which will cause overfitting. However, as there is correlatio between min_samples and max_features, more comprehensive experiments are needed."
   ]
  },
  {
   "cell_type": "markdown",
   "metadata": {},
   "source": [
    "## Run on test data with best protocol\n",
    "For effiency concern I use 100 trees. Then the combination is (num_trees = 100, min_samples = 10, max_samples = 70)"
   ]
  },
  {
   "cell_type": "code",
   "execution_count": 71,
   "metadata": {},
   "outputs": [
    {
     "data": {
      "text/plain": [
       "RandomForestClassifier(bootstrap=True, class_weight=None, criterion='entropy',\n",
       "            max_depth=None, max_features=70, max_leaf_nodes=None,\n",
       "            min_impurity_decrease=0.0, min_impurity_split=None,\n",
       "            min_samples_leaf=1, min_samples_split=10,\n",
       "            min_weight_fraction_leaf=0.0, n_estimators=100, n_jobs=1,\n",
       "            oob_score=False, random_state=None, verbose=0,\n",
       "            warm_start=False)"
      ]
     },
     "execution_count": 71,
     "metadata": {},
     "output_type": "execute_result"
    }
   ],
   "source": [
    "num_trees = 100\n",
    "min_sam =10\n",
    "max_fea = 70\n",
    "clf = RandomForestClassifier(\n",
    "    n_estimators=num_trees,min_samples_split=min_sam,criterion = \"entropy\",\n",
    "max_features = max_fea)\n",
    "clf.fit(X_train,y_train)\n"
   ]
  },
  {
   "cell_type": "code",
   "execution_count": 72,
   "metadata": {},
   "outputs": [
    {
     "data": {
      "text/plain": [
       "0.0354"
      ]
     },
     "execution_count": 72,
     "metadata": {},
     "output_type": "execute_result"
    }
   ],
   "source": [
    "pred_test = clf.predict(X_test)\n",
    "err_test = np.count_nonzero(pred_test - y_test)/len(y_test)\n",
    "err_test"
   ]
  },
  {
   "cell_type": "markdown",
   "metadata": {},
   "source": [
    "# (b) "
   ]
  },
  {
   "cell_type": "code",
   "execution_count": 71,
   "metadata": {},
   "outputs": [],
   "source": [
    "def my_boostforest(n_estimators=10,min_sam=10,max_fea=10, num_trees=1):\n",
    "    clfb = RandomForestClassifier(\n",
    "    n_estimators=num_trees,min_samples_split=min_sam,criterion = \"entropy\",\n",
    "    max_features = max_fea)\n",
    "    adb = AdaBoostClassifier(\n",
    "        clfb,n_estimators=n_estimators,algorithm='SAMME',random_state=12345)\n",
    "    start = time.time()\n",
    "    adb.fit(X_train,y_train)\n",
    "    fit_time = time.time() - start\n",
    "    \n",
    "    return(adb,fit_time)"
   ]
  },
  {
   "cell_type": "code",
   "execution_count": 97,
   "metadata": {},
   "outputs": [
    {
     "data": {
      "text/plain": [
       "(AdaBoostClassifier(algorithm='SAMME',\n",
       "           base_estimator=RandomForestClassifier(bootstrap=True, class_weight=None, criterion='entropy',\n",
       "             max_depth=None, max_features=10, max_leaf_nodes=None,\n",
       "             min_impurity_decrease=0.0, min_impurity_split=None,\n",
       "             min_samples_leaf=1, min_samples_split=10,\n",
       "             min_weight_fraction_leaf=0.0, n_estimators=1, n_jobs=1,\n",
       "             oob_score=False, random_state=None, verbose=0,\n",
       "             warm_start=False),\n",
       "           learning_rate=1.0, n_estimators=10, random_state=12345),\n",
       " 1.8059000968933105)"
      ]
     },
     "execution_count": 97,
     "metadata": {},
     "output_type": "execute_result"
    }
   ],
   "source": [
    "my_boostforest()"
   ]
  },
  {
   "cell_type": "code",
   "execution_count": 45,
   "metadata": {},
   "outputs": [],
   "source": [
    "def predict_eval(adb,X=X_val,y=y_val):\n",
    "    adb_pred = adb.predict(X)\n",
    "    adb_err = np.count_nonzero(adb_pred - y)/len(y)\n",
    "    return(adb_err)"
   ]
  },
  {
   "cell_type": "markdown",
   "metadata": {},
   "source": [
    "## Fix min_samples = 10, max_features = 10, num_trees = 1, and tune n_estimators"
   ]
  },
  {
   "cell_type": "code",
   "execution_count": 73,
   "metadata": {},
   "outputs": [],
   "source": [
    "nums_est = [10,50,100,150,200]\n",
    "adbs = []\n",
    "adb_times = []\n",
    "adbne_errs_val = []\n",
    "adbne_errs_tra = []\n",
    "for x in nums_est:\n",
    "    a,t = my_boostforest(n_estimators=x)\n",
    "    adbs.append(a)\n",
    "    adb_times.append(t)\n",
    "    adbne_errs_tra.append(predict_eval(a,X=X_train,y=y_train))\n",
    "    adbne_errs_val.append(predict_eval(a,X=X_val,y=y_val))"
   ]
  },
  {
   "cell_type": "code",
   "execution_count": 76,
   "metadata": {},
   "outputs": [
    {
     "data": {
      "image/png": "[encoded data removed]",
      "text/plain": [
       "<matplotlib.figure.Figure at 0x1a11bb6c50>"
      ]
     },
     "metadata": {},
     "output_type": "display_data"
    },
    {
     "data": {
      "image/png": "[encoded data removed]",
      "text/plain": [
       "<matplotlib.figure.Figure at 0x1a145456a0>"
      ]
     },
     "metadata": {},
     "output_type": "display_data"
    }
   ],
   "source": [
    "plt.plot(nums_est,adbne_errs_tra)\n",
    "plt.show()\n",
    "plt.plot(nums_est,adbne_errs_val)\n",
    "plt.show()"
   ]
  },
  {
   "cell_type": "markdown",
   "metadata": {},
   "source": [
    "### Comment:\n",
    "From results above, we can see n_estimates = 50 is sufficent."
   ]
  },
  {
   "cell_type": "markdown",
   "metadata": {},
   "source": [
    "## Fix n_estimators = 10, min_samples = 10, num_trees = 1, and tune max_features"
   ]
  },
  {
   "cell_type": "code",
   "execution_count": 80,
   "metadata": {},
   "outputs": [],
   "source": [
    "max_fea = [10,50,100]\n",
    "adbs_f = []\n",
    "adb_times_f = []\n",
    "adbf_errs_val = []\n",
    "adbf_errs_tra = []\n",
    "for x in max_fea:\n",
    "    a,t = my_boostforest(n_estimators=10,max_fea=x)\n",
    "    adbs_f.append(a)\n",
    "    adb_times_f.append(t)\n",
    "    adbf_errs_tra.append(predict_eval(a,X=X_train,y=y_train))\n",
    "    adbf_errs_val.append(predict_eval(a,X=X_val,y=y_val))"
   ]
  },
  {
   "cell_type": "code",
   "execution_count": 81,
   "metadata": {},
   "outputs": [
    {
     "data": {
      "image/png": "[encoded data removed]",
      "text/plain": [
       "<matplotlib.figure.Figure at 0x1a51bb6be0>"
      ]
     },
     "metadata": {},
     "output_type": "display_data"
    },
    {
     "data": {
      "image/png": "[encoded data removed]",
      "text/plain": [
       "<matplotlib.figure.Figure at 0x1a13365b00>"
      ]
     },
     "metadata": {},
     "output_type": "display_data"
    }
   ],
   "source": [
    "plt.plot(max_fea,adbf_errs_tra)\n",
    "plt.show()\n",
    "plt.plot(max_fea,adbf_errs_val)\n",
    "plt.show()"
   ]
  },
  {
   "cell_type": "code",
   "execution_count": 82,
   "metadata": {},
   "outputs": [],
   "source": [
    "max_fea2 = [200,300]\n",
    "for x in max_fea2:\n",
    "    a,t = my_boostforest(n_estimators=10,max_fea=x)\n",
    "    adbs_f.append(a)\n",
    "    adb_times_f.append(t)\n",
    "    adbf_errs_tra.append(predict_eval(a,X=X_train,y=y_train))\n",
    "    adbf_errs_val.append(predict_eval(a,X=X_val,y=y_val))"
   ]
  },
  {
   "cell_type": "code",
   "execution_count": 83,
   "metadata": {},
   "outputs": [
    {
     "data": {
      "text/plain": [
       "[0.1028, 0.0793, 0.069, 0.0674, 0.062]"
      ]
     },
     "execution_count": 83,
     "metadata": {},
     "output_type": "execute_result"
    }
   ],
   "source": [
    "adbf_errs_val"
   ]
  },
  {
   "cell_type": "code",
   "execution_count": 84,
   "metadata": {},
   "outputs": [
    {
     "data": {
      "text/plain": [
       "[1.8186509609222412,\n",
       " 5.622082948684692,\n",
       " 10.067394256591797,\n",
       " 18.769381046295166,\n",
       " 27.02329421043396]"
      ]
     },
     "execution_count": 84,
     "metadata": {},
     "output_type": "execute_result"
    }
   ],
   "source": [
    "adb_times_f"
   ]
  },
  {
   "cell_type": "code",
   "execution_count": 85,
   "metadata": {},
   "outputs": [],
   "source": [
    "max_fea3 = [500]\n",
    "for x in max_fea3:\n",
    "    a,t = my_boostforest(n_estimators=10,max_fea=x)\n",
    "    adbs_f.append(a)\n",
    "    adb_times_f.append(t)\n",
    "    adbf_errs_tra.append(predict_eval(a,X=X_train,y=y_train))\n",
    "    adbf_errs_val.append(predict_eval(a,X=X_val,y=y_val))"
   ]
  },
  {
   "cell_type": "code",
   "execution_count": 89,
   "metadata": {},
   "outputs": [],
   "source": [
    "max_fea4 = [700]\n",
    "for x in max_fea4:\n",
    "    a,t = my_boostforest(n_estimators=10,max_fea=x)\n",
    "    adbs_f.append(a)\n",
    "    adb_times_f.append(t)\n",
    "    adbf_errs_tra.append(predict_eval(a,X=X_train,y=y_train))\n",
    "    adbf_errs_val.append(predict_eval(a,X=X_val,y=y_val))"
   ]
  },
  {
   "cell_type": "code",
   "execution_count": 92,
   "metadata": {},
   "outputs": [
    {
     "data": {
      "image/png": "[encoded data removed]",
      "text/plain": [
       "<matplotlib.figure.Figure at 0x1a1336f4e0>"
      ]
     },
     "metadata": {},
     "output_type": "display_data"
    },
    {
     "data": {
      "image/png": "[encoded data removed]",
      "text/plain": [
       "<matplotlib.figure.Figure at 0x1a864e1518>"
      ]
     },
     "metadata": {},
     "output_type": "display_data"
    }
   ],
   "source": [
    "plt.plot(max_fea+max_fea2+max_fea3+max_fea4,adbf_errs_tra)\n",
    "plt.show()\n",
    "plt.plot(max_fea+max_fea2+max_fea3+max_fea4,adbf_errs_val)\n",
    "plt.show()"
   ]
  },
  {
   "cell_type": "markdown",
   "metadata": {},
   "source": [
    "### Comment:\n",
    "From results above, we can see the best performance on validation data is achieved at max_features = 500, much higher than in RandomForestClassifier. "
   ]
  },
  {
   "cell_type": "markdown",
   "metadata": {},
   "source": [
    "## Fix n_estimators = 10, max_features = 10, num_trees = 1, and tune min_samples "
   ]
  },
  {
   "cell_type": "code",
   "execution_count": 94,
   "metadata": {},
   "outputs": [],
   "source": [
    "min_sam = [10,50,100,500]\n",
    "adbs_s = []\n",
    "adb_times_s = []\n",
    "adbs_errs_tra = []\n",
    "adbs_errs_val = []\n",
    "for x in min_sam:\n",
    "    a,t = my_boostforest(n_estimators=10,min_sam = x)\n",
    "    adbs_s.append(a)\n",
    "    adb_times_s.append(t)\n",
    "    adbs_errs_tra.append(predict_eval(a,X=X_train,y=y_train))\n",
    "    adbs_errs_val.append(predict_eval(a,X=X_val,y=y_val))"
   ]
  },
  {
   "cell_type": "code",
   "execution_count": 95,
   "metadata": {},
   "outputs": [
    {
     "data": {
      "image/png": "[encoded data removed]",
      "text/plain": [
       "<matplotlib.figure.Figure at 0x1a82783860>"
      ]
     },
     "metadata": {},
     "output_type": "display_data"
    },
    {
     "data": {
      "image/png": "[encoded data removed]",
      "text/plain": [
       "<matplotlib.figure.Figure at 0x1a82767320>"
      ]
     },
     "metadata": {},
     "output_type": "display_data"
    }
   ],
   "source": [
    "plt.plot(min_sam,adbs_errs_tra)\n",
    "plt.show()\n",
    "plt.plot(min_sam,adbs_errs_val)\n",
    "plt.show()"
   ]
  },
  {
   "cell_type": "markdown",
   "metadata": {},
   "source": [
    "### Comment:\n",
    "Similar to previous cases, error rate on both training and validation increases as min_samples increase."
   ]
  },
  {
   "cell_type": "markdown",
   "metadata": {},
   "source": [
    "## Fix n_estimators = 10, max_features = 10, min_samples = 10, and tune num_trees  "
   ]
  },
  {
   "cell_type": "code",
   "execution_count": 101,
   "metadata": {},
   "outputs": [],
   "source": [
    "num_trees = [1,10,30,50]\n",
    "adbs_t = []\n",
    "adb_times_t = []\n",
    "adbt_errs_tra = []\n",
    "adbt_errs_val = []\n",
    "for x in num_trees:\n",
    "    a,t = my_boostforest(n_estimators=10,num_trees = x)\n",
    "    adbs_t.append(a)\n",
    "    adb_times_t.append(t)\n",
    "    adbt_errs_tra.append(predict_eval(a,X=X_train,y=y_train))\n",
    "    adbt_errs_val.append(predict_eval(a,X=X_val,y=y_val))"
   ]
  },
  {
   "cell_type": "code",
   "execution_count": 102,
   "metadata": {},
   "outputs": [
    {
     "data": {
      "image/png": "[encoded data removed]",
      "text/plain": [
       "<matplotlib.figure.Figure at 0x1a13a47da0>"
      ]
     },
     "metadata": {},
     "output_type": "display_data"
    },
    {
     "data": {
      "image/png": "[encoded data removed]",
      "text/plain": [
       "<matplotlib.figure.Figure at 0x1a59e7dc88>"
      ]
     },
     "metadata": {},
     "output_type": "display_data"
    }
   ],
   "source": [
    "plt.plot(num_trees,adbt_errs_tra)\n",
    "plt.show()\n",
    "plt.plot(num_trees,adbt_errs_val)\n",
    "plt.show()"
   ]
  },
  {
   "cell_type": "markdown",
   "metadata": {},
   "source": [
    "### Comment:\n",
    "From results above, we can see error_rate decreases as the number of trees in the base_estimator increases. However, it is sufficient to use num_trees = 10 as the improvement gets very small when the tree number gets bigger."
   ]
  },
  {
   "cell_type": "markdown",
   "metadata": {},
   "source": [
    "## Run on test data with best protocol\n",
    "Considering effiency we set (num_trees = 10, n_estimators = 50, min_samples = 10, max_features = 10)"
   ]
  },
  {
   "cell_type": "code",
   "execution_count": 104,
   "metadata": {},
   "outputs": [],
   "source": [
    "best_adb,t = my_boostforest(num_trees = 10, n_estimators= 50, min_sam = 10, max_fea = 10)"
   ]
  },
  {
   "cell_type": "code",
   "execution_count": 106,
   "metadata": {},
   "outputs": [],
   "source": [
    "best_adb_err_test = predict_eval(best_adb,X=X_test,y=y_test)"
   ]
  },
  {
   "cell_type": "code",
   "execution_count": 107,
   "metadata": {},
   "outputs": [
    {
     "data": {
      "text/plain": [
       "0.0337"
      ]
     },
     "execution_count": 107,
     "metadata": {},
     "output_type": "execute_result"
    }
   ],
   "source": [
    "best_adb_err_test"
   ]
  },
  {
   "cell_type": "markdown",
   "metadata": {},
   "source": [
    "### Comparison with RandomForestClassifier\n",
    "The best error rate decreases a little bit compared with the previous best model. The max_features is much larger in order to achieve good result. "
   ]
  },
  {
   "cell_type": "markdown",
   "metadata": {},
   "source": [
    "# (c) implement differen reweighting rule "
   ]
  },
  {
   "cell_type": "code",
   "execution_count": 4,
   "metadata": {},
   "outputs": [],
   "source": [
    "## fit model with boost random forest with weight update: w = w/e\n",
    "def my_boostforest2(num_est=10, num_trees = 10, min_sam = 10, max_fea = 10,\n",
    "                    X = mytrain_x, y = mytrain_y):\n",
    "    \n",
    "    ## initialzation\n",
    "    l = len(y)\n",
    "    trees = []\n",
    "    weights = np.array([1/float(l)]*l)\n",
    "    \n",
    "    for i in range(num_trees):\n",
    "        clf = RandomForestClassifier(\n",
    "        n_estimators=num_est, min_samples_split=min_sam,max_features=max_fea, \n",
    "        criterion= \"entropy\")\n",
    "        new_tree = clf.fit(X,y, sample_weight = weights)\n",
    "        \n",
    "        ## get error terms\n",
    "        pred = new_tree.predict(X)\n",
    "        err_index = np.nonzero(pred - y)[0]\n",
    "        ## update weights\n",
    "        e = weights[err_index].sum()\n",
    "        weights[err_index] = weights[err_index]/e\n",
    "        weights = weights/weights.sum()\n",
    "        trees.append(new_tree)\n",
    "    return(trees)   "
   ]
  },
  {
   "cell_type": "code",
   "execution_count": 5,
   "metadata": {},
   "outputs": [],
   "source": [
    "def my_trees_predict(trees, X=mytest_x):\n",
    "    whole_proba = np.zeros(shape=(X.shape[0],10,len(trees)))\n",
    "    for i,t in enumerate(trees):\n",
    "        whole_proba[:,:,i] = t.predict_proba(X)\n",
    "    \n",
    "    mean_proba = whole_proba.mean(axis = 2)\n",
    "    #final_proba = mean_proba.mean(axis = 1)\n",
    "    \n",
    "    return(mean_proba.argmax(axis = 1))"
   ]
  },
  {
   "cell_type": "code",
   "execution_count": 6,
   "metadata": {},
   "outputs": [],
   "source": [
    "def exper_mybforest2(num_est = 10, num_trees = 10, min_sam = 10, max_fea = 10,\n",
    "                    X = X_train, y = y_train, X_v = X_val, y_v = y_val):\n",
    "    \n",
    "    start =time.time()\n",
    "    trees = my_boostforest2(num_est = num_est, num_trees = num_trees, min_sam = min_sam, max_fea = max_fea,\n",
    "                    X = X, y = y)\n",
    "    fit_time = time.time() - start\n",
    "    train_err = np.count_nonzero(my_trees_predict(trees, X=X)- y)/len(y) \n",
    "    val_err = np.count_nonzero(my_trees_predict(trees, X=X_v)- y_v)/len(y_v)\n",
    "    return(train_err, val_err, fit_time)"
   ]
  },
  {
   "cell_type": "code",
   "execution_count": 7,
   "metadata": {},
   "outputs": [
    {
     "data": {
      "text/plain": [
       "(0.0, 0.0319, 94.53871297836304)"
      ]
     },
     "execution_count": 7,
     "metadata": {},
     "output_type": "execute_result"
    }
   ],
   "source": [
    "import random\n",
    "random.seed(12345)\n",
    "exper_mybforest2(max_fea = 100)"
   ]
  },
  {
   "cell_type": "markdown",
   "metadata": {},
   "source": [
    "## Comparison"
   ]
  },
  {
   "cell_type": "code",
   "execution_count": 10,
   "metadata": {},
   "outputs": [
    {
     "data": {
      "text/plain": [
       "(0.0, 0.0325, 97.89373207092285)"
      ]
     },
     "execution_count": 10,
     "metadata": {},
     "output_type": "execute_result"
    }
   ],
   "source": [
    "exper_mybforest2(num_est=1,num_trees=80,min_sam=10, max_fea=100)"
   ]
  },
  {
   "cell_type": "code",
   "execution_count": 8,
   "metadata": {},
   "outputs": [
    {
     "data": {
      "text/plain": [
       "(0.0, 0.0334, 183.90890407562256)"
      ]
     },
     "execution_count": 8,
     "metadata": {},
     "output_type": "execute_result"
    }
   ],
   "source": [
    "exper_mybforest2(num_trees=10,min_sam=10, max_fea=200)"
   ]
  },
  {
   "cell_type": "code",
   "execution_count": 9,
   "metadata": {},
   "outputs": [
    {
     "data": {
      "text/plain": [
       "(0.0, 0.0356, 49.37372612953186)"
      ]
     },
     "execution_count": 9,
     "metadata": {},
     "output_type": "execute_result"
    }
   ],
   "source": [
    "exper_mybforest2(num_est=5,num_trees=10,min_sam=10, max_fea=100)"
   ]
  },
  {
   "cell_type": "markdown",
   "metadata": {},
   "source": [
    "In the few experiments above I tried two different strategies: one is to grow one tree sequentially and grow many trees; the other is to grow one forest (10 trees say) sequentially and grow fewer forests. The result shows the first one works better (as indicated in the requirement in the assignment). Then we carry out experiment on test data."
   ]
  },
  {
   "cell_type": "code",
   "execution_count": 11,
   "metadata": {},
   "outputs": [
    {
     "data": {
      "text/plain": [
       "(0.0, 0.0316, 98.30693411827087)"
      ]
     },
     "execution_count": 11,
     "metadata": {},
     "output_type": "execute_result"
    }
   ],
   "source": [
    "exper_mybforest2(num_est=1,num_trees=80,min_sam=10, max_fea=100, X_v = X_test, y_v = y_test)"
   ]
  },
  {
   "cell_type": "markdown",
   "metadata": {},
   "source": [
    "### Comment:\n",
    "The error rate on test data reports an error rate of 0.0316, better than all previous results."
   ]
  },
  {
   "cell_type": "markdown",
   "metadata": {},
   "source": [
    "# (d)"
   ]
  },
  {
   "cell_type": "code",
   "execution_count": 25,
   "metadata": {},
   "outputs": [],
   "source": [
    "from sklearn.svm import SVC"
   ]
  },
  {
   "cell_type": "code",
   "execution_count": 45,
   "metadata": {},
   "outputs": [],
   "source": [
    "def my_SVM(pen=1, X=X_train, y = y_train, X_v = X_val, y_v = y_val, X_t = X_test, y_t = y_test):\n",
    "    gsvm=SVC(kernel='rbf',C=1./pen)\n",
    "    start = time.time()\n",
    "    gsvm.fit(X,y)\n",
    "    fit_time = time.time() - start\n",
    "    print(\"Fit finished after: \" + str(fit_time) )\n",
    "    \n",
    "    start = time.time()\n",
    "    train_err = np.count_nonzero(gsvm.predict(X) - y)/len(y)\n",
    "    pred_time1 = time.time() -start\n",
    "    print(\"Training data prediction finished after: \" + str(pred_time1))\n",
    "    print(\"error rates on the training is: \" + str(train_err))\n",
    "    \n",
    "    start = time.time()\n",
    "    val_err = np.count_nonzero(gsvm.predict(X_v) - y_v)/len(y_v)\n",
    "    pred_time2 = time.time() -start\n",
    "    print(\"Validation data prediction finished after: \" + str(pred_time2))\n",
    "    print(\"error rates on the validation data is: \" + str(val_err))\n",
    "    \n",
    "    start = time.time()\n",
    "    test_err = np.count_nonzero(gsvm.predict(X_t) - y_t)/len(y_t)\n",
    "    pred_time3 = time.time() -start\n",
    "    print(\"Test data prediction finished after: \" + str(pred_time3))\n",
    "    print(\"error rates on the test data is: \" + str(test_err))\n",
    "    \n",
    "    return(train_err,val_err,test_err)\n"
   ]
  },
  {
   "cell_type": "code",
   "execution_count": 48,
   "metadata": {},
   "outputs": [
    {
     "name": "stdout",
     "output_type": "stream",
     "text": [
      "Fit finished after: 8429.379841089249\n",
      "Training data prediction finished after: 2123.5155980587006\n",
      "error rates on the training is: 0.0\n",
      "Validation data prediction finished after: 425.18497371673584\n",
      "error rates on the validation data is: 0.8853\n",
      "Test data prediction finished after: 424.8688020706177\n",
      "error rates on the test data is: 0.8833\n"
     ]
    }
   ],
   "source": [
    "experi1 = my_SVM()"
   ]
  },
  {
   "cell_type": "markdown",
   "metadata": {},
   "source": [
    "### Comment: \n",
    "from the experiment above we can already see that SVM takes much longer both to predict and fit. Also, penalty parameter is very important: with small penalty (1 in this case), the model overtfits: does excellently on training data while performing poorly on validation and test data. Below, constrained by time,I carry out one more experiment with bigger penalty parameter (10 in this case)"
   ]
  },
  {
   "cell_type": "code",
   "execution_count": 50,
   "metadata": {},
   "outputs": [
    {
     "name": "stdout",
     "output_type": "stream",
     "text": [
      "Fit finished after: 16468.651293992996\n",
      "Training data prediction finished after: 2144.935243844986\n",
      "error rates on the training is: 0.0\n",
      "Validation data prediction finished after: 428.4656901359558\n",
      "error rates on the validation data is: 0.8853\n",
      "Test data prediction finished after: 428.8025951385498\n",
      "error rates on the test data is: 0.8833\n"
     ]
    }
   ],
   "source": [
    "experi2 = my_SVM(pen = 0.1)"
   ]
  },
  {
   "cell_type": "markdown",
   "metadata": {},
   "source": [
    "### Comment: \n",
    "The SVM with larger penalty takes longer but still does poorly in validation and training data.   One of the problems in this model is that I did not scale the data in the first place, which might be crucial. Another issue is the choice of penalty, and more exploration is needed. However, as the model fitting and prediction is too time consuming, I cannot perform another experiment before deadline.\n",
    "\n",
    "As a comparison, difference in time between SVM and random forest is apparent. Random Forest fits and predicts much faster than SVM, while having quite high accuracy on MNIST data. Another advantage of Random Forest is that it does not have devastating effectm of overfitting, as in the case of SVM. In the previous experiments, we can see error rate can go up when max_features is too big or min_samples is too small, but the rate is still reasonably low. "
   ]
  }
 ],
 "metadata": {
  "kernelspec": {
   "display_name": "Python 3",
   "language": "python",
   "name": "python3"
  },
  "language_info": {
   "codemirror_mode": {
    "name": "ipython",
    "version": 3
   },
   "file_extension": ".py",
   "mimetype": "text/x-python",
   "name": "python",
   "nbconvert_exporter": "python",
   "pygments_lexer": "ipython3",
   "version": "3.6.4"
  }
 },
 "nbformat": 4,
 "nbformat_minor": 2
}
