{
 "cells": [
  {
   "cell_type": "markdown",
   "metadata": {},
   "source": [
    "Reference: I cooperated with Xinyu Wei on this homework"
   ]
  },
  {
   "cell_type": "code",
   "execution_count": 1,
   "metadata": {},
   "outputs": [],
   "source": [
    "import pandas as pd\n",
    "import numpy as np\n",
    "import nltk\n",
    "from nltk.corpus import stopwords\n",
    "import time\n",
    "import itertools\n",
    "from itertools import combinations,permutations\n",
    "import scipy"
   ]
  },
  {
   "cell_type": "code",
   "execution_count": 2,
   "metadata": {},
   "outputs": [
    {
     "name": "stdout",
     "output_type": "stream",
     "text": [
      "[nltk_data] Downloading package stopwords to /home/wangzh/nltk_data...\n",
      "[nltk_data]   Package stopwords is already up-to-date!\n"
     ]
    },
    {
     "data": {
      "text/plain": [
       "True"
      ]
     },
     "execution_count": 2,
     "metadata": {},
     "output_type": "execute_result"
    }
   ],
   "source": [
    "nltk.download('stopwords')"
   ]
  },
  {
   "cell_type": "code",
   "execution_count": 3,
   "metadata": {},
   "outputs": [],
   "source": [
    "stop_words = set(stopwords.words('english'))"
   ]
  },
  {
   "cell_type": "code",
   "execution_count": 4,
   "metadata": {},
   "outputs": [],
   "source": [
    "with open('../wiki-text.txt','r') as f:\n",
    "    text = [line.split() for line in f]  "
   ]
  },
  {
   "cell_type": "code",
   "execution_count": 5,
   "metadata": {},
   "outputs": [
    {
     "data": {
      "text/plain": [
       "124301826"
      ]
     },
     "execution_count": 5,
     "metadata": {},
     "output_type": "execute_result"
    }
   ],
   "source": [
    "len(text[0])"
   ]
  },
  {
   "cell_type": "markdown",
   "metadata": {},
   "source": [
    "# Data preprocessing"
   ]
  },
  {
   "cell_type": "code",
   "execution_count": 6,
   "metadata": {},
   "outputs": [],
   "source": [
    "from collections import Counter\n",
    "c_text = Counter(text[0])"
   ]
  },
  {
   "cell_type": "code",
   "execution_count": 7,
   "metadata": {},
   "outputs": [
    {
     "name": "stdout",
     "output_type": "stream",
     "text": [
      "time elapsed: 46.019356966\n",
      "13201\n"
     ]
    }
   ],
   "source": [
    "min_threshold = 500\n",
    "#text_filter1 = [k for k, v in c_text.items() if v > min_threshold]\n",
    "start = time.time()\n",
    "text_fil1= [word for word in text[0] if not word in stop_words]\n",
    "text_filtered = [k for k in text_fil1 if c_text[k] > min_threshold]\n",
    "end = time.time()\n",
    "print(\"time elapsed: \" + str(end-start))\n",
    "print(len(set(text_filtered)))\n"
   ]
  },
  {
   "cell_type": "code",
   "execution_count": 8,
   "metadata": {},
   "outputs": [
    {
     "data": {
      "text/plain": [
       "71618337"
      ]
     },
     "execution_count": 8,
     "metadata": {},
     "output_type": "execute_result"
    }
   ],
   "source": [
    "len(text_filtered)"
   ]
  },
  {
   "cell_type": "code",
   "execution_count": 9,
   "metadata": {},
   "outputs": [],
   "source": [
    "#text_filtered = text_filtered[:50000]\n",
    "vocab = list(set(text_filtered))"
   ]
  },
  {
   "cell_type": "code",
   "execution_count": 42,
   "metadata": {},
   "outputs": [
    {
     "data": {
      "text/plain": [
       "13201"
      ]
     },
     "execution_count": 42,
     "metadata": {},
     "output_type": "execute_result"
    }
   ],
   "source": [
    "len(vocab)"
   ]
  },
  {
   "cell_type": "markdown",
   "metadata": {},
   "source": [
    "# PMI Embedding"
   ]
  },
  {
   "cell_type": "code",
   "execution_count": 10,
   "metadata": {},
   "outputs": [],
   "source": [
    "vocab_index = {}\n",
    "for i,w in enumerate(vocab):\n",
    "    vocab_index[w] = i"
   ]
  },
  {
   "cell_type": "markdown",
   "metadata": {},
   "source": [
    "## First, create a word count matrix"
   ]
  },
  {
   "cell_type": "code",
   "execution_count": 44,
   "metadata": {},
   "outputs": [],
   "source": [
    "from scipy.sparse import csr_matrix\n",
    "from scipy.sparse import lil_matrix\n"
   ]
  },
  {
   "cell_type": "code",
   "execution_count": 45,
   "metadata": {},
   "outputs": [],
   "source": [
    "def my_WW():\n",
    "    start_0 = time.time()\n",
    "    text_t = text_filtered\n",
    "    N = len(text_t)\n",
    "    window_size = 5\n",
    " \n",
    "    WW = lil_matrix((len(vocab),len(vocab)), dtype = np.float64)\n",
    "    \n",
    "    for i, w in enumerate(text_t):\n",
    "        if i % 1000000 == 0:\n",
    "            end = time.time()\n",
    "            percen = float(i)/len(text_t)\n",
    "            print(\"WW processed completed: \"+str(percen))\n",
    "            print(\"time elapsed: \"+ str(end - start_0))\n",
    "        \n",
    "        stepsize = min(window_size,N-i)\n",
    "        window = text_t[i:i+stepsize+1]\n",
    "        pairs = list(itertools.permutations(window,2))\n",
    "        for p in pairs:\n",
    "            WW[vocab_index[p[0]],vocab_index[p[1]]] += 1\n",
    "    \n",
    "    end_0 = time.time()\n",
    "    print(\"WW stage complete!!!\")\n",
    "    print(\"time elapsed: \"+ str(end_0-start_0))\n",
    "    return(WW)\n",
    "\n",
    "\n",
    "\n",
    "\n",
    "\n",
    "    \n",
    "    \n",
    "                \n",
    "\n",
    "        "
   ]
  },
  {
   "cell_type": "markdown",
   "metadata": {},
   "source": [
    "## Compute PMI matrix"
   ]
  },
  {
   "cell_type": "code",
   "execution_count": 46,
   "metadata": {},
   "outputs": [
    {
     "name": "stdout",
     "output_type": "stream",
     "text": [
      "WW processed completed: 0.0\n",
      "time elapsed: 5.77206707001\n",
      "WW processed completed: 0.0139629045003\n",
      "time elapsed: 144.350976944\n",
      "WW processed completed: 0.0279258090006\n",
      "time elapsed: 285.439615011\n",
      "WW processed completed: 0.0418887135008\n",
      "time elapsed: 428.00762105\n",
      "WW processed completed: 0.0558516180011\n",
      "time elapsed: 571.069114923\n",
      "WW processed completed: 0.0698145225014\n",
      "time elapsed: 715.16218996\n",
      "WW processed completed: 0.0837774270017\n",
      "time elapsed: 858.874161959\n",
      "WW processed completed: 0.097740331502\n",
      "time elapsed: 1003.24388194\n",
      "WW processed completed: 0.111703236002\n",
      "time elapsed: 1146.890414\n",
      "WW processed completed: 0.125666140503\n",
      "time elapsed: 1290.74757385\n",
      "WW processed completed: 0.139629045003\n",
      "time elapsed: 1434.50325394\n",
      "WW processed completed: 0.153591949503\n",
      "time elapsed: 1578.55832887\n",
      "WW processed completed: 0.167554854003\n",
      "time elapsed: 1723.28129005\n",
      "WW processed completed: 0.181517758504\n",
      "time elapsed: 1867.77483106\n",
      "WW processed completed: 0.195480663004\n",
      "time elapsed: 2012.65559888\n",
      "WW processed completed: 0.209443567504\n",
      "time elapsed: 2157.26454592\n",
      "WW processed completed: 0.223406472005\n",
      "time elapsed: 2301.15008402\n",
      "WW processed completed: 0.237369376505\n",
      "time elapsed: 2445.48931289\n",
      "WW processed completed: 0.251332281005\n",
      "time elapsed: 2590.245116\n",
      "WW processed completed: 0.265295185505\n",
      "time elapsed: 2735.12732291\n",
      "WW processed completed: 0.279258090006\n",
      "time elapsed: 2880.27831602\n",
      "WW processed completed: 0.293220994506\n",
      "time elapsed: 3026.12514496\n",
      "WW processed completed: 0.307183899006\n",
      "time elapsed: 3171.11040902\n",
      "WW processed completed: 0.321146803506\n",
      "time elapsed: 3316.48220205\n",
      "WW processed completed: 0.335109708007\n",
      "time elapsed: 3465.03383708\n",
      "WW processed completed: 0.349072612507\n",
      "time elapsed: 3610.30335307\n",
      "WW processed completed: 0.363035517007\n",
      "time elapsed: 3755.44331408\n",
      "WW processed completed: 0.376998421508\n",
      "time elapsed: 3900.31581903\n",
      "WW processed completed: 0.390961326008\n",
      "time elapsed: 4045.20752501\n",
      "WW processed completed: 0.404924230508\n",
      "time elapsed: 4189.87859106\n",
      "WW processed completed: 0.418887135008\n",
      "time elapsed: 4331.13496208\n",
      "WW processed completed: 0.432850039509\n",
      "time elapsed: 4473.10149097\n",
      "WW processed completed: 0.446812944009\n",
      "time elapsed: 4616.62101102\n",
      "WW processed completed: 0.460775848509\n",
      "time elapsed: 4756.93112707\n",
      "WW processed completed: 0.47473875301\n",
      "time elapsed: 4895.86888003\n",
      "WW processed completed: 0.48870165751\n",
      "time elapsed: 5036.66589904\n",
      "WW processed completed: 0.50266456201\n",
      "time elapsed: 5179.84227085\n",
      "WW processed completed: 0.51662746651\n",
      "time elapsed: 5320.52875805\n",
      "WW processed completed: 0.530590371011\n",
      "time elapsed: 5458.95150185\n",
      "WW processed completed: 0.544553275511\n",
      "time elapsed: 5597.74513793\n",
      "WW processed completed: 0.558516180011\n",
      "time elapsed: 5738.15291905\n",
      "WW processed completed: 0.572479084512\n",
      "time elapsed: 5877.62945008\n",
      "WW processed completed: 0.586441989012\n",
      "time elapsed: 6016.82027793\n",
      "WW processed completed: 0.600404893512\n",
      "time elapsed: 6155.25663686\n",
      "WW processed completed: 0.614367798012\n",
      "time elapsed: 6294.49292588\n",
      "WW processed completed: 0.628330702513\n",
      "time elapsed: 6434.98174286\n",
      "WW processed completed: 0.642293607013\n",
      "time elapsed: 6581.42618203\n",
      "WW processed completed: 0.656256511513\n",
      "time elapsed: 6726.08392\n",
      "WW processed completed: 0.670219416014\n",
      "time elapsed: 6871.70067787\n",
      "WW processed completed: 0.684182320514\n",
      "time elapsed: 7021.21482706\n",
      "WW processed completed: 0.698145225014\n",
      "time elapsed: 7165.77362585\n",
      "WW processed completed: 0.712108129514\n",
      "time elapsed: 7310.11113906\n",
      "WW processed completed: 0.726071034015\n",
      "time elapsed: 7455.81329393\n",
      "WW processed completed: 0.740033938515\n",
      "time elapsed: 7600.85140085\n",
      "WW processed completed: 0.753996843015\n",
      "time elapsed: 7745.60285401\n",
      "WW processed completed: 0.767959747516\n",
      "time elapsed: 7890.10265899\n",
      "WW processed completed: 0.781922652016\n",
      "time elapsed: 8033.81882405\n",
      "WW processed completed: 0.795885556516\n",
      "time elapsed: 8178.30571198\n",
      "WW processed completed: 0.809848461016\n",
      "time elapsed: 8322.69492388\n",
      "WW processed completed: 0.823811365517\n",
      "time elapsed: 8467.44514203\n",
      "WW processed completed: 0.837774270017\n",
      "time elapsed: 8612.50703907\n",
      "WW processed completed: 0.851737174517\n",
      "time elapsed: 8757.11212897\n",
      "WW processed completed: 0.865700079017\n",
      "time elapsed: 8901.49660802\n",
      "WW processed completed: 0.879662983518\n",
      "time elapsed: 9046.04430795\n",
      "WW processed completed: 0.893625888018\n",
      "time elapsed: 9188.19369698\n",
      "WW processed completed: 0.907588792518\n",
      "time elapsed: 9331.52704096\n",
      "WW processed completed: 0.921551697019\n",
      "time elapsed: 9475.62781501\n",
      "WW processed completed: 0.935514601519\n",
      "time elapsed: 9619.672153\n",
      "WW processed completed: 0.949477506019\n",
      "time elapsed: 9764.65753198\n",
      "WW processed completed: 0.963440410519\n",
      "time elapsed: 9909.39624286\n",
      "WW processed completed: 0.97740331502\n",
      "time elapsed: 10054.4279609\n",
      "WW processed completed: 0.99136621952\n",
      "time elapsed: 10199.4135039\n",
      "WW stage complete!!!\n",
      "time elapsed: 10289.1143041\n",
      "time elapsed: 10289.114481\n",
      "time elapsed: 10399.9111071\n"
     ]
    }
   ],
   "source": [
    "start = time.time()\n",
    "WW = my_WW()\n",
    "end = time.time()\n",
    "print(\"time elapsed: \"+ str(end - start))\n",
    "SP = WW.count_nonzero()\n",
    "WW = WW.toarray()\n",
    "Ni = WW.sum(axis = 1)\n",
    "Nis = np.diagflat(1/Ni)\n",
    "M = (WW+1)*SP\n",
    "M = np.dot(Nis,M).dot(Nis)\n",
    "M = np.log(M)\n",
    "end = time.time()\n",
    "print(\"time elapsed: \"+ str(end - start))"
   ]
  },
  {
   "cell_type": "code",
   "execution_count": null,
   "metadata": {},
   "outputs": [],
   "source": []
  },
  {
   "cell_type": "markdown",
   "metadata": {},
   "source": [
    "# (b) k-SVD"
   ]
  },
  {
   "cell_type": "code",
   "execution_count": 47,
   "metadata": {},
   "outputs": [
    {
     "name": "stdout",
     "output_type": "stream",
     "text": [
      "time elapsed: 70.536842823\n"
     ]
    }
   ],
   "source": [
    "start = time.time()\n",
    "U,s,V = scipy.sparse.linalg.svds(scipy.sparse.csr_matrix(M),k = 50)\n",
    "end = time.time()\n",
    "print(\"time elapsed: \"+ str(end - start))"
   ]
  },
  {
   "cell_type": "markdown",
   "metadata": {},
   "source": [
    "# (c) Word Embedding Matrix"
   ]
  },
  {
   "cell_type": "code",
   "execution_count": 48,
   "metadata": {},
   "outputs": [
    {
     "name": "stdout",
     "output_type": "stream",
     "text": [
      "time elapsed: 0.0049729347229\n"
     ]
    }
   ],
   "source": [
    "start = time.time()\n",
    "ss = np.diag(np.sqrt(s))\n",
    "W = np.dot(U,ss)\n",
    "end = time.time()\n",
    "print(\"time elapsed: \"+ str(end - start))"
   ]
  },
  {
   "cell_type": "markdown",
   "metadata": {},
   "source": [
    "# (d) Find closed words"
   ]
  },
  {
   "cell_type": "code",
   "execution_count": 11,
   "metadata": {},
   "outputs": [],
   "source": [
    "def closest_word(word,W,num=6):\n",
    "    print(\"closest words to \"+ word, \"are: \")\n",
    "    start = time.time()\n",
    "    key = vocab_index[word]\n",
    "    vec = W[key]\n",
    "    diff_W = W - np.array([vec]*W.shape[0])\n",
    "    diff = [np.dot(x,x) for x in diff_W]\n",
    "    close = np.argpartition(diff,num)[:num]\n",
    "    \n",
    "    for i in close:\n",
    "        if i!= key:\n",
    "            print(vocab[i])\n",
    "    end = time.time()\n",
    "    print(\"time elapsed: \"+ str(end-start))\n",
    "    "
   ]
  },
  {
   "cell_type": "code",
   "execution_count": 50,
   "metadata": {},
   "outputs": [
    {
     "name": "stdout",
     "output_type": "stream",
     "text": [
      "('closest words to abuse', 'are: ')\n",
      "victim\n",
      "homosexuality\n",
      "torture\n",
      "rape\n",
      "psychiatric\n",
      "time elapsed: 0.0139501094818\n"
     ]
    }
   ],
   "source": [
    "closest_word(\"abuse\",W,6)"
   ]
  },
  {
   "cell_type": "code",
   "execution_count": 51,
   "metadata": {},
   "outputs": [
    {
     "name": "stdout",
     "output_type": "stream",
     "text": [
      "('closest words to physics', 'are: ')\n",
      "quantum\n",
      "chemistry\n",
      "mechanics\n",
      "mathematics\n",
      "theoretical\n",
      "time elapsed: 0.0124969482422\n"
     ]
    }
   ],
   "source": [
    "closest_word(\"physics\",W,6)"
   ]
  },
  {
   "cell_type": "code",
   "execution_count": 52,
   "metadata": {},
   "outputs": [
    {
     "name": "stdout",
     "output_type": "stream",
     "text": [
      "('closest words to republican', 'are: ')\n",
      "senator\n",
      "democrat\n",
      "democrats\n",
      "republicans\n",
      "presidential\n",
      "time elapsed: 0.0121231079102\n"
     ]
    }
   ],
   "source": [
    "closest_word(\"republican\",W,6)"
   ]
  },
  {
   "cell_type": "code",
   "execution_count": 53,
   "metadata": {},
   "outputs": [
    {
     "name": "stdout",
     "output_type": "stream",
     "text": [
      "('closest words to einstein', 'are: ')\n",
      "planck\n",
      "physicists\n",
      "relativity\n",
      "paradox\n",
      "leibniz\n",
      "time elapsed: 0.0128509998322\n"
     ]
    }
   ],
   "source": [
    "closest_word(\"einstein\",W,6)"
   ]
  },
  {
   "cell_type": "code",
   "execution_count": 54,
   "metadata": {},
   "outputs": [
    {
     "name": "stdout",
     "output_type": "stream",
     "text": [
      "('closest words to algebra', 'are: ')\n",
      "algebraic\n",
      "calculus\n",
      "finite\n",
      "theorem\n",
      "topology\n",
      "time elapsed: 0.0148830413818\n"
     ]
    }
   ],
   "source": [
    "closest_word(\"algebra\",W,6)"
   ]
  },
  {
   "cell_type": "code",
   "execution_count": 55,
   "metadata": {},
   "outputs": [
    {
     "name": "stdout",
     "output_type": "stream",
     "text": [
      "('closest words to fish', 'are: ')\n",
      "eat\n",
      "eggs\n",
      "fruit\n",
      "meat\n",
      "seeds\n",
      "time elapsed: 0.0137209892273\n"
     ]
    }
   ],
   "source": [
    "closest_word(\"fish\",W,6)"
   ]
  },
  {
   "cell_type": "markdown",
   "metadata": {},
   "source": [
    "# (e) Solve Analogies "
   ]
  },
  {
   "cell_type": "code",
   "execution_count": 14,
   "metadata": {},
   "outputs": [],
   "source": [
    "def solve_analogies(X,Y,Z,W,num=6):\n",
    "    print(\"closest solution for analogy: \", X,\":\",Y,\"::\",Z,\":\",\"?\")\n",
    "    vec = W[vocab_index[Y]] - W[vocab_index[X]] + W[vocab_index[Z]]\n",
    "    diff_W = W - np.array([vec]*W.shape[0])\n",
    "    diff = [np.dot(x,x) for x in diff_W]\n",
    "    close = np.argpartition(diff,num)[:num]\n",
    "    \n",
    "    for i in close:\n",
    "        print(vocab[i])"
   ]
  },
  {
   "cell_type": "code",
   "execution_count": 57,
   "metadata": {},
   "outputs": [
    {
     "name": "stdout",
     "output_type": "stream",
     "text": [
      "('closest solution for analogy: ', 'france', ':', 'paris', '::', 'england', ':', '?')\n",
      "england\n",
      "london\n",
      "oxford\n",
      "dublin\n",
      "cambridge\n",
      "edinburgh\n"
     ]
    }
   ],
   "source": [
    "X = 'france'\n",
    "Y = 'paris'\n",
    "Z = 'england'\n",
    "solve_analogies(X,Y,Z,W)"
   ]
  },
  {
   "cell_type": "code",
   "execution_count": 60,
   "metadata": {},
   "outputs": [],
   "source": [
    "import pickle\n",
    "with open(\"my_W_0\",\"wb\") as f:\n",
    "    pickle.dump(W,f)"
   ]
  },
  {
   "cell_type": "code",
   "execution_count": 12,
   "metadata": {},
   "outputs": [],
   "source": [
    "import pickle\n",
    "with open(\"my_W_0\",\"rb\") as f:\n",
    "    W = pickle.load(f)"
   ]
  },
  {
   "cell_type": "code",
   "execution_count": 15,
   "metadata": {},
   "outputs": [
    {
     "name": "stdout",
     "output_type": "stream",
     "text": [
      "('closest solution for analogy: ', 'france', ':', 'paris', '::', 'england', ':', '?')\n",
      "england\n",
      "london\n",
      "oxford\n",
      "dublin\n",
      "cambridge\n",
      "edinburgh\n"
     ]
    }
   ],
   "source": [
    "X = 'france'\n",
    "Y = 'paris'\n",
    "Z = 'england'\n",
    "solve_analogies(X,Y,Z,W)"
   ]
  },
  {
   "cell_type": "code",
   "execution_count": 16,
   "metadata": {},
   "outputs": [
    {
     "name": "stdout",
     "output_type": "stream",
     "text": [
      "('closest solution for analogy: ', 'japan', ':', 'tokyo', '::', 'china', ':', '?')\n",
      "hong\n",
      "shanghai\n",
      "beijing\n",
      "tokyo\n",
      "taiwan\n",
      "delhi\n"
     ]
    }
   ],
   "source": [
    "X = 'japan'\n",
    "Y = 'tokyo'\n",
    "Z = 'china'\n",
    "solve_analogies(X,Y,Z,W)"
   ]
  },
  {
   "cell_type": "code",
   "execution_count": 20,
   "metadata": {},
   "outputs": [
    {
     "name": "stdout",
     "output_type": "stream",
     "text": [
      "('closest solution for analogy: ', 'washington', ':', 'america', '::', 'mao', ':', '?')\n",
      "prevalent\n",
      "peasant\n",
      "domination\n",
      "nationalism\n",
      "malay\n",
      "revolutions\n"
     ]
    }
   ],
   "source": [
    "X = 'washington'\n",
    "Y = 'america'\n",
    "Z = 'mao'\n",
    "solve_analogies(X,Y,Z,W)"
   ]
  },
  {
   "cell_type": "code",
   "execution_count": 21,
   "metadata": {},
   "outputs": [
    {
     "name": "stdout",
     "output_type": "stream",
     "text": [
      "('closest solution for analogy: ', 'capitalism', ':', 'money', '::', 'communism', ':', '?')\n",
      "money\n",
      "pay\n",
      "dollars\n",
      "paid\n",
      "cash\n",
      "buy\n"
     ]
    }
   ],
   "source": [
    "X = 'capitalism'\n",
    "Y = 'money'\n",
    "Z = 'communism'\n",
    "solve_analogies(X,Y,Z,W)"
   ]
  },
  {
   "cell_type": "code",
   "execution_count": 24,
   "metadata": {},
   "outputs": [
    {
     "name": "stdout",
     "output_type": "stream",
     "text": [
      "('closest solution for analogy: ', 'girl', ':', 'pretty', '::', 'boy', ':', '?')\n",
      "bug\n",
      "spell\n",
      "thanks\n",
      "pretty\n",
      "pocket\n",
      "unfortunately\n"
     ]
    }
   ],
   "source": [
    "X = 'girl'\n",
    "Y = 'pretty'\n",
    "Z = 'boy'\n",
    "solve_analogies(X,Y,Z,W)"
   ]
  },
  {
   "cell_type": "code",
   "execution_count": 25,
   "metadata": {},
   "outputs": [
    {
     "name": "stdout",
     "output_type": "stream",
     "text": [
      "('closest solution for analogy: ', 'soldier', ':', 'army', '::', 'student', ':', '?')\n",
      "education\n",
      "students\n",
      "student\n",
      "schools\n",
      "army\n",
      "military\n"
     ]
    }
   ],
   "source": [
    "X = 'soldier'\n",
    "Y = 'army'\n",
    "Z = 'student'\n",
    "solve_analogies(X,Y,Z,W)"
   ]
  },
  {
   "cell_type": "code",
   "execution_count": null,
   "metadata": {},
   "outputs": [],
   "source": []
  }
 ],
 "metadata": {
  "kernelspec": {
   "display_name": "Python 3",
   "language": "python",
   "name": "python3"
  },
  "language_info": {
   "codemirror_mode": {
    "name": "ipython",
    "version": 3
   },
   "file_extension": ".py",
   "mimetype": "text/x-python",
   "name": "python",
   "nbconvert_exporter": "python",
   "pygments_lexer": "ipython3",
   "version": "3.6.4"
  }
 },
 "nbformat": 4,
 "nbformat_minor": 2
}
