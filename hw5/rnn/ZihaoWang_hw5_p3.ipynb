{
 "cells": [
  {
   "cell_type": "markdown",
   "metadata": {},
   "source": [
    "Reference: I cooperated with Xinyu Wei on this homeowrk"
   ]
  },
  {
   "cell_type": "code",
   "execution_count": 21,
   "metadata": {},
   "outputs": [],
   "source": [
    "import os\n",
    "import numpy as np\n",
    "import collections\n",
    "import pickle\n",
    "import argparse\n",
    "import tensorflow as tf\n",
    "import time\n",
    "import matplotlib.pyplot as plt\n",
    "%matplotlib inline"
   ]
  },
  {
   "cell_type": "code",
   "execution_count": 34,
   "metadata": {},
   "outputs": [],
   "source": [
    "parser = argparse.ArgumentParser()\n",
    "parser.add_argument('--data_dir', default='./')\n",
    "parser.add_argument('--save_dir', default='./')\n",
    "# Dimension of hidden layer variables h and c\n",
    "parser.add_argument('--num_units', default=128*2)\n",
    "#parser.add_argument('--num_units', default=128*2*2)\n",
    "parser.add_argument('--batch_size', default=64)\n",
    "# Number of steps in each batch for training\n",
    "parser.add_argument('--num_steps', default=75)\n",
    "parser.add_argument('--num_epochs', default=30)\n",
    "# Time step\n",
    "parser.add_argument('--lr', default=0.002)\n",
    "# Number of possible inputs/outputs \n",
    "parser.add_argument('--num_chars')\n",
    "parser.add_argument('--num_batches',default=20)\n",
    "args, unparsed = parser.parse_known_args()"
   ]
  },
  {
   "cell_type": "code",
   "execution_count": 3,
   "metadata": {},
   "outputs": [],
   "source": [
    "def timer(start, end):\n",
    "    hrs, rem = divmod(end-start, 3600)\n",
    "    mins, secs = divmod(rem, 60)\n",
    "    print('{:0>2} hours {:0>2} minutes {:05.2f} seconds'.format(int(hrs), int(mins), secs))"
   ]
  },
  {
   "cell_type": "code",
   "execution_count": 4,
   "metadata": {},
   "outputs": [],
   "source": [
    "class TextLoader():\n",
    "\n",
    "    def __init__(self, data_dir, batch_size=64, seq_length=50, encoding='utf-8'):\n",
    "        self.data_dir = data_dir\n",
    "        self.encoding = encoding\n",
    "        self.batch_size = batch_size\n",
    "        self.seq_length = seq_length\n",
    "\n",
    "        self.input_file = os.path.join(data_dir, 'tinyshakespeare.txt')\n",
    "        self.vocab_file = os.path.join(data_dir, 'vocab.pkl')\n",
    "        # Numeric file of characters translated to indices.\n",
    "        self.tensor_file = os.path.join(data_dir, 'data.npy')\n",
    "        \n",
    "        if not (os.path.exists(self.vocab_file) and os.path.exists(self.tensor_file)):\n",
    "            print('it seems we havent processed the text data yet: reading the shakespear')\n",
    "            self.preprocess(self.input_file, self.vocab_file, self.tensor_file)\n",
    "        else:\n",
    "            print('there are preprocessed data - lets load it')\n",
    "            self.load_preprocessed(self.vocab_file, self.tensor_file)\n",
    "\n",
    "        self.create_batches()\n",
    "        self.reset_batch_pointer()\n",
    "\n",
    "    # Create numeric file.\n",
    "    def preprocess(self, input_file=None, vocab_file=None, tensor_file=None, saveit=True):\n",
    "        if input_file is not None:\n",
    "            self.input_file = input_file\n",
    "        if vocab_file is not None:\n",
    "            self.vocab_file = vocab_file\n",
    "        if tensor_file is not None:\n",
    "            self.tensor_file = tensor_file\n",
    "\n",
    "        with open(self.input_file, 'r') as f:\n",
    "            data = f.read()\n",
    "        #data = data.lower()\n",
    "        self.total_length = len(data)\n",
    "        counter = collections.Counter(data)\n",
    "        count_pairs = sorted(counter.items(), key=lambda x: -x[1])\n",
    "        self.chars, _ = zip(*count_pairs)\n",
    "        self.vocab_size = len(self.chars)\n",
    "        self.vocab_to_idx = dict(zip(self.chars, range(len(self.chars))))\n",
    "        self.idx_to_vocab = dict(zip(self.vocab_to_idx.values(), self.vocab_to_idx.keys()))\n",
    "\n",
    "        if saveit:\n",
    "            with open(self.vocab_file, 'wb') as f:  # saving dictionary so we don't compute it again\n",
    "                pickle.dump(self.chars, f)\n",
    "            self.tensor = np.array(list(map(self.vocab_to_idx.get, data)))\n",
    "            np.save(self.tensor_file, self.tensor)  # saving the numerified data\n",
    "    # Load numeric file create dictionaries for char2idx and back\n",
    "    def load_preprocessed(self, vocab_file=None, tensor_file=None):\n",
    "        if vocab_file is not None:\n",
    "            self.vocab_file = vocab_file\n",
    "        if tensor_file is not None:\n",
    "            self.tensor_file = tensor_file\n",
    "\n",
    "        with open(self.vocab_file, 'rb') as f:\n",
    "            self.chars = pickle.load(f)\n",
    "\n",
    "        # attributes\n",
    "        self.vocab_size = len(self.chars)\n",
    "        self.vocab = dict(zip(self.chars, range(self.vocab_size)))\n",
    "        self.vocab_to_idx = dict(zip(self.chars, range(len(self.chars))))\n",
    "        self.idx_to_vocab = dict(zip(self.vocab_to_idx.values(), self.vocab_to_idx.keys()))\n",
    "        self.tensor = np.load(tensor_file)\n",
    "        self.num_batches = int(self.tensor.size / (self.batch_size * self.seq_length))\n",
    "            \n",
    "    # tensor size = the length of the entire data sequence\n",
    "    # divide into batch_size sub sequences and stack\n",
    "    # cut those by seq_length to produce batches of [batch size, seq_length] sized examples\n",
    "    def create_batches(self):\n",
    "\n",
    "        \n",
    "        self.num_batches = int(self.tensor.size / (self.batch_size * self.seq_length))\n",
    "\n",
    "        if self.num_batches == 0:\n",
    "            assert False, 'Not enough data. Make seq_length and/or batch_size smaller'\n",
    "\n",
    "        self.tensor = self.tensor[:self.num_batches * self.batch_size * self.seq_length]  # so we get an even divide\n",
    "        xdata = self.tensor\n",
    "        ydata = np.copy(self.tensor)\n",
    "\n",
    "        # ydata is one step ahead of x and last item is first item of x \n",
    "        # to get sequences of same length    \n",
    "        ydata[:-1] = xdata[1:] \n",
    "        ydata[-1] = xdata[0]\n",
    "\n",
    "        self.x_batches = np.split(xdata.reshape(self.batch_size, -1), self.num_batches, 1)\n",
    "        self.y_batches = np.split(ydata.reshape(self.batch_size, -1), self.num_batches, 1)\n",
    "        \n",
    "        self.train_num_batches=np.int32(self.num_batches*.8)\n",
    "        self.test_num_batches=self.num_batches-self.train_num_batches\n",
    "        self.train_x_batches=self.x_batches[0:self.train_num_batches]\n",
    "        self.train_y_batches=self.y_batches[0:self.train_num_batches]\n",
    "        self.test_x_batches=self.x_batches[self.train_num_batches:]\n",
    "        self.test_y_batches=self.y_batches[self.train_num_batches:]\n",
    "\n",
    "        # xdata: L length\n",
    "        # xdata reshaped: batch_size, (L/batch_size) length following natural indexing\n",
    "        # np.split: into num batches batches along the width(sentence)\n",
    "\n",
    "    def next_batch_train(self):\n",
    "        x, y = self.train_x_batches[self.pointer], self.train_y_batches[self.pointer]\n",
    "        self.pointer += 1\n",
    "        return x,y\n",
    "    \n",
    "    def next_batch_test(self):\n",
    "        x, y = self.test_x_batches[self.pointer], self.test_y_batches[self.pointer]\n",
    "        self.pointer += 1\n",
    "        return x,y\n",
    "\n",
    "    def reset_batch_pointer(self):\n",
    "        self.pointer = 0"
   ]
  },
  {
   "cell_type": "code",
   "execution_count": 35,
   "metadata": {},
   "outputs": [
    {
     "name": "stdout",
     "output_type": "stream",
     "text": [
      "there are preprocessed data - lets load it\n",
      "num chars 65\n",
      "num batches 232\n"
     ]
    }
   ],
   "source": [
    "loader = TextLoader(args.data_dir, batch_size=args.batch_size, seq_length=args.num_steps)\n",
    "args.num_chars = loader.vocab_size\n",
    "#print(loader.vocab_size)\n",
    "print('num chars',args.num_chars)\n",
    "print('num batches',loader.num_batches)"
   ]
  },
  {
   "cell_type": "code",
   "execution_count": 6,
   "metadata": {},
   "outputs": [],
   "source": [
    "class MyBasicRNNCell(tf.contrib.rnn.BasicRNNCell):\n",
    "\n",
    "    def build(self, inputs_shape):\n",
    "\n",
    "        input_depth = inputs_shape[1].value\n",
    "        \n",
    "        self._kernel = self.add_variable(name=\"kernel_hidden\", shape=[input_depth + self._num_units, self._num_units])\n",
    "        self._bias = self.add_variable(name=\"bias_hidden\", shape=[self._num_units], initializer=tf.zeros_initializer())\n",
    "        \n",
    "        self.built = True\n",
    "\n",
    "    def call(self, inputs, state):\n",
    "        \"\"\"Most basic RNN: output = new_state = act(W * input + U * state + B).\"\"\"\n",
    "        \n",
    "        output = tf.tanh(tf.matmul(tf.concat([inputs, state], 1), self._kernel) + self._bias)\n",
    "\n",
    "        return output, output"
   ]
  },
  {
   "cell_type": "code",
   "execution_count": 7,
   "metadata": {},
   "outputs": [],
   "source": [
    "class MyBasicRNNCell_layer2(tf.contrib.rnn.BasicRNNCell):\n",
    "\n",
    "    def build(self, inputs_shape):\n",
    "\n",
    "        input_depth = inputs_shape[1].value\n",
    "        \n",
    "        self._kernel = self.add_variable(name=\"kernel_hidden\", shape=[input_depth + self._num_units, 2*self._num_units])\n",
    "        self._bias = self.add_variable(name=\"bias_hidden\", shape=[2*self._num_units], initializer=tf.zeros_initializer())\n",
    "        \n",
    "        self.built = True\n",
    "\n",
    "    def call(self, inputs, state):\n",
    "        \"\"\" RNN with two different layers: draw a random number p; \n",
    "            output = tanh(p*weight1) + tanh((1-p)*weight2)\"\"\"\n",
    "        one = tf.constant(1, dtype=tf.int32)\n",
    "        \n",
    "        weights = tf.matmul(tf.concat([inputs, state], axis=1), self._kernel) + self._bias\n",
    "        \n",
    "        weight1,weight2 = tf.split(\n",
    "            value=weights, num_or_size_splits=2, axis=one)\n",
    "        \n",
    "        rand = tf.random_uniform([1],minval=0,maxval=1,dtype=weight1.dtype, seed = 12345)\n",
    "        \n",
    "        output = tf.tanh(rand*weight2)+tf.tanh((1-rand)*weight1)\n",
    "        \n",
    "        \n",
    "        return output, output"
   ]
  },
  {
   "cell_type": "code",
   "execution_count": 8,
   "metadata": {},
   "outputs": [],
   "source": [
    "LSTMStateTuple = collections.namedtuple(\"LSTMStateTuple\", (\"c\", \"h\"))\n",
    "\n",
    "class MyBasicLSTMCell(tf.contrib.rnn.BasicLSTMCell):\n",
    "\n",
    "    def build(self, inputs_shape):\n",
    "\n",
    "        input_depth = inputs_shape[1].value\n",
    "        self._kernel = self.add_variable(name=\"kernel\", shape=[input_depth + self._num_units, 4 * self._num_units])\n",
    "        self._bias = self.add_variable(name=\"bias\", shape=[4 * self._num_units], initializer=tf.zeros_initializer())\n",
    "\n",
    "        self.built = True\n",
    "\n",
    "    def call(self, inputs, state):\n",
    "\n",
    "        one = tf.constant(1, dtype=tf.int32)\n",
    "        c, h = state\n",
    "\n",
    "        gate_inputs = tf.matmul(tf.concat([inputs, h], axis=1), self._kernel) + self._bias\n",
    "\n",
    "        input_gate_weights, input_weights, forget_gate_weights, output_gate_weights = tf.split(\n",
    "            value=gate_inputs, num_or_size_splits=4, axis=one)\n",
    "\n",
    "        # forget gating\n",
    "        forget_bias_tensor = tf.constant(1.0, dtype=forget_gate_weights.dtype)\n",
    "        forget_gate = tf.sigmoid(forget_gate_weights + forget_bias_tensor)\n",
    "        gated_memory = c * forget_gate\n",
    "\n",
    "        # input gating\n",
    "        processed_new_input = tf.tanh(input_weights)\n",
    "        input_gate = tf.sigmoid(input_gate_weights)\n",
    "        gated_input = input_gate * processed_new_input\n",
    "\n",
    "        # updating memory\n",
    "        new_c = gated_memory + gated_input\n",
    "\n",
    "        # output gating\n",
    "        processed_memory = tf.tanh(new_c)\n",
    "        output_gate = tf.sigmoid(output_gate_weights)\n",
    "        new_h = processed_memory * output_gate\n",
    "\n",
    "        new_state = tf.nn.rnn_cell.LSTMStateTuple(new_c, new_h)\n",
    "\n",
    "        return new_h, new_state"
   ]
  },
  {
   "cell_type": "code",
   "execution_count": 9,
   "metadata": {},
   "outputs": [],
   "source": [
    "LSTMStateTuple = collections.namedtuple(\"LSTMStateTuple\", (\"c\", \"h\"))\n",
    "\n",
    "class MyBasicLSTMCell_cp_gates(tf.contrib.rnn.BasicLSTMCell):\n",
    "\n",
    "    def build(self, inputs_shape):\n",
    "\n",
    "        input_depth = inputs_shape[1].value\n",
    "        self._kernel = self.add_variable(name=\"kernel\", shape=[input_depth + self._num_units, 4 * self._num_units])\n",
    "        self._bias = self.add_variable(name=\"bias\", shape=[4 * self._num_units], initializer=tf.zeros_initializer())\n",
    "\n",
    "        self.built = True\n",
    "\n",
    "    def call(self, inputs, state):\n",
    "\n",
    "        one = tf.constant(1, dtype=tf.int32)\n",
    "        c, h = state\n",
    "\n",
    "        gate_inputs = tf.matmul(tf.concat([inputs, h], axis=1), self._kernel) + self._bias\n",
    "\n",
    "        input_gate_weights, input_weights, forget_gate_weights, output_gate_weights = tf.split(\n",
    "            value=gate_inputs, num_or_size_splits=4, axis=one)\n",
    "\n",
    "        # forget gating\n",
    "        forget_bias_tensor = tf.constant(1.0, dtype=forget_gate_weights.dtype)\n",
    "        forget_gate = tf.sigmoid(forget_gate_weights + forget_bias_tensor)\n",
    "        gated_memory = c * forget_gate\n",
    "\n",
    "        # input gating\n",
    "        processed_new_input = tf.tanh(input_weights)\n",
    "        #input_gate = tf.sigmoid(input_gate_weights)\n",
    "        input_gate = 1-forget_gate\n",
    "        gated_input = input_gate * processed_new_input\n",
    "\n",
    "        # updating memory\n",
    "        new_c = gated_memory + gated_input\n",
    "\n",
    "        # output gating\n",
    "        processed_memory = tf.tanh(new_c)\n",
    "        output_gate = tf.sigmoid(output_gate_weights)\n",
    "        new_h = processed_memory * output_gate\n",
    "\n",
    "        new_state = tf.nn.rnn_cell.LSTMStateTuple(new_c, new_h)\n",
    "\n",
    "        return new_h, new_state"
   ]
  },
  {
   "cell_type": "code",
   "execution_count": 10,
   "metadata": {},
   "outputs": [],
   "source": [
    "LSTMStateTuple = collections.namedtuple(\"LSTMStateTuple\", (\"c\", \"h\"))\n",
    "\n",
    "class MyBasicLSTMCell_GS_var(tf.contrib.rnn.BasicLSTMCell):\n",
    "\n",
    "    def build(self, inputs_shape):\n",
    "\n",
    "        input_depth = inputs_shape[1].value\n",
    "        self._kernel = self.add_variable(name=\"kernel\", shape=[input_depth + 2*self._num_units, 4 * self._num_units])\n",
    "        self._bias = self.add_variable(name=\"bias\", shape=[4 * self._num_units], initializer=tf.zeros_initializer())\n",
    "\n",
    "        self.built = True\n",
    "\n",
    "    def call(self, inputs, state):\n",
    "\n",
    "        one = tf.constant(1, dtype=tf.int32)\n",
    "        c, h = state\n",
    "\n",
    "        gate_inputs = tf.matmul(tf.concat([inputs, h, c], axis=1), self._kernel) + self._bias\n",
    "\n",
    "        input_gate_weights, input_weights, forget_gate_weights, output_gate_weights = tf.split(\n",
    "            value=gate_inputs, num_or_size_splits=4, axis=one)\n",
    "\n",
    "        # forget gating\n",
    "        forget_bias_tensor = tf.constant(1.0, dtype=forget_gate_weights.dtype)\n",
    "        forget_gate = tf.sigmoid(forget_gate_weights + forget_bias_tensor)\n",
    "        gated_memory = c * forget_gate\n",
    "\n",
    "        # input gating\n",
    "        processed_new_input = tf.tanh(input_weights)\n",
    "        input_gate = tf.sigmoid(input_gate_weights)\n",
    "        gated_input = input_gate * processed_new_input\n",
    "\n",
    "        # updating memory\n",
    "        new_c = gated_memory + gated_input\n",
    "\n",
    "        # output gating\n",
    "        processed_memory = tf.tanh(new_c)\n",
    "        output_gate = tf.sigmoid(output_gate_weights)\n",
    "        new_h = processed_memory * output_gate\n",
    "\n",
    "        new_state = tf.nn.rnn_cell.LSTMStateTuple(new_c, new_h)\n",
    "\n",
    "        return new_h, new_state"
   ]
  },
  {
   "cell_type": "code",
   "execution_count": 11,
   "metadata": {},
   "outputs": [],
   "source": [
    "LSTMStateTuple = collections.namedtuple(\"LSTMStateTuple\", (\"c\", \"h\"))\n",
    "\n",
    "class MyBasicLSTMCell_wo_outputgate(tf.contrib.rnn.BasicLSTMCell):\n",
    "\n",
    "    def build(self, inputs_shape):\n",
    "\n",
    "        input_depth = inputs_shape[1].value\n",
    "        self._kernel = self.add_variable(name=\"kernel\", shape=[input_depth + self._num_units, 4 * self._num_units])\n",
    "        self._bias = self.add_variable(name=\"bias\", shape=[4 * self._num_units], initializer=tf.zeros_initializer())\n",
    "\n",
    "        self.built = True\n",
    "\n",
    "    def call(self, inputs, state):\n",
    "\n",
    "        one = tf.constant(1, dtype=tf.int32)\n",
    "        c, h = state\n",
    "\n",
    "        gate_inputs = tf.matmul(tf.concat([inputs, h], axis=1), self._kernel) + self._bias\n",
    "\n",
    "        input_gate_weights, input_weights, forget_gate_weights, output_gate_weights = tf.split(\n",
    "            value=gate_inputs, num_or_size_splits=4, axis=one)\n",
    "\n",
    "        # forget gating\n",
    "        forget_bias_tensor = tf.constant(1.0, dtype=forget_gate_weights.dtype)\n",
    "        forget_gate = tf.sigmoid(forget_gate_weights + forget_bias_tensor)\n",
    "        gated_memory = c * forget_gate\n",
    "\n",
    "        # input gating\n",
    "        processed_new_input = tf.tanh(input_weights)\n",
    "        input_gate = tf.sigmoid(input_gate_weights)\n",
    "        gated_input = input_gate * processed_new_input\n",
    "\n",
    "        # updating memory\n",
    "        new_c = gated_memory + gated_input\n",
    "\n",
    "        # output gating\n",
    "        #processed_memory = tf.tanh(new_c)\n",
    "        output_gate = tf.sigmoid(output_gate_weights)\n",
    "        new_h = output_gate\n",
    "        \n",
    "        new_state = tf.nn.rnn_cell.LSTMStateTuple(new_c, new_h)\n",
    "\n",
    "        return new_h, new_state"
   ]
  },
  {
   "cell_type": "code",
   "execution_count": 12,
   "metadata": {},
   "outputs": [],
   "source": [
    "LSTMStateTuple = collections.namedtuple(\"LSTMStateTuple\", (\"c\", \"h\"))\n",
    "\n",
    "class MyBasicLSTMCell_GS(tf.contrib.rnn.BasicLSTMCell):\n",
    "\n",
    "    def build(self, inputs_shape):\n",
    "\n",
    "        input_depth = inputs_shape[1].value\n",
    "        self._kernel = self.add_variable(name=\"kernel\", shape=[input_depth + 2*self._num_units, 2 * self._num_units])\n",
    "        self._bias = self.add_variable(name=\"bias\", shape=[2 * self._num_units], initializer=tf.zeros_initializer())\n",
    "\n",
    "        self._kernel2 = self.add_variable(name=\"kernel2\", shape=[input_depth, self._num_units])\n",
    "        self._bias2 = self.add_variable(name=\"bias2\", shape=[self._num_units], initializer=tf.zeros_initializer())\n",
    "\n",
    "        self._kernel3 = self.add_variable(name=\"kernel3\", shape=[input_depth + 2*self._num_units, self._num_units])\n",
    "        self._bias3 = self.add_variable(name=\"bias3\", shape=[self._num_units], initializer=tf.zeros_initializer())\n",
    "\n",
    "        self.built = True\n",
    "\n",
    "    def call(self, inputs, state):\n",
    "\n",
    "        one = tf.constant(1, dtype=tf.int32)\n",
    "        c, h = state\n",
    "\n",
    "        gate_inputs = tf.matmul(tf.concat([inputs, h,c], axis=1), self._kernel) + self._bias\n",
    "\n",
    "        forget_gate_weights, input_gate_weights= tf.split(\n",
    "            value=gate_inputs, num_or_size_splits=2, axis=one)\n",
    "\n",
    "        #, forget_gate_weights, output_gate_weights \n",
    "        \n",
    "        \n",
    "        # forget gating\n",
    "        forget_bias_tensor = tf.constant(1.0, dtype=forget_gate_weights.dtype)\n",
    "        forget_gate = tf.sigmoid(forget_gate_weights + forget_bias_tensor)\n",
    "        gated_memory = c * forget_gate\n",
    "\n",
    "        # input gating\n",
    "        processed_new_input = tf.matmul(inputs,self._kernel2) + self._bias2       \n",
    "        input_gate = tf.sigmoid(input_gate_weights)\n",
    "        gated_input = input_gate * processed_new_input\n",
    "\n",
    "        # updating memory\n",
    "        new_c = gated_memory + gated_input\n",
    "\n",
    "        # output gating\n",
    "        processed_memory = tf.tanh(new_c)\n",
    "        \n",
    "        output_gate_weights = tf.matmul(tf.concat([inputs, h,new_c], axis=1), self._kernel3) + self._bias3\n",
    "        output_gate = tf.sigmoid(output_gate_weights)\n",
    "        new_h = processed_memory * output_gate\n",
    "\n",
    "        new_state = tf.nn.rnn_cell.LSTMStateTuple(new_c, new_h)\n",
    "\n",
    "        return new_h, new_state"
   ]
  },
  {
   "cell_type": "code",
   "execution_count": 13,
   "metadata": {},
   "outputs": [],
   "source": [
    "LSTMStateTuple = collections.namedtuple(\"LSTMStateTuple\", (\"c\", \"h\"))\n",
    "\n",
    "class MyBasicLSTMCell_GRU(tf.contrib.rnn.BasicLSTMCell):\n",
    "\n",
    "    def build(self, inputs_shape):\n",
    "\n",
    "        input_depth = inputs_shape[1].value\n",
    "        self._kernel = self.add_variable(name=\"kernel\", shape=[input_depth + self._num_units, 2 * self._num_units])\n",
    "        self._bias = self.add_variable(name=\"bias\", shape=[2 * self._num_units], initializer=tf.zeros_initializer())\n",
    "\n",
    "        self._kernel2 = self.add_variable(name=\"kernel2\", shape=[input_depth + self._num_units, self._num_units])\n",
    "        self._bias2 = self.add_variable(name=\"bias2\", shape=[self._num_units], initializer=tf.zeros_initializer())\n",
    "\n",
    "        self.built = True\n",
    "\n",
    "    def call(self, inputs, state):\n",
    "\n",
    "        one = tf.constant(1, dtype=tf.int32)\n",
    "        c, h = state\n",
    "        c = h\n",
    "        \n",
    "        gate_inputs = tf.matmul(tf.concat([inputs, h], axis=1), self._kernel) + self._bias\n",
    "\n",
    "        z_weights, r_weights = tf.split(value=gate_inputs, num_or_size_splits=2, axis=one)\n",
    "        z_gate = tf.sigmoid(z_weights)\n",
    "        r_gate = tf.sigmoid(r_weights)\n",
    "        \n",
    "        h_tear = tf.tanh(tf.matmul(tf.concat([inputs, r_gate*c], axis=1), self._kernel2) + self._bias2)\n",
    "        \n",
    "        \n",
    "        new_h = (1-z_gate) * h + z_gate*h_tear\n",
    "        new_c = new_h\n",
    "        \n",
    "        new_state = tf.nn.rnn_cell.LSTMStateTuple(new_c, new_h)\n",
    "\n",
    "        return new_h, new_state"
   ]
  },
  {
   "cell_type": "code",
   "execution_count": 14,
   "metadata": {},
   "outputs": [],
   "source": [
    "def network(myLSTMCell,inputs,targets):\n",
    "\n",
    "    with tf.variable_scope('embedding_matrix'):\n",
    "        embedding = tf.get_variable('embedding', [args.num_chars, args.num_units])\n",
    "        embedded_inputs = tf.nn.embedding_lookup(embedding, inputs)\n",
    "        inputs_list = tf.unstack(embedded_inputs, axis=1)  # shape: a list of [batch_size, num_units] length num_steps\n",
    "\n",
    "    with tf.variable_scope('LSTMCell') as myscope:\n",
    "        cell = myLSTMCell(args.num_units)\n",
    "        init_state = cell.zero_state(args.batch_size, tf.float32)\n",
    "        state = init_state\n",
    "        outputs = []\n",
    "\n",
    "        for time_, input in enumerate(inputs_list):\n",
    "            if time_ > 0:\n",
    "                myscope.reuse_variables()\n",
    "           \n",
    "            output, state = cell(input, state)\n",
    "            outputs.append(output)\n",
    "    # All hidden outputs for each batch and every step in the batch are reshaped\n",
    "    # as one long matrix to be transformed to logits and compared to targets.\n",
    "        output_reshaped = tf.reshape(tf.concat(outputs, 1), [-1, args.num_units])\n",
    "\n",
    "        final_state = state\n",
    "\n",
    "    with tf.variable_scope('regression'):\n",
    "        W = tf.get_variable('W', [args.num_units, args.num_chars])\n",
    "        b = tf.get_variable('b', [args.num_chars], initializer=tf.constant_initializer(0.0))\n",
    "        logits = tf.matmul(output_reshaped, W) + b\n",
    "        prob = tf.nn.softmax(logits)\n",
    "\n",
    "    with tf.variable_scope('cost'):\n",
    "        targets_straightened = tf.reshape(targets, [-1])\n",
    "        crossentropy = tf.nn.sparse_softmax_cross_entropy_with_logits(logits=logits, \n",
    "                                                    labels=targets_straightened)\n",
    "        loss = tf.reduce_mean(crossentropy)\n",
    "        cost = loss/args.batch_size/args.num_steps\n",
    "\n",
    "    with tf.variable_scope('optimizer'):\n",
    "        train_step = tf.train.AdamOptimizer(args.lr).minimize(loss)\n",
    "\n",
    "    with tf.variable_scope('saver'):\n",
    "        saver = tf.train.Saver()\n",
    "    return init_state, train_step, loss, final_state, saver, prob"
   ]
  },
  {
   "cell_type": "code",
   "execution_count": 15,
   "metadata": {},
   "outputs": [],
   "source": [
    "def trainer(myCell,num_batches=None):\n",
    "    \n",
    "    start_time = time.time()\n",
    "    tf.reset_default_graph()\n",
    "    # Define the placeholders\n",
    "    with tf.variable_scope('placeholders'):\n",
    "            inputs = tf.placeholder(tf.int32, [args.batch_size, args.num_steps])\n",
    "            targets = tf.placeholder(tf.int32, [args.batch_size, args.num_steps])\n",
    "    # Create the network\n",
    "    init_state, train_step, loss, final_state, saver, prob=network(myCell,inputs,targets)\n",
    "    print('train_num_batches',loader.train_num_batches)\n",
    "    \n",
    "    if (num_batches is None):\n",
    "        num_batches=loader.train_num_batches\n",
    "\n",
    "    with tf.Session() as sess:\n",
    "         \n",
    "        sess.run(tf.global_variables_initializer())\n",
    "        # computation graph for training\n",
    "        training_losses = []\n",
    "\n",
    "        for epoch in range(args.num_epochs):\n",
    "            loader.reset_batch_pointer()\n",
    "            state_ = sess.run(init_state)\n",
    "            training_loss = 0\n",
    "\n",
    "            for batch in range(num_batches):\n",
    "\n",
    "                x, y = loader.next_batch_train()\n",
    "\n",
    "                feed_dict = dict()\n",
    "                feed_dict[inputs] = x\n",
    "                feed_dict[targets] = y\n",
    "                \n",
    "                if ('RNN' in myCell.__name__):\n",
    "                    feed_dict[init_state] = state_\n",
    "                else:\n",
    "                    feed_dict[init_state.c] = state_.c\n",
    "                    feed_dict[init_state.h] = state_.h\n",
    "\n",
    "                train_loss_, state_, _ = sess.run([loss, final_state, train_step], feed_dict=feed_dict)\n",
    "                training_loss += train_loss_\n",
    "            training_loss=training_loss/num_batches\n",
    "            print('epoch:', epoch, 'loss:',  training_loss)\n",
    "            training_losses.append(training_loss)\n",
    "        saver.save(sess, os.path.join(args.save_dir, 'saved_model'))\n",
    "    \n",
    "    end_time = time.time()\n",
    "    \n",
    "    timer(start_time, end_time)\n",
    "    return(training_losses)"
   ]
  },
  {
   "cell_type": "raw",
   "metadata": {},
   "source": []
  },
  {
   "cell_type": "code",
   "execution_count": 14,
   "metadata": {},
   "outputs": [
    {
     "name": "stdout",
     "output_type": "stream",
     "text": [
      "train_num_batches 185\n",
      "epoch: 0 loss: 2.3512845264898763\n",
      "epoch: 1 loss: 1.79413751395973\n",
      "epoch: 2 loss: 1.6284469804248294\n",
      "epoch: 3 loss: 1.5361737489700318\n",
      "epoch: 4 loss: 1.4740768799910675\n",
      "epoch: 5 loss: 1.4320809776718553\n",
      "epoch: 6 loss: 1.399008989978481\n",
      "epoch: 7 loss: 1.3731264997173\n",
      "epoch: 8 loss: 1.3506505489349365\n",
      "epoch: 9 loss: 1.3317207349313271\n",
      "epoch: 10 loss: 1.3155785425289257\n",
      "epoch: 11 loss: 1.3017396102080474\n",
      "epoch: 12 loss: 1.2906548925348231\n",
      "epoch: 13 loss: 1.2782362216227763\n",
      "epoch: 14 loss: 1.2672040082312919\n",
      "epoch: 15 loss: 1.257996859421601\n",
      "epoch: 16 loss: 1.2500169270747417\n",
      "epoch: 17 loss: 1.2410382876525055\n",
      "epoch: 18 loss: 1.232925194018596\n",
      "epoch: 19 loss: 1.227118014644932\n",
      "epoch: 20 loss: 1.2206680471832687\n",
      "epoch: 21 loss: 1.2148376941680907\n",
      "epoch: 22 loss: 1.2107924835101977\n",
      "epoch: 23 loss: 1.2043923216897088\n",
      "epoch: 24 loss: 1.1998636065302668\n",
      "epoch: 25 loss: 1.1968133829735421\n",
      "epoch: 26 loss: 1.1937202073432305\n",
      "epoch: 27 loss: 1.188500223288665\n",
      "epoch: 28 loss: 1.1840990646465404\n",
      "epoch: 29 loss: 1.1810637905791\n",
      "00 hours 04 minutes 41.41 seconds\n"
     ]
    }
   ],
   "source": [
    "re_lstm_basic = trainer(MyBasicLSTMCell)"
   ]
  },
  {
   "cell_type": "code",
   "execution_count": 33,
   "metadata": {
    "scrolled": true
   },
   "outputs": [
    {
     "name": "stdout",
     "output_type": "stream",
     "text": [
      "train_num_batches 185\n",
      "epoch: 0 loss: 2.2818055597511497\n",
      "epoch: 1 loss: 1.8383384852795988\n",
      "epoch: 2 loss: 1.6897879845387227\n",
      "epoch: 3 loss: 1.6083508742822183\n",
      "epoch: 4 loss: 1.5571155741408065\n",
      "epoch: 5 loss: 1.5210590182123958\n",
      "epoch: 6 loss: 1.4940589685697814\n",
      "epoch: 7 loss: 1.4730424674781593\n",
      "epoch: 8 loss: 1.4561327470315468\n",
      "epoch: 9 loss: 1.4421495405403344\n",
      "epoch: 10 loss: 1.4304097974622572\n",
      "epoch: 11 loss: 1.4205671742155745\n",
      "epoch: 12 loss: 1.4117792123072856\n",
      "epoch: 13 loss: 1.4037732723596934\n",
      "epoch: 14 loss: 1.396948775085243\n",
      "epoch: 15 loss: 1.3912428868783486\n",
      "epoch: 16 loss: 1.3862537145614624\n",
      "epoch: 17 loss: 1.381768251754142\n",
      "epoch: 18 loss: 1.3775134099496378\n",
      "epoch: 19 loss: 1.373505989280907\n",
      "epoch: 20 loss: 1.3695869316925873\n",
      "epoch: 21 loss: 1.3661656328149745\n",
      "epoch: 22 loss: 1.363321708988499\n",
      "epoch: 23 loss: 1.3609219911936168\n",
      "epoch: 24 loss: 1.3586723469399118\n",
      "epoch: 25 loss: 1.3567053562886007\n",
      "epoch: 26 loss: 1.3552206058759948\n",
      "epoch: 27 loss: 1.3530423963392102\n",
      "epoch: 28 loss: 1.3502178797850737\n",
      "epoch: 29 loss: 1.348085652815329\n",
      "00 hours 01 minutes 50.99 seconds\n"
     ]
    }
   ],
   "source": [
    "re_rnn_basic = trainer(MyBasicRNNCell)"
   ]
  },
  {
   "cell_type": "code",
   "execution_count": 16,
   "metadata": {},
   "outputs": [],
   "source": [
    "def Synthesize(MyCell,init_string=\"None\"):\n",
    "    tf.reset_default_graph()\n",
    "    num_steps_bak=args.num_steps\n",
    "    batch_size_bak=args.batch_size\n",
    "    args.num_steps=1\n",
    "    args.batch_size=1\n",
    "    with tf.variable_scope('placeholders'):\n",
    "            inputs = tf.placeholder(tf.int32, [args.batch_size, args.num_steps])\n",
    "            targets = tf.placeholder(tf.int32, [args.batch_size, args.num_steps])\n",
    "    init_state, train_step, loss, final_state, saver, prob=network(MyCell,inputs,targets)\n",
    "\n",
    "    # Define initialization\n",
    "    if (init_string is None):\n",
    "        initialization = 'Where are you going today?'\n",
    "    else:\n",
    "        initialization = init_string\n",
    "    loader= TextLoader(args.data_dir, batch_size=1, seq_length=1)\n",
    "\n",
    "    forecast_data=np.array(list(map(loader.vocab_to_idx.get, initialization)))\n",
    "    print(forecast_data)\n",
    "    forecast_range = 100\n",
    "    top_k=5\n",
    " \n",
    "    with tf.Session() as sess:\n",
    "\n",
    "        # Load saved model\n",
    "        saver.restore(sess, 'saved_model')\n",
    "        state_ = sess.run(init_state)\n",
    "\n",
    "        # Run rnn on initialization data to get final hidden state before simulation\n",
    "        state_ = sess.run(init_state)\n",
    "        for i in range(forecast_data.shape[0]):\n",
    "\n",
    "            feed_dict = dict()\n",
    "            # Feed current predicted\n",
    "            feed_dict[inputs] = forecast_data[i].reshape(args.batch_size, args.num_steps)\n",
    "            if ('RNN' in MyCell.__name__):\n",
    "                feed_dict[init_state] = state_\n",
    "            else:\n",
    "                feed_dict[init_state.c] = state_.c\n",
    "                feed_dict[init_state.h] = state_.h\n",
    "            # Get new hidden state and prediction probabilities\n",
    "            predicted_prob, state_ = sess.run([prob, final_state], feed_dict=feed_dict)\n",
    "\n",
    "        # last state of this step becomes first state of simulation\n",
    "\n",
    "        for i in range(forecast_range):\n",
    "\n",
    "            feed_dict = dict()\n",
    "            # Feed current predicted\n",
    "            feed_dict[inputs] = forecast_data[-args.num_steps:].reshape(args.batch_size, args.num_steps)\n",
    "            if ('RNN' in MyCell.__name__):\n",
    "                feed_dict[init_state] = state_\n",
    "            else:\n",
    "                feed_dict[init_state.c] = state_.c\n",
    "                feed_dict[init_state.h] = state_.h\n",
    "            predicted_prob, state_ = sess.run([prob, final_state], feed_dict=feed_dict)\n",
    "\n",
    "            predicted_prob = predicted_prob.ravel()\n",
    "            # Simulate from top top_k probs\n",
    "            predicted_prob[np.argsort(predicted_prob)[:-top_k]] = 0\n",
    "            predicted_prob = predicted_prob/np.sum(predicted_prob)\n",
    "            sample = np.random.choice(args.num_chars, 1, p=predicted_prob)[0]\n",
    "\n",
    "\n",
    "            forecast_data = np.hstack((forecast_data, sample))\n",
    "\n",
    "    forecasted_chars = np.asarray([loader.idx_to_vocab[elem] for elem in forecast_data])\n",
    "\n",
    "    print(''.join(forecasted_chars))\n",
    "  \n",
    "    args.num_steps=num_steps_bak\n",
    "    args.batch_size=batch_size_bak"
   ]
  },
  {
   "cell_type": "code",
   "execution_count": 17,
   "metadata": {},
   "outputs": [],
   "source": [
    "def Tester(MyCell, num_batches=None):\n",
    "    tf.reset_default_graph()\n",
    "    with tf.variable_scope('placeholders'):\n",
    "            inputs = tf.placeholder(tf.int32, [args.batch_size, args.num_steps])\n",
    "            targets = tf.placeholder(tf.int32, [args.batch_size, args.num_steps])\n",
    "    init_state, train_step, loss, final_state, saver, prob=network(MyCell,inputs,targets)\n",
    "\n",
    "    # Define initialization\n",
    "    initialization = 'Where are you going today?'\n",
    "    loader= TextLoader(args.data_dir, batch_size=args.batch_size, seq_length=args.num_steps)\n",
    "\n",
    "    forecast_data=np.array(list(map(loader.vocab_to_idx.get, initialization)))\n",
    "    print(forecast_data)\n",
    "    forecast_range = 100\n",
    "    top_k=5\n",
    " \n",
    "    if (num_batches is None):\n",
    "        num_batches=loader.test_num_batches\n",
    "    with tf.Session() as sess:\n",
    "\n",
    "        # Load saved model\n",
    "        saver.restore(sess, 'saved_model')\n",
    "        state_ = sess.run(init_state)\n",
    "\n",
    "        loader.reset_batch_pointer()\n",
    "        \n",
    "         # Get test error loss\n",
    "        test_loss = 0\n",
    "        print('num_batches',num_batches)\n",
    "\n",
    "        for batch in range(num_batches):\n",
    "\n",
    "            x, y = loader.next_batch_test()\n",
    "\n",
    "            feed_dict = dict()\n",
    "            feed_dict[inputs] = x\n",
    "            feed_dict[targets] = y\n",
    "\n",
    "            if ('RNN' in MyCell.__name__):\n",
    "                feed_dict[init_state] = state_\n",
    "            else:\n",
    "                feed_dict[init_state.c] = state_.c\n",
    "                feed_dict[init_state.h] = state_.h\n",
    "\n",
    "            test_loss_, state_= sess.run([loss, final_state], feed_dict=feed_dict)\n",
    "            test_loss += test_loss_\n",
    "        test_loss=test_loss/num_batches\n",
    "        print('test loss:',  test_loss)\n",
    "\n",
    "\n",
    "    \n",
    "    return(test_loss)"
   ]
  },
  {
   "cell_type": "code",
   "execution_count": 17,
   "metadata": {},
   "outputs": [
    {
     "name": "stdout",
     "output_type": "stream",
     "text": [
      "there are preprocessed data - lets load it\n",
      "[39  5  1  7  1  0  4  7  1  0 15  3 13  0 20  3  9  8 20  0  2  3 12  4\n",
      " 15 44]\n",
      "INFO:tensorflow:Restoring parameters from saved_model\n",
      "num_batches 47\n",
      "test loss: 1.4114972708073068\n"
     ]
    },
    {
     "data": {
      "text/plain": [
       "1.4114972708073068"
      ]
     },
     "execution_count": 17,
     "metadata": {},
     "output_type": "execute_result"
    }
   ],
   "source": [
    "Tester(MyBasicLSTMCell)"
   ]
  },
  {
   "cell_type": "code",
   "execution_count": 18,
   "metadata": {},
   "outputs": [
    {
     "name": "stdout",
     "output_type": "stream",
     "text": [
      "there are preprocessed data - lets load it\n",
      "[39  5  4  2  0  9  6  0  2  5  1  0 14  1  4  8  9  8 20  0  3 18  0 11\n",
      "  9 18  1]\n",
      "INFO:tensorflow:Restoring parameters from saved_model\n",
      "What is the meaning of lifen\n",
      "As an adite to the presence.\n",
      "\n",
      "BUCKINGHAM:\n",
      "Madam, they do that have send you that,\n",
      "Being, though al\n"
     ]
    }
   ],
   "source": [
    "Synthesize(MyBasicLSTMCell,\"What is the meaning of life\")"
   ]
  },
  {
   "cell_type": "code",
   "execution_count": null,
   "metadata": {},
   "outputs": [],
   "source": []
  },
  {
   "cell_type": "markdown",
   "metadata": {},
   "source": [
    "# (a) play with the architecture"
   ]
  },
  {
   "cell_type": "code",
   "execution_count": 21,
   "metadata": {},
   "outputs": [
    {
     "data": {
      "image/png": "[encoded data removed]",
      "text/plain": [
       "<Figure size 432x288 with 1 Axes>"
      ]
     },
     "metadata": {},
     "output_type": "display_data"
    }
   ],
   "source": [
    "epcs = [i for i in range(len(re_lstm_basic))]\n",
    "plt.plot(epcs,re_lstm_basic)\n",
    "plt.title(\"loss for training data\")\n",
    "plt.show()\n"
   ]
  },
  {
   "cell_type": "code",
   "execution_count": 29,
   "metadata": {},
   "outputs": [
    {
     "name": "stdout",
     "output_type": "stream",
     "text": [
      "there are preprocessed data - lets load it\n",
      "[49  4  7  1 17  1 11 11 25]\n",
      "INFO:tensorflow:Restoring parameters from saved_model\n",
      "Farewell.\n",
      "\n",
      "MENENIUS:\n",
      "Not all, to bear, he seek'd i' thy state:\n",
      "The prisoner of the marker-naturned wife;\n",
      "Whil\n"
     ]
    }
   ],
   "source": [
    "Synthesize(MyBasicLSTMCell,\"Farewell.\")"
   ]
  },
  {
   "cell_type": "code",
   "execution_count": 30,
   "metadata": {},
   "outputs": [
    {
     "name": "stdout",
     "output_type": "stream",
     "text": [
      "there are preprocessed data - lets load it\n",
      "[26  8 12  0 28  1  1 23  0 15  3 13  7  0  5  3  8  3 13  7  6  0  6  4\n",
      " 18  1 46]\n",
      "INFO:tensorflow:Restoring parameters from saved_model\n",
      "And keep your honours safe!\n",
      "Lue and there thou hast not worldly heaven,\n",
      "Wherein thy huma'st that we swear'd;' 'I'll take\n",
      "you al\n"
     ]
    }
   ],
   "source": [
    "Synthesize(MyBasicLSTMCell,\"And keep your honours safe!\")"
   ]
  },
  {
   "cell_type": "code",
   "execution_count": 31,
   "metadata": {},
   "outputs": [
    {
     "name": "stdout",
     "output_type": "stream",
     "text": [
      "there are preprocessed data - lets load it\n",
      "[36  3  3 28 16  0  6  9  7 25]\n",
      "INFO:tensorflow:Restoring parameters from saved_model\n",
      "Look, sir.\n",
      "\n",
      "BIANCA:\n",
      "Beheld him that they be a constitue.\n",
      "\n",
      "ANGELO:\n",
      "And with thee, my lord or the letters to hol\n"
     ]
    }
   ],
   "source": [
    "Synthesize(MyBasicLSTMCell,\"Look, sir.\")"
   ]
  },
  {
   "cell_type": "code",
   "execution_count": 32,
   "metadata": {},
   "outputs": [
    {
     "name": "stdout",
     "output_type": "stream",
     "text": [
      "there are preprocessed data - lets load it\n",
      "[42  4 28  1  0 20  3  3 12  0  2  5  9  6  0  3  6  2  1  8  2  4  2  9\n",
      "  3  8 16  0  4  8 12  0 15  3 13  0  6  5  4 11 11  0 47  9 27  9 12  1\n",
      "  0  9  8  0  4 11 11  0 17  9  2  5  0 13  6 25]\n",
      "INFO:tensorflow:Restoring parameters from saved_model\n",
      "Make good this ostentation, and you shall Divide in all with us.\n",
      "\n",
      "QUEEN MARGARET:\n",
      "No more are shoning, be mocker.\n",
      "\n",
      "PAULINA:\n",
      "I'll stay as I die, who is the morn outs\n"
     ]
    }
   ],
   "source": [
    "Synthesize(MyBasicLSTMCell,\"Make good this ostentation, and you shall Divide in all with us.\")"
   ]
  },
  {
   "cell_type": "code",
   "execution_count": 28,
   "metadata": {},
   "outputs": [
    {
     "name": "stdout",
     "output_type": "stream",
     "text": [
      "there are preprocessed data - lets load it\n",
      "[39  5  1  7  1  0  4  7  1  0 15  3 13  0 20  3  9  8 20  0  2  3 12  4\n",
      " 15 44]\n",
      "INFO:tensorflow:Restoring parameters from saved_model\n",
      "num_batches 47\n",
      "test loss: 1.4114972708073068\n"
     ]
    },
    {
     "data": {
      "text/plain": [
       "1.4114972708073068"
      ]
     },
     "execution_count": 28,
     "metadata": {},
     "output_type": "execute_result"
    }
   ],
   "source": [
    "Tester(MyBasicLSTMCell)"
   ]
  },
  {
   "cell_type": "markdown",
   "metadata": {},
   "source": [
    "### Comment:\n",
    "This experiment gives us a sense of how well a RNN (with LSTM) can generate new texts. The results are quite good, many of the synthesized sentences make sense and seem to follow the input sentence. "
   ]
  },
  {
   "cell_type": "markdown",
   "metadata": {},
   "source": [
    "# (b) Compare with RNN"
   ]
  },
  {
   "cell_type": "code",
   "execution_count": 124,
   "metadata": {},
   "outputs": [
    {
     "name": "stdout",
     "output_type": "stream",
     "text": [
      "train_num_batches 185\n",
      "epoch: 0 loss: 2.278072653590022\n",
      "epoch: 1 loss: 1.8336338146312816\n",
      "epoch: 2 loss: 1.686809637095477\n",
      "epoch: 3 loss: 1.6048998574952822\n",
      "epoch: 4 loss: 1.5534927690351332\n",
      "epoch: 5 loss: 1.5175468992542576\n",
      "epoch: 6 loss: 1.490863183382395\n",
      "epoch: 7 loss: 1.470065796697462\n",
      "epoch: 8 loss: 1.4533231818998182\n",
      "epoch: 9 loss: 1.4395658673466862\n",
      "epoch: 10 loss: 1.427987441501102\n",
      "epoch: 11 loss: 1.4180384300850533\n",
      "epoch: 12 loss: 1.4094094727490398\n",
      "epoch: 13 loss: 1.4018475345663122\n",
      "epoch: 14 loss: 1.395225325146237\n",
      "epoch: 15 loss: 1.3894909530072599\n",
      "epoch: 16 loss: 1.384377310082719\n",
      "epoch: 17 loss: 1.3799945618655232\n",
      "epoch: 18 loss: 1.3761914362778536\n",
      "epoch: 19 loss: 1.3724097387210743\n",
      "epoch: 20 loss: 1.368999376168122\n",
      "epoch: 21 loss: 1.3666021347045898\n",
      "epoch: 22 loss: 1.3643000132328755\n",
      "epoch: 23 loss: 1.3605506465241717\n",
      "epoch: 24 loss: 1.3568198912852518\n",
      "epoch: 25 loss: 1.3539022484341183\n",
      "epoch: 26 loss: 1.3515175497209704\n",
      "epoch: 27 loss: 1.3498986650157618\n",
      "epoch: 28 loss: 1.3492409242166055\n",
      "epoch: 29 loss: 1.3479887930122583\n",
      "00 hours 01 minutes 52.03 seconds\n"
     ]
    }
   ],
   "source": [
    "re_rnn_basic = trainer(MyBasicRNNCell)"
   ]
  },
  {
   "cell_type": "code",
   "execution_count": 126,
   "metadata": {},
   "outputs": [
    {
     "data": {
      "image/png": "[encoded data removed]",
      "text/plain": [
       "<Figure size 432x288 with 1 Axes>"
      ]
     },
     "metadata": {},
     "output_type": "display_data"
    }
   ],
   "source": [
    "epcs = [i for i in range(len(re_rnn_basic))]\n",
    "plt.plot(epcs,re_rnn_basic)\n",
    "plt.title(\"loss for training data\")\n",
    "plt.show()\n"
   ]
  },
  {
   "cell_type": "code",
   "execution_count": 128,
   "metadata": {},
   "outputs": [
    {
     "name": "stdout",
     "output_type": "stream",
     "text": [
      "there are preprocessed data - lets load it\n",
      "[39  5  1  7  1  0  4  7  1  0 15  3 13  0 20  3  9  8 20  0  2  3 12  4\n",
      " 15 44]\n",
      "INFO:tensorflow:Restoring parameters from saved_model\n",
      "num_batches 47\n",
      "test loss: 1.4653091430664062\n"
     ]
    },
    {
     "data": {
      "text/plain": [
       "1.4653091430664062"
      ]
     },
     "execution_count": 128,
     "metadata": {},
     "output_type": "execute_result"
    }
   ],
   "source": [
    "Tester(MyBasicRNNCell)"
   ]
  },
  {
   "cell_type": "code",
   "execution_count": 127,
   "metadata": {},
   "outputs": [
    {
     "name": "stdout",
     "output_type": "stream",
     "text": [
      "there are preprocessed data - lets load it\n",
      "[49  4  7  1 17  1 11 11 25]\n",
      "INFO:tensorflow:Restoring parameters from saved_model\n",
      "Farewell.\n",
      "Ahoman's like me;\n",
      "And,\n",
      "So should to the brave and by his father by the commands of the word.\n",
      "\n",
      "ARIEL\n"
     ]
    }
   ],
   "source": [
    "Synthesize(MyBasicRNNCell,\"Farewell.\")"
   ]
  },
  {
   "cell_type": "code",
   "execution_count": 37,
   "metadata": {},
   "outputs": [
    {
     "name": "stdout",
     "output_type": "stream",
     "text": [
      "there are preprocessed data - lets load it\n",
      "[26  8 12  0 28  1  1 23  0 15  3 13  7  0  5  3  8  3 13  7  6  0  6  4\n",
      " 18  1 46]\n",
      "INFO:tensorflow:Restoring parameters from saved_model\n",
      "And keep your honours safe!\n",
      "\n",
      "ANGELO:\n",
      "A bays,\n",
      "And by my brother,\n",
      "Make all this is to see that the chieful and bride them about t\n"
     ]
    }
   ],
   "source": [
    "Synthesize(MyBasicRNNCell,\"And keep your honours safe!\")"
   ]
  },
  {
   "cell_type": "code",
   "execution_count": 38,
   "metadata": {},
   "outputs": [
    {
     "name": "stdout",
     "output_type": "stream",
     "text": [
      "there are preprocessed data - lets load it\n",
      "[36  3  3 28 16  0  6  9  7 25]\n",
      "INFO:tensorflow:Restoring parameters from saved_model\n",
      "Look, sir.\n",
      "\n",
      "AUTOLYCUS:\n",
      "And see the word.\n",
      "\n",
      "BRUTUS:\n",
      "In all thy morching by him.\n",
      "\n",
      "Clord:\n",
      "What would not as her fo\n"
     ]
    }
   ],
   "source": [
    "Synthesize(MyBasicRNNCell,\"Look, sir.\")"
   ]
  },
  {
   "cell_type": "code",
   "execution_count": 39,
   "metadata": {},
   "outputs": [
    {
     "name": "stdout",
     "output_type": "stream",
     "text": [
      "there are preprocessed data - lets load it\n",
      "[42  4 28  1  0 20  3  3 12  0  2  5  9  6  0  3  6  2  1  8  2  4  2  9\n",
      "  3  8 16  0  4  8 12  0 15  3 13  0  6  5  4 11 11  0 47  9 27  9 12  1\n",
      "  0  9  8  0  4 11 11  0 17  9  2  5  0 13  6 25]\n",
      "INFO:tensorflow:Restoring parameters from saved_model\n",
      "Make good this ostentation, and you shall Divide in all with us.\n",
      "\n",
      "DUKE VINCENTIO:\n",
      "Why, when thy tone, brother of the pray, and thence ourselves.--warring to be sent\n"
     ]
    }
   ],
   "source": [
    "Synthesize(MyBasicRNNCell,\"Make good this ostentation, and you shall Divide in all with us.\")"
   ]
  },
  {
   "cell_type": "markdown",
   "metadata": {},
   "source": [
    "### Comment:\n",
    "With only 1/4 of the parameters, the common RNN performs worse than RRN with LSTM, both in terms of training data and test data. The results will be summarised in the end of the file. "
   ]
  },
  {
   "cell_type": "markdown",
   "metadata": {},
   "source": [
    "## (C)"
   ]
  },
  {
   "cell_type": "markdown",
   "metadata": {},
   "source": [
    "## Alternative 1:  RNN with the same number of paramters\n",
    "I change the default of num_units to be 2 times the original.<br>\n",
    "When dimension of dim(h) >> dim(x), we have 4 times the number of paramters"
   ]
  },
  {
   "cell_type": "code",
   "execution_count": 26,
   "metadata": {},
   "outputs": [
    {
     "name": "stdout",
     "output_type": "stream",
     "text": [
      "train_num_batches 185\n",
      "epoch: 0 loss: 2.2097253612569863\n",
      "epoch: 1 loss: 1.7540055700250574\n",
      "epoch: 2 loss: 1.600972245834969\n",
      "epoch: 3 loss: 1.5188016968804436\n",
      "epoch: 4 loss: 1.467398614496798\n",
      "epoch: 5 loss: 1.4303846797427615\n",
      "epoch: 6 loss: 1.4010547676601925\n",
      "epoch: 7 loss: 1.3781295293086284\n",
      "epoch: 8 loss: 1.3596035718917847\n",
      "epoch: 9 loss: 1.3442243002556467\n",
      "epoch: 10 loss: 1.3316340227384824\n",
      "epoch: 11 loss: 1.3230614765270337\n",
      "epoch: 12 loss: 1.316254168587762\n",
      "epoch: 13 loss: 1.3088844756822329\n",
      "epoch: 14 loss: 1.3027201278789624\n",
      "epoch: 15 loss: 1.3010346605971053\n",
      "epoch: 16 loss: 1.2971659299489615\n",
      "epoch: 17 loss: 1.293206364399678\n",
      "epoch: 18 loss: 1.2895451713252712\n",
      "epoch: 19 loss: 1.2854666941874735\n",
      "epoch: 20 loss: 1.2792502938090144\n",
      "epoch: 21 loss: 1.274756629402573\n",
      "epoch: 22 loss: 1.2716307556306994\n",
      "epoch: 23 loss: 1.2698234970505173\n",
      "epoch: 24 loss: 1.2683388188078597\n",
      "epoch: 25 loss: 1.2667475255759986\n",
      "epoch: 26 loss: 1.2650151336515272\n",
      "epoch: 27 loss: 1.262469288465139\n",
      "epoch: 28 loss: 1.261826745239464\n",
      "epoch: 29 loss: 1.2600709451211465\n",
      "00 hours 02 minutes 56.66 seconds\n"
     ]
    }
   ],
   "source": [
    "re_rnn_same_para = trainer(MyBasicRNNCell)"
   ]
  },
  {
   "cell_type": "code",
   "execution_count": 27,
   "metadata": {},
   "outputs": [
    {
     "data": {
      "image/png": "[encoded data removed]",
      "text/plain": [
       "<Figure size 432x288 with 1 Axes>"
      ]
     },
     "metadata": {},
     "output_type": "display_data"
    }
   ],
   "source": [
    "epcs = [i for i in range(len(re_rnn_same_para))]\n",
    "plt.plot(epcs,re_rnn_same_para)\n",
    "plt.title(\"loss for training data\")\n",
    "plt.show()"
   ]
  },
  {
   "cell_type": "code",
   "execution_count": 28,
   "metadata": {},
   "outputs": [
    {
     "name": "stdout",
     "output_type": "stream",
     "text": [
      "there are preprocessed data - lets load it\n",
      "[39  5  1  7  1  0  4  7  1  0 15  3 13  0 20  3  9  8 20  0  2  3 12  4\n",
      " 15 44]\n",
      "INFO:tensorflow:Restoring parameters from saved_model\n",
      "num_batches 47\n",
      "test loss: 1.458363134810265\n"
     ]
    },
    {
     "data": {
      "text/plain": [
       "1.458363134810265"
      ]
     },
     "execution_count": 28,
     "metadata": {},
     "output_type": "execute_result"
    }
   ],
   "source": [
    "Tester(MyBasicRNNCell)"
   ]
  },
  {
   "cell_type": "code",
   "execution_count": 29,
   "metadata": {},
   "outputs": [
    {
     "name": "stdout",
     "output_type": "stream",
     "text": [
      "there are preprocessed data - lets load it\n",
      "[49  4  7  1 17  1 11 11 25]\n",
      "INFO:tensorflow:Restoring parameters from saved_model\n",
      "Farewell.\n",
      "\n",
      "ANTONIO:\n",
      "I do be so.\n",
      "\n",
      "SEBASTIAN:\n",
      "'Sigute as the beasts,\n",
      "The people:\n",
      "And is the charms to die, manc\n"
     ]
    }
   ],
   "source": [
    "Synthesize(MyBasicRNNCell,\"Farewell.\")"
   ]
  },
  {
   "cell_type": "markdown",
   "metadata": {},
   "source": [
    "### Comment: \n",
    "with increasing number of paramters, the error rate on training data indeed drops. However, when it comes on test data, the performance is not too much better than the original RNN."
   ]
  },
  {
   "cell_type": "markdown",
   "metadata": {},
   "source": [
    "## Alternative 2: RNN with two layers\n",
    "I add a second layer to RNN node, and the out put is the tanh of the linear combination"
   ]
  },
  {
   "cell_type": "code",
   "execution_count": 30,
   "metadata": {
    "scrolled": true
   },
   "outputs": [
    {
     "name": "stdout",
     "output_type": "stream",
     "text": [
      "train_num_batches 185\n",
      "epoch: 0 loss: 2.3581952533206425\n",
      "epoch: 1 loss: 2.049096925194199\n",
      "epoch: 2 loss: 1.834638035619581\n",
      "epoch: 3 loss: 1.6918359685588527\n",
      "epoch: 4 loss: 1.6033923613058554\n",
      "epoch: 5 loss: 1.5479144244580656\n",
      "epoch: 6 loss: 1.5125735521316528\n",
      "epoch: 7 loss: 1.4736184197503168\n",
      "epoch: 8 loss: 1.452280355788566\n",
      "epoch: 9 loss: 1.432181021329519\n",
      "epoch: 10 loss: 1.4165653299640966\n",
      "epoch: 11 loss: 1.401964351293203\n",
      "epoch: 12 loss: 1.3804971140784186\n",
      "epoch: 13 loss: 1.3730403449084307\n",
      "epoch: 14 loss: 1.3641971407709894\n",
      "epoch: 15 loss: 1.3514305507814561\n",
      "epoch: 16 loss: 1.3403762340545655\n",
      "epoch: 17 loss: 1.3344579194043134\n",
      "epoch: 18 loss: 1.3359644161688315\n",
      "epoch: 19 loss: 1.3267669452203286\n",
      "epoch: 20 loss: 1.3177874307374697\n",
      "epoch: 21 loss: 1.3081248444479865\n",
      "epoch: 22 loss: 1.3071890186619115\n",
      "epoch: 23 loss: 1.31158167542638\n",
      "epoch: 24 loss: 1.307638204419935\n",
      "epoch: 25 loss: 1.2925809325398625\n",
      "epoch: 26 loss: 1.2988367621963088\n",
      "epoch: 27 loss: 1.296899526828044\n",
      "epoch: 28 loss: 1.2915581877167162\n",
      "epoch: 29 loss: 1.2931328225780179\n",
      "00 hours 05 minutes 47.30 seconds\n"
     ]
    }
   ],
   "source": [
    "re_rnn_two_layers = trainer(MyBasicRNNCell_layer2)"
   ]
  },
  {
   "cell_type": "code",
   "execution_count": 31,
   "metadata": {},
   "outputs": [
    {
     "data": {
      "image/png": "[encoded data removed]",
      "text/plain": [
       "<Figure size 432x288 with 1 Axes>"
      ]
     },
     "metadata": {},
     "output_type": "display_data"
    }
   ],
   "source": [
    "epcs = [i for i in range(len(re_rnn_two_layers))]\n",
    "plt.plot(epcs,re_rnn_two_layers)\n",
    "plt.title(\"loss for training data\")\n",
    "plt.show()\n"
   ]
  },
  {
   "cell_type": "code",
   "execution_count": 32,
   "metadata": {},
   "outputs": [
    {
     "name": "stdout",
     "output_type": "stream",
     "text": [
      "there are preprocessed data - lets load it\n",
      "[39  5  1  7  1  0  4  7  1  0 15  3 13  0 20  3  9  8 20  0  2  3 12  4\n",
      " 15 44]\n",
      "INFO:tensorflow:Restoring parameters from saved_model\n",
      "num_batches 47\n",
      "test loss: 1.4703839763681938\n"
     ]
    },
    {
     "data": {
      "text/plain": [
       "1.4703839763681938"
      ]
     },
     "execution_count": 32,
     "metadata": {},
     "output_type": "execute_result"
    }
   ],
   "source": [
    "Tester(MyBasicRNNCell_layer2)"
   ]
  },
  {
   "cell_type": "code",
   "execution_count": 33,
   "metadata": {},
   "outputs": [
    {
     "name": "stdout",
     "output_type": "stream",
     "text": [
      "there are preprocessed data - lets load it\n",
      "[49  4  7  1 17  1 11 11 25]\n",
      "INFO:tensorflow:Restoring parameters from saved_model\n",
      "Farewell.\n",
      "\n",
      "GONZAS:\n",
      "Worse thou wilt to to broke fairless.\n",
      "\n",
      "ANTONIO:\n",
      "O, she way with tello,\n",
      "Or else hath been s\n"
     ]
    }
   ],
   "source": [
    "Synthesize(MyBasicRNNCell_layer2,\"Farewell.\")"
   ]
  },
  {
   "cell_type": "markdown",
   "metadata": {},
   "source": [
    "## Alternative 3: Coupled gating"
   ]
  },
  {
   "cell_type": "code",
   "execution_count": 18,
   "metadata": {},
   "outputs": [
    {
     "name": "stdout",
     "output_type": "stream",
     "text": [
      "train_num_batches 185\n",
      "epoch: 0 loss: 2.416046219258695\n",
      "epoch: 1 loss: 1.787982727385856\n",
      "epoch: 2 loss: 1.606355304331393\n",
      "epoch: 3 loss: 1.5116805392342645\n",
      "epoch: 4 loss: 1.4542713326376837\n",
      "epoch: 5 loss: 1.4124292528307116\n",
      "epoch: 6 loss: 1.382810181540412\n",
      "epoch: 7 loss: 1.3576596330952\n",
      "epoch: 8 loss: 1.338059553584537\n",
      "epoch: 9 loss: 1.3210553652531392\n",
      "epoch: 10 loss: 1.3059581421517037\n",
      "epoch: 11 loss: 1.2933708525992729\n",
      "epoch: 12 loss: 1.2821165574563516\n",
      "epoch: 13 loss: 1.2710156382741156\n",
      "epoch: 14 loss: 1.261094585624901\n",
      "epoch: 15 loss: 1.2522326063465428\n",
      "epoch: 16 loss: 1.2443409971288732\n",
      "epoch: 17 loss: 1.2375701066609976\n",
      "epoch: 18 loss: 1.231886580828074\n",
      "epoch: 19 loss: 1.2275213041821043\n",
      "epoch: 20 loss: 1.22187795059101\n",
      "epoch: 21 loss: 1.2168895431467004\n",
      "epoch: 22 loss: 1.2132112651257903\n",
      "epoch: 23 loss: 1.2107071129051414\n",
      "epoch: 24 loss: 1.2085606401031082\n",
      "epoch: 25 loss: 1.205659548011986\n",
      "epoch: 26 loss: 1.2031305422654024\n",
      "epoch: 27 loss: 1.1996572185207057\n",
      "epoch: 28 loss: 1.1961765727481326\n",
      "epoch: 29 loss: 1.191584316459862\n",
      "00 hours 04 minutes 33.95 seconds\n"
     ]
    }
   ],
   "source": [
    "re_lstm_cp_gates = trainer(MyBasicLSTMCell_cp_gates)"
   ]
  },
  {
   "cell_type": "code",
   "execution_count": 37,
   "metadata": {},
   "outputs": [
    {
     "data": {
      "image/png": "[encoded data removed]",
      "text/plain": [
       "<Figure size 432x288 with 1 Axes>"
      ]
     },
     "metadata": {},
     "output_type": "display_data"
    }
   ],
   "source": [
    "epcs = [i for i in range(len(re_lstm_cp_gates))]\n",
    "plt.plot(epcs,re_lstm_cp_gates)\n",
    "plt.title(\"loss for training data\")\n",
    "plt.show()\n"
   ]
  },
  {
   "cell_type": "code",
   "execution_count": 19,
   "metadata": {},
   "outputs": [
    {
     "name": "stdout",
     "output_type": "stream",
     "text": [
      "there are preprocessed data - lets load it\n",
      "[39  5  1  7  1  0  4  7  1  0 15  3 13  0 20  3  9  8 20  0  2  3 12  4\n",
      " 15 44]\n",
      "INFO:tensorflow:Restoring parameters from saved_model\n",
      "num_batches 47\n",
      "test loss: 1.408695715538999\n"
     ]
    },
    {
     "data": {
      "text/plain": [
       "1.408695715538999"
      ]
     },
     "execution_count": 19,
     "metadata": {},
     "output_type": "execute_result"
    }
   ],
   "source": [
    "Tester(MyBasicLSTMCell_cp_gates)"
   ]
  },
  {
   "cell_type": "code",
   "execution_count": 20,
   "metadata": {},
   "outputs": [
    {
     "name": "stdout",
     "output_type": "stream",
     "text": [
      "there are preprocessed data - lets load it\n",
      "[49  4  7  1 17  1 11 11 25]\n",
      "INFO:tensorflow:Restoring parameters from saved_model\n",
      "Farewell.\n",
      "\n",
      "BUCKINGHAM:\n",
      "Well, my lord; my lord. I dare now him the sun there.\n",
      "The tiely due he shoot him again\n"
     ]
    }
   ],
   "source": [
    "Synthesize(MyBasicLSTMCell_cp_gates,\"Farewell.\")"
   ]
  },
  {
   "cell_type": "markdown",
   "metadata": {},
   "source": [
    "### Comment:\n",
    "This method actually uses only one third of the parameters of RRN with LSTM (though I set the dimension to be 4*num_units, one dimension is not used at all). The result is remarkably good, even better than RNN with LSTM. "
   ]
  },
  {
   "cell_type": "markdown",
   "metadata": {},
   "source": [
    "## Alternative 4: Gers_Schmidhuber_variant\n",
    " Similar to GS,except that I use the old cell state in the output generation."
   ]
  },
  {
   "cell_type": "code",
   "execution_count": 15,
   "metadata": {},
   "outputs": [
    {
     "name": "stdout",
     "output_type": "stream",
     "text": [
      "train_num_batches 185\n",
      "epoch: 0 loss: 3.363343974706289\n",
      "epoch: 1 loss: 3.3163019927772317\n",
      "epoch: 2 loss: 3.315732444299234\n",
      "epoch: 3 loss: 3.3158376861262964\n",
      "epoch: 4 loss: 3.3160069298099826\n",
      "epoch: 5 loss: 3.3159387756038354\n",
      "epoch: 6 loss: 3.315959697156339\n",
      "epoch: 7 loss: 3.3155026384302086\n",
      "epoch: 8 loss: 3.3154809255857725\n",
      "epoch: 9 loss: 3.315448213267971\n",
      "epoch: 10 loss: 3.3159282555451264\n",
      "epoch: 11 loss: 3.3196518395398114\n",
      "epoch: 12 loss: 3.3397991554157156\n",
      "epoch: 13 loss: 3.3248990097561397\n",
      "epoch: 14 loss: 3.318152376123377\n",
      "epoch: 15 loss: 3.315842967420011\n",
      "epoch: 16 loss: 3.31541095166593\n",
      "epoch: 17 loss: 3.31460062748677\n",
      "epoch: 18 loss: 3.3142789531398464\n",
      "epoch: 19 loss: 3.314352188883601\n",
      "epoch: 20 loss: 3.3144172720006995\n",
      "epoch: 21 loss: 3.3146032178724134\n",
      "epoch: 22 loss: 3.3137088608097387\n",
      "epoch: 23 loss: 3.314081706227483\n",
      "epoch: 24 loss: 3.313422527828732\n",
      "epoch: 25 loss: 3.3145206064791295\n",
      "epoch: 26 loss: 3.3148009003819645\n",
      "epoch: 27 loss: 3.315016305768812\n",
      "epoch: 28 loss: 3.3144130487699766\n",
      "epoch: 29 loss: 3.3142786528613115\n",
      "00 hours 05 minutes 14.57 seconds\n"
     ]
    }
   ],
   "source": [
    "re_lstm_gsv = trainer(MyBasicLSTMCell_GS_var)"
   ]
  },
  {
   "cell_type": "code",
   "execution_count": 16,
   "metadata": {},
   "outputs": [
    {
     "data": {
      "image/png": "[encoded data removed]",
      "text/plain": [
       "<Figure size 432x288 with 1 Axes>"
      ]
     },
     "metadata": {},
     "output_type": "display_data"
    }
   ],
   "source": [
    "epcs = [i for i in range(len(re_lstm_gsv))]\n",
    "plt.plot(epcs,re_lstm_gsv)\n",
    "plt.title(\"loss for training data\")\n",
    "plt.show()\n"
   ]
  },
  {
   "cell_type": "code",
   "execution_count": 22,
   "metadata": {},
   "outputs": [
    {
     "name": "stdout",
     "output_type": "stream",
     "text": [
      "there are preprocessed data - lets load it\n",
      "[49  4  7  1 17  1 11 11 25]\n",
      "INFO:tensorflow:Restoring parameters from saved_model\n",
      "Farewell. h s neenonnoa e th eah  oe aoaa ooe ho a h  eoa eeaeh e  aaeooo   \n",
      "o  ttt t   \n",
      "\n",
      " o o  o ee ttto e e\n"
     ]
    }
   ],
   "source": [
    "Synthesize(MyBasicLSTMCell_GS_var,\"Farewell.\")"
   ]
  },
  {
   "cell_type": "markdown",
   "metadata": {},
   "source": [
    "### Comment:\n",
    "It turns out the result is simply nonsense. Indeed the new cell state can be very different from the old ones. I will implement the true Gers_Schmidhuber_variant later. "
   ]
  },
  {
   "cell_type": "markdown",
   "metadata": {},
   "source": [
    "## Alternative 5: LSTM without outgating\n",
    "I remove the output gating process from RNN with LSTM"
   ]
  },
  {
   "cell_type": "code",
   "execution_count": 55,
   "metadata": {},
   "outputs": [
    {
     "name": "stdout",
     "output_type": "stream",
     "text": [
      "train_num_batches 185\n",
      "epoch: 0 loss: 2.511373808577254\n",
      "epoch: 1 loss: 1.9185032599681133\n",
      "epoch: 2 loss: 1.7227911723626625\n",
      "epoch: 3 loss: 1.6110828824945398\n",
      "epoch: 4 loss: 1.5375597599390392\n",
      "epoch: 5 loss: 1.4864330994116293\n",
      "epoch: 6 loss: 1.4469531703639675\n",
      "epoch: 7 loss: 1.4160834976144738\n",
      "epoch: 8 loss: 1.3893059021717793\n",
      "epoch: 9 loss: 1.3695026958310925\n",
      "epoch: 10 loss: 1.3505120850898125\n",
      "epoch: 11 loss: 1.3340654959549776\n",
      "epoch: 12 loss: 1.3195242978431083\n",
      "epoch: 13 loss: 1.3065423308192072\n",
      "epoch: 14 loss: 1.29625913774645\n",
      "epoch: 15 loss: 1.2858429019515578\n",
      "epoch: 16 loss: 1.276657953133454\n",
      "epoch: 17 loss: 1.2668228284732717\n",
      "epoch: 18 loss: 1.2582147250304352\n",
      "epoch: 19 loss: 1.2505114291165327\n",
      "epoch: 20 loss: 1.2436416903057614\n",
      "epoch: 21 loss: 1.2398329921670863\n",
      "epoch: 22 loss: 1.2333261399655728\n",
      "epoch: 23 loss: 1.2277124843081912\n",
      "epoch: 24 loss: 1.2235617051253447\n",
      "epoch: 25 loss: 1.2173865015442307\n",
      "epoch: 26 loss: 1.2146573292242515\n",
      "epoch: 27 loss: 1.2127425967036067\n",
      "epoch: 28 loss: 1.2120825535542257\n",
      "epoch: 29 loss: 1.2087407286102707\n",
      "00 hours 04 minutes 26.11 seconds\n"
     ]
    }
   ],
   "source": [
    "re_lstm_wo_outgate = trainer(MyBasicLSTMCell_without_outputgat)"
   ]
  },
  {
   "cell_type": "code",
   "execution_count": 57,
   "metadata": {},
   "outputs": [
    {
     "data": {
      "image/png": "[encoded data removed]",
      "text/plain": [
       "<Figure size 432x288 with 1 Axes>"
      ]
     },
     "metadata": {},
     "output_type": "display_data"
    }
   ],
   "source": [
    "epcs = [i for i in range(len(re_lstm_wo_outgate))]\n",
    "plt.plot(epcs,re_lstm_wo_outgate)\n",
    "plt.title(\"loss for training data\")\n",
    "plt.show()\n"
   ]
  },
  {
   "cell_type": "code",
   "execution_count": 58,
   "metadata": {},
   "outputs": [
    {
     "name": "stdout",
     "output_type": "stream",
     "text": [
      "there are preprocessed data - lets load it\n",
      "[49  4  7  1 17  1 11 11 25]\n",
      "INFO:tensorflow:Restoring parameters from saved_model\n",
      "Farewell.\n",
      "\n",
      "ANTIGO:\n",
      "He's not to the matter, too much brave her tempore of criest;\n",
      "Frow,--\n",
      "\n",
      "DUENGEY:\n",
      "'That's a \n"
     ]
    }
   ],
   "source": [
    "Synthesize(MyBasicLSTMCell_without_outputgat,\"Farewell.\")"
   ]
  },
  {
   "cell_type": "code",
   "execution_count": 59,
   "metadata": {},
   "outputs": [
    {
     "name": "stdout",
     "output_type": "stream",
     "text": [
      "there are preprocessed data - lets load it\n",
      "[39  5  1  7  1  0  4  7  1  0 15  3 13  0 20  3  9  8 20  0  2  3 12  4\n",
      " 15 44]\n",
      "INFO:tensorflow:Restoring parameters from saved_model\n",
      "num_batches 47\n",
      "test loss: 1.4064168448143817\n"
     ]
    },
    {
     "data": {
      "text/plain": [
       "1.4064168448143817"
      ]
     },
     "execution_count": 59,
     "metadata": {},
     "output_type": "execute_result"
    }
   ],
   "source": [
    "Tester(MyBasicLSTMCell_without_outputgat)"
   ]
  },
  {
   "cell_type": "markdown",
   "metadata": {},
   "source": [
    "### Comment:\n",
    "This model outperforms the original RNN with LSTM a little bit on test data, which is very surprising. It might be due to some chance. And the synthesize does not make too much sense. "
   ]
  },
  {
   "cell_type": "markdown",
   "metadata": {},
   "source": [
    "## Alternative 6: LSTM_GRU"
   ]
  },
  {
   "cell_type": "code",
   "execution_count": 36,
   "metadata": {},
   "outputs": [
    {
     "name": "stdout",
     "output_type": "stream",
     "text": [
      "train_num_batches 185\n",
      "epoch: 0 loss: 2.334223858730213\n",
      "epoch: 1 loss: 1.7470246443877349\n",
      "epoch: 2 loss: 1.5680089280412004\n",
      "epoch: 3 loss: 1.477988102629378\n",
      "epoch: 4 loss: 1.4241609167408298\n",
      "epoch: 5 loss: 1.3837695895014583\n",
      "epoch: 6 loss: 1.3537682024208275\n",
      "epoch: 7 loss: 1.330116775873545\n",
      "epoch: 8 loss: 1.309953091595624\n",
      "epoch: 9 loss: 1.293100179852666\n",
      "epoch: 10 loss: 1.2778871781117207\n",
      "epoch: 11 loss: 1.263918281245876\n",
      "epoch: 12 loss: 1.251465842530534\n",
      "epoch: 13 loss: 1.240336748071619\n",
      "epoch: 14 loss: 1.2303572822261502\n",
      "epoch: 15 loss: 1.2227892637252809\n",
      "epoch: 16 loss: 1.2165855800783312\n",
      "epoch: 17 loss: 1.2080583978343655\n",
      "epoch: 18 loss: 1.2032933950424194\n",
      "epoch: 19 loss: 1.2013808637051968\n",
      "epoch: 20 loss: 1.1968386199023273\n",
      "epoch: 21 loss: 1.1925772080550323\n",
      "epoch: 22 loss: 1.1909029245376588\n",
      "epoch: 23 loss: 1.189226788443488\n",
      "epoch: 24 loss: 1.18636832430556\n",
      "epoch: 25 loss: 1.1828851119892017\n",
      "epoch: 26 loss: 1.179557349230792\n",
      "epoch: 27 loss: 1.1789381439621385\n",
      "epoch: 28 loss: 1.1757845646626242\n",
      "epoch: 29 loss: 1.1741969636968663\n",
      "00 hours 04 minutes 48.93 seconds\n"
     ]
    }
   ],
   "source": [
    "re_lstm_gru = trainer(MyBasicLSTMCell_GRU)"
   ]
  },
  {
   "cell_type": "code",
   "execution_count": 63,
   "metadata": {},
   "outputs": [
    {
     "data": {
      "image/png": "[encoded data removed]",
      "text/plain": [
       "<Figure size 432x288 with 1 Axes>"
      ]
     },
     "metadata": {},
     "output_type": "display_data"
    }
   ],
   "source": [
    "epcs = [i for i in range(len(re_lstm_gru))]\n",
    "plt.plot(epcs,re_lstm_gru)\n",
    "plt.title(\"loss for training data\")\n",
    "plt.show()\n"
   ]
  },
  {
   "cell_type": "code",
   "execution_count": 64,
   "metadata": {},
   "outputs": [
    {
     "name": "stdout",
     "output_type": "stream",
     "text": [
      "there are preprocessed data - lets load it\n",
      "[39  5  1  7  1  0  4  7  1  0 15  3 13  0 20  3  9  8 20  0  2  3 12  4\n",
      " 15 44]\n",
      "INFO:tensorflow:Restoring parameters from saved_model\n",
      "num_batches 47\n",
      "test loss: 1.4556386293248926\n"
     ]
    },
    {
     "data": {
      "text/plain": [
       "1.4556386293248926"
      ]
     },
     "execution_count": 64,
     "metadata": {},
     "output_type": "execute_result"
    }
   ],
   "source": [
    "Tester(MyBasicLSTMCell_GRU)"
   ]
  },
  {
   "cell_type": "code",
   "execution_count": 38,
   "metadata": {},
   "outputs": [
    {
     "name": "stdout",
     "output_type": "stream",
     "text": [
      "there are preprocessed data - lets load it\n",
      "[49  4  7  1 17  1 11 11 25]\n",
      "INFO:tensorflow:Restoring parameters from saved_model\n",
      "Farewell.\n",
      "\n",
      "ISABELLA:\n",
      "O, promised!\n",
      "\n",
      "MOPSA:\n",
      "O movedies, my lord, and, bride;\n",
      "Which was an earther of all with t\n"
     ]
    }
   ],
   "source": [
    "Synthesize(MyBasicLSTMCell_GRU,\"Farewell.\")"
   ]
  },
  {
   "cell_type": "markdown",
   "metadata": {},
   "source": [
    "## Comment:\n",
    "This algorithm is performs very well on training data. However, it performs badly on test data. There might be an issue of overfitting as the unit has very complicated structure. "
   ]
  },
  {
   "cell_type": "markdown",
   "metadata": {},
   "source": [
    "## Alternative 7: Gers_Schmidhuber"
   ]
  },
  {
   "cell_type": "code",
   "execution_count": 69,
   "metadata": {},
   "outputs": [
    {
     "name": "stdout",
     "output_type": "stream",
     "text": [
      "train_num_batches 185\n",
      "epoch: 0 loss: 2.772908304833077\n",
      "epoch: 1 loss: 2.484741784430839\n",
      "epoch: 2 loss: 2.4722106650068953\n",
      "epoch: 3 loss: 2.4704143343745053\n",
      "epoch: 4 loss: 2.468414695842846\n",
      "epoch: 5 loss: 2.466290939176405\n",
      "epoch: 6 loss: 2.4652486362972774\n",
      "epoch: 7 loss: 2.4660537784164016\n",
      "epoch: 8 loss: 2.4636327202255663\n",
      "epoch: 9 loss: 2.4623569436975425\n",
      "epoch: 10 loss: 2.462588102753098\n",
      "epoch: 11 loss: 2.4651515161668933\n",
      "epoch: 12 loss: 2.463069286861935\n",
      "epoch: 13 loss: 2.4629000174032676\n",
      "epoch: 14 loss: 2.461966625419823\n",
      "epoch: 15 loss: 2.4614935063027046\n",
      "epoch: 16 loss: 2.4591001691044987\n",
      "epoch: 17 loss: 2.4596380581726898\n",
      "epoch: 18 loss: 2.458849503542926\n",
      "epoch: 19 loss: 2.458760133949486\n",
      "epoch: 20 loss: 2.458425145535856\n",
      "epoch: 21 loss: 2.460179867615571\n",
      "epoch: 22 loss: 2.459446769147306\n",
      "epoch: 23 loss: 2.456298485317746\n",
      "epoch: 24 loss: 2.4558610929025186\n",
      "epoch: 25 loss: 2.4564284427745924\n",
      "epoch: 26 loss: 2.4570985665192477\n",
      "epoch: 27 loss: 2.4574203980935585\n",
      "epoch: 28 loss: 2.454690154823097\n",
      "epoch: 29 loss: 2.451968516530217\n",
      "00 hours 06 minutes 29.63 seconds\n"
     ]
    }
   ],
   "source": [
    "re_lstm_gs = trainer(MyBasicLSTMCell_GS)"
   ]
  },
  {
   "cell_type": "code",
   "execution_count": 71,
   "metadata": {},
   "outputs": [
    {
     "data": {
      "image/png": "[encoded data removed]",
      "text/plain": [
       "<Figure size 432x288 with 1 Axes>"
      ]
     },
     "metadata": {},
     "output_type": "display_data"
    }
   ],
   "source": [
    "epcs = [i for i in range(len(re_lstm_gs))]\n",
    "plt.plot(epcs,re_lstm_gs)\n",
    "plt.title(\"loss for training data\")\n",
    "plt.show()\n"
   ]
  },
  {
   "cell_type": "code",
   "execution_count": 72,
   "metadata": {},
   "outputs": [
    {
     "name": "stdout",
     "output_type": "stream",
     "text": [
      "there are preprocessed data - lets load it\n",
      "[39  5  1  7  1  0  4  7  1  0 15  3 13  0 20  3  9  8 20  0  2  3 12  4\n",
      " 15 44]\n",
      "INFO:tensorflow:Restoring parameters from saved_model\n",
      "num_batches 47\n",
      "test loss: 2.4673286955407323\n"
     ]
    },
    {
     "data": {
      "text/plain": [
       "2.4673286955407323"
      ]
     },
     "execution_count": 72,
     "metadata": {},
     "output_type": "execute_result"
    }
   ],
   "source": [
    "Tester(MyBasicLSTMCell_GS)"
   ]
  },
  {
   "cell_type": "code",
   "execution_count": 73,
   "metadata": {},
   "outputs": [
    {
     "name": "stdout",
     "output_type": "stream",
     "text": [
      "there are preprocessed data - lets load it\n",
      "[49  4  7  1 17  1 11 11 25]\n",
      "INFO:tensorflow:Restoring parameters from saved_model\n",
      "Farewell.\n",
      "They shat whe berded mat pay pratrs tores serthillllllles tithedere teral hond ho averoustorarourer\n"
     ]
    }
   ],
   "source": [
    "Synthesize(MyBasicLSTMCell_GS,\"Farewell.\")"
   ]
  },
  {
   "cell_type": "markdown",
   "metadata": {},
   "source": [
    "### Comment:\n",
    "The result is pretty bad again on both training and test data, though it is better than the Gers_Schmidhuber_variant, which outputs nonsense. "
   ]
  },
  {
   "cell_type": "markdown",
   "metadata": {},
   "source": [
    "# Results summary"
   ]
  },
  {
   "cell_type": "code",
   "execution_count": null,
   "metadata": {},
   "outputs": [],
   "source": [
    "Name        train   test\n",
    "\n",
    "LSTM: \t\t1.18\t1.411\n",
    "RNN: \t\t1.34 \t1.47\n",
    "    \n",
    "RNN*4:\t    1.27\t1.45\n",
    "RNN_layer2\t1.29\t1.45\n",
    "LSTM_cp\t    1.19 \t1.41\n",
    "LSTM_gsv\t>3\t     NA\n",
    "LSTM_wo_og  1.28\t1.40\n",
    "LSTM_gru\t1.17\t1.45\n",
    "LSTM_gs     2.45\t2.49\n"
   ]
  }
 ],
 "metadata": {
  "kernelspec": {
   "display_name": "Python 3",
   "language": "python",
   "name": "python3"
  },
  "language_info": {
   "codemirror_mode": {
    "name": "ipython",
    "version": 3
   },
   "file_extension": ".py",
   "mimetype": "text/x-python",
   "name": "python",
   "nbconvert_exporter": "python",
   "pygments_lexer": "ipython3",
   "version": "3.6.4"
  }
 },
 "nbformat": 4,
 "nbformat_minor": 2
}
