{
 "cells": [
  {
   "cell_type": "code",
   "execution_count": 116,
   "metadata": {},
   "outputs": [],
   "source": [
    "import os\n",
    "import numpy as np\n",
    "import collections\n",
    "import pickle\n",
    "import argparse\n",
    "import tensorflow as tf\n",
    "import time\n",
    "import matplotlib.pyplot as plt\n",
    "%matplotlib inline"
   ]
  },
  {
   "cell_type": "code",
   "execution_count": 122,
   "metadata": {},
   "outputs": [],
   "source": [
    "parser = argparse.ArgumentParser()\n",
    "parser.add_argument('--data_dir', default='./')\n",
    "parser.add_argument('--save_dir', default='./')\n",
    "# Dimension of hidden layer variables h and c\n",
    "parser.add_argument('--num_units', default=128*2)\n",
    "#parser.add_argument('--num_units', default=128*2*2)\n",
    "parser.add_argument('--batch_size', default=64)\n",
    "# Number of steps in each batch for training\n",
    "parser.add_argument('--num_steps', default=75)\n",
    "parser.add_argument('--num_epochs', default=30)\n",
    "# Time step\n",
    "parser.add_argument('--lr', default=0.002)\n",
    "# Number of possible inputs/outputs \n",
    "parser.add_argument('--num_chars')\n",
    "parser.add_argument('--num_batches',default=20)\n",
    "args, unparsed = parser.parse_known_args()"
   ]
  },
  {
   "cell_type": "code",
   "execution_count": 95,
   "metadata": {},
   "outputs": [],
   "source": [
    "def timer(start, end):\n",
    "    hrs, rem = divmod(end-start, 3600)\n",
    "    mins, secs = divmod(rem, 60)\n",
    "    print('{:0>2} hours {:0>2} minutes {:05.2f} seconds'.format(int(hrs), int(mins), secs))"
   ]
  },
  {
   "cell_type": "code",
   "execution_count": 96,
   "metadata": {},
   "outputs": [],
   "source": [
    "class TextLoader():\n",
    "\n",
    "    def __init__(self, data_dir, batch_size=64, seq_length=50, encoding='utf-8'):\n",
    "        self.data_dir = data_dir\n",
    "        self.encoding = encoding\n",
    "        self.batch_size = batch_size\n",
    "        self.seq_length = seq_length\n",
    "\n",
    "        self.input_file = os.path.join(data_dir, 'tinyshakespeare.txt')\n",
    "        self.vocab_file = os.path.join(data_dir, 'vocab.pkl')\n",
    "        # Numeric file of characters translated to indices.\n",
    "        self.tensor_file = os.path.join(data_dir, 'data.npy')\n",
    "        \n",
    "        if not (os.path.exists(self.vocab_file) and os.path.exists(self.tensor_file)):\n",
    "            print('it seems we havent processed the text data yet: reading the shakespear')\n",
    "            self.preprocess(self.input_file, self.vocab_file, self.tensor_file)\n",
    "        else:\n",
    "            print('there are preprocessed data - lets load it')\n",
    "            self.load_preprocessed(self.vocab_file, self.tensor_file)\n",
    "\n",
    "        self.create_batches()\n",
    "        self.reset_batch_pointer()\n",
    "\n",
    "    # Create numeric file.\n",
    "    def preprocess(self, input_file=None, vocab_file=None, tensor_file=None, saveit=True):\n",
    "        if input_file is not None:\n",
    "            self.input_file = input_file\n",
    "        if vocab_file is not None:\n",
    "            self.vocab_file = vocab_file\n",
    "        if tensor_file is not None:\n",
    "            self.tensor_file = tensor_file\n",
    "\n",
    "        with open(self.input_file, 'r') as f:\n",
    "            data = f.read()\n",
    "        #data = data.lower()\n",
    "        self.total_length = len(data)\n",
    "        counter = collections.Counter(data)\n",
    "        count_pairs = sorted(counter.items(), key=lambda x: -x[1])\n",
    "        self.chars, _ = zip(*count_pairs)\n",
    "        self.vocab_size = len(self.chars)\n",
    "        self.vocab_to_idx = dict(zip(self.chars, range(len(self.chars))))\n",
    "        self.idx_to_vocab = dict(zip(self.vocab_to_idx.values(), self.vocab_to_idx.keys()))\n",
    "\n",
    "        if saveit:\n",
    "            with open(self.vocab_file, 'wb') as f:  # saving dictionary so we don't compute it again\n",
    "                pickle.dump(self.chars, f)\n",
    "            self.tensor = np.array(list(map(self.vocab_to_idx.get, data)))\n",
    "            np.save(self.tensor_file, self.tensor)  # saving the numerified data\n",
    "    # Load numeric file create dictionaries for char2idx and back\n",
    "    def load_preprocessed(self, vocab_file=None, tensor_file=None):\n",
    "        if vocab_file is not None:\n",
    "            self.vocab_file = vocab_file\n",
    "        if tensor_file is not None:\n",
    "            self.tensor_file = tensor_file\n",
    "\n",
    "        with open(self.vocab_file, 'rb') as f:\n",
    "            self.chars = pickle.load(f)\n",
    "\n",
    "        # attributes\n",
    "        self.vocab_size = len(self.chars)\n",
    "        self.vocab = dict(zip(self.chars, range(self.vocab_size)))\n",
    "        self.vocab_to_idx = dict(zip(self.chars, range(len(self.chars))))\n",
    "        self.idx_to_vocab = dict(zip(self.vocab_to_idx.values(), self.vocab_to_idx.keys()))\n",
    "        self.tensor = np.load(tensor_file)\n",
    "        self.num_batches = int(self.tensor.size / (self.batch_size * self.seq_length))\n",
    "            \n",
    "    # tensor size = the length of the entire data sequence\n",
    "    # divide into batch_size sub sequences and stack\n",
    "    # cut those by seq_length to produce batches of [batch size, seq_length] sized examples\n",
    "    def create_batches(self):\n",
    "\n",
    "        \n",
    "        self.num_batches = int(self.tensor.size / (self.batch_size * self.seq_length))\n",
    "\n",
    "        if self.num_batches == 0:\n",
    "            assert False, 'Not enough data. Make seq_length and/or batch_size smaller'\n",
    "\n",
    "        self.tensor = self.tensor[:self.num_batches * self.batch_size * self.seq_length]  # so we get an even divide\n",
    "        xdata = self.tensor\n",
    "        ydata = np.copy(self.tensor)\n",
    "\n",
    "        # ydata is one step ahead of x and last item is first item of x \n",
    "        # to get sequences of same length    \n",
    "        ydata[:-1] = xdata[1:] \n",
    "        ydata[-1] = xdata[0]\n",
    "\n",
    "        self.x_batches = np.split(xdata.reshape(self.batch_size, -1), self.num_batches, 1)\n",
    "        self.y_batches = np.split(ydata.reshape(self.batch_size, -1), self.num_batches, 1)\n",
    "        \n",
    "        self.train_num_batches=np.int32(self.num_batches*.8)\n",
    "        self.test_num_batches=self.num_batches-self.train_num_batches\n",
    "        self.train_x_batches=self.x_batches[0:self.train_num_batches]\n",
    "        self.train_y_batches=self.y_batches[0:self.train_num_batches]\n",
    "        self.test_x_batches=self.x_batches[self.train_num_batches:]\n",
    "        self.test_y_batches=self.y_batches[self.train_num_batches:]\n",
    "\n",
    "        # xdata: L length\n",
    "        # xdata reshaped: batch_size, (L/batch_size) length following natural indexing\n",
    "        # np.split: into num batches batches along the width(sentence)\n",
    "\n",
    "    def next_batch_train(self):\n",
    "        x, y = self.train_x_batches[self.pointer], self.train_y_batches[self.pointer]\n",
    "        self.pointer += 1\n",
    "        return x,y\n",
    "    \n",
    "    def next_batch_test(self):\n",
    "        x, y = self.test_x_batches[self.pointer], self.test_y_batches[self.pointer]\n",
    "        self.pointer += 1\n",
    "        return x,y\n",
    "\n",
    "    def reset_batch_pointer(self):\n",
    "        self.pointer = 0"
   ]
  },
  {
   "cell_type": "code",
   "execution_count": 123,
   "metadata": {},
   "outputs": [
    {
     "name": "stdout",
     "output_type": "stream",
     "text": [
      "there are preprocessed data - lets load it\n",
      "num chars 65\n",
      "num batches 232\n"
     ]
    }
   ],
   "source": [
    "loader = TextLoader(args.data_dir, batch_size=args.batch_size, seq_length=args.num_steps)\n",
    "args.num_chars = loader.vocab_size\n",
    "#print(loader.vocab_size)\n",
    "print('num chars',args.num_chars)\n",
    "print('num batches',loader.num_batches)"
   ]
  },
  {
   "cell_type": "code",
   "execution_count": 98,
   "metadata": {},
   "outputs": [],
   "source": [
    "class MyBasicRNNCell(tf.contrib.rnn.BasicRNNCell):\n",
    "\n",
    "    def build(self, inputs_shape):\n",
    "\n",
    "        input_depth = inputs_shape[1].value\n",
    "        \n",
    "        self._kernel = self.add_variable(name=\"kernel_hidden\", shape=[input_depth + self._num_units, self._num_units])\n",
    "        self._bias = self.add_variable(name=\"bias_hidden\", shape=[self._num_units], initializer=tf.zeros_initializer())\n",
    "        \n",
    "        self.built = True\n",
    "\n",
    "    def call(self, inputs, state):\n",
    "        \"\"\"Most basic RNN: output = new_state = act(W * input + U * state + B).\"\"\"\n",
    "        \n",
    "        output = tf.tanh(tf.matmul(tf.concat([inputs, state], 1), self._kernel) + self._bias)\n",
    "\n",
    "        return output, output"
   ]
  },
  {
   "cell_type": "code",
   "execution_count": 99,
   "metadata": {},
   "outputs": [],
   "source": [
    "class MyBasicRNNCell_layer2(tf.contrib.rnn.BasicRNNCell):\n",
    "\n",
    "    def build(self, inputs_shape):\n",
    "\n",
    "        input_depth = inputs_shape[1].value\n",
    "        \n",
    "        self._kernel = self.add_variable(name=\"kernel_hidden\", shape=[input_depth + self._num_units, 2*self._num_units])\n",
    "        self._bias = self.add_variable(name=\"bias_hidden\", shape=[2*self._num_units], initializer=tf.zeros_initializer())\n",
    "        \n",
    "        self.built = True\n",
    "\n",
    "    def call(self, inputs, state):\n",
    "        \"\"\" RNN with two different layers: draw a random number p; \n",
    "            output = tanh(p*weight1) + tanh((1-p)*weight2)\"\"\"\n",
    "        one = tf.constant(1, dtype=tf.int32)\n",
    "        \n",
    "        weights = tf.matmul(tf.concat([inputs, state], axis=1), self._kernel) + self._bias\n",
    "        \n",
    "        weight1,weight2 = tf.split(\n",
    "            value=weights, num_or_size_splits=2, axis=one)\n",
    "        \n",
    "        rand = tf.random_uniform([1],minval=0,maxval=1,dtype=weight1.dtype, seed = 12345)\n",
    "        \n",
    "        output = tf.tanh(rand*weight2)+tf.tanh((1-rand)*weight1)\n",
    "        \n",
    "        \n",
    "        return output, output"
   ]
  },
  {
   "cell_type": "code",
   "execution_count": 100,
   "metadata": {},
   "outputs": [],
   "source": [
    "LSTMStateTuple = collections.namedtuple(\"LSTMStateTuple\", (\"c\", \"h\"))\n",
    "\n",
    "class MyBasicLSTMCell(tf.contrib.rnn.BasicLSTMCell):\n",
    "\n",
    "    def build(self, inputs_shape):\n",
    "\n",
    "        input_depth = inputs_shape[1].value\n",
    "        self._kernel = self.add_variable(name=\"kernel\", shape=[input_depth + self._num_units, 4 * self._num_units])\n",
    "        self._bias = self.add_variable(name=\"bias\", shape=[4 * self._num_units], initializer=tf.zeros_initializer())\n",
    "\n",
    "        self.built = True\n",
    "\n",
    "    def call(self, inputs, state):\n",
    "\n",
    "        one = tf.constant(1, dtype=tf.int32)\n",
    "        c, h = state\n",
    "\n",
    "        gate_inputs = tf.matmul(tf.concat([inputs, h], axis=1), self._kernel) + self._bias\n",
    "\n",
    "        input_gate_weights, input_weights, forget_gate_weights, output_gate_weights = tf.split(\n",
    "            value=gate_inputs, num_or_size_splits=4, axis=one)\n",
    "\n",
    "        # forget gating\n",
    "        forget_bias_tensor = tf.constant(1.0, dtype=forget_gate_weights.dtype)\n",
    "        forget_gate = tf.sigmoid(forget_gate_weights + forget_bias_tensor)\n",
    "        gated_memory = c * forget_gate\n",
    "\n",
    "        # input gating\n",
    "        processed_new_input = tf.tanh(input_weights)\n",
    "        input_gate = tf.sigmoid(input_gate_weights)\n",
    "        gated_input = input_gate * processed_new_input\n",
    "\n",
    "        # updating memory\n",
    "        new_c = gated_memory + gated_input\n",
    "\n",
    "        # output gating\n",
    "        processed_memory = tf.tanh(new_c)\n",
    "        output_gate = tf.sigmoid(output_gate_weights)\n",
    "        new_h = processed_memory * output_gate\n",
    "\n",
    "        new_state = tf.nn.rnn_cell.LSTMStateTuple(new_c, new_h)\n",
    "\n",
    "        return new_h, new_state"
   ]
  },
  {
   "cell_type": "code",
   "execution_count": 101,
   "metadata": {},
   "outputs": [],
   "source": [
    "LSTMStateTuple = collections.namedtuple(\"LSTMStateTuple\", (\"c\", \"h\"))\n",
    "\n",
    "class MyBasicLSTMCell_cp_gates(tf.contrib.rnn.BasicLSTMCell):\n",
    "\n",
    "    def build(self, inputs_shape):\n",
    "\n",
    "        input_depth = inputs_shape[1].value\n",
    "        self._kernel = self.add_variable(name=\"kernel\", shape=[input_depth + self._num_units, 4 * self._num_units])\n",
    "        self._bias = self.add_variable(name=\"bias\", shape=[4 * self._num_units], initializer=tf.zeros_initializer())\n",
    "\n",
    "        self.built = True\n",
    "\n",
    "    def call(self, inputs, state):\n",
    "\n",
    "        one = tf.constant(1, dtype=tf.int32)\n",
    "        c, h = state\n",
    "\n",
    "        gate_inputs = tf.matmul(tf.concat([inputs, h], axis=1), self._kernel) + self._bias\n",
    "\n",
    "        input_gate_weights, input_weights, forget_gate_weights, output_gate_weights = tf.split(\n",
    "            value=gate_inputs, num_or_size_splits=4, axis=one)\n",
    "\n",
    "        # forget gating\n",
    "        forget_bias_tensor = tf.constant(1.0, dtype=forget_gate_weights.dtype)\n",
    "        forget_gate = tf.sigmoid(forget_gate_weights + forget_bias_tensor)\n",
    "        gated_memory = c * forget_gate\n",
    "\n",
    "        # input gating\n",
    "        processed_new_input = tf.tanh(input_weights)\n",
    "        #input_gate = tf.sigmoid(input_gate_weights)\n",
    "        input_gate = 1-forget_gate\n",
    "        gated_input = input_gate * processed_new_input\n",
    "\n",
    "        # updating memory\n",
    "        new_c = gated_memory + gated_input\n",
    "\n",
    "        # output gating\n",
    "        processed_memory = tf.tanh(new_c)\n",
    "        output_gate = tf.sigmoid(output_gate_weights)\n",
    "        new_h = processed_memory * output_gate\n",
    "\n",
    "        new_state = tf.nn.rnn_cell.LSTMStateTuple(new_c, new_h)\n",
    "\n",
    "        return new_h, new_state"
   ]
  },
  {
   "cell_type": "code",
   "execution_count": 102,
   "metadata": {},
   "outputs": [],
   "source": [
    "LSTMStateTuple = collections.namedtuple(\"LSTMStateTuple\", (\"c\", \"h\"))\n",
    "\n",
    "class MyBasicLSTMCell_GS_var(tf.contrib.rnn.BasicLSTMCell):\n",
    "\n",
    "    def build(self, inputs_shape):\n",
    "\n",
    "        input_depth = inputs_shape[1].value\n",
    "        self._kernel = self.add_variable(name=\"kernel\", shape=[input_depth + 2*self._num_units, 4 * self._num_units])\n",
    "        self._bias = self.add_variable(name=\"bias\", shape=[4 * self._num_units], initializer=tf.zeros_initializer())\n",
    "\n",
    "        self.built = True\n",
    "\n",
    "    def call(self, inputs, state):\n",
    "\n",
    "        one = tf.constant(1, dtype=tf.int32)\n",
    "        c, h = state\n",
    "\n",
    "        gate_inputs = tf.matmul(tf.concat([inputs, h, c], axis=1), self._kernel) + self._bias\n",
    "\n",
    "        input_gate_weights, input_weights, forget_gate_weights, output_gate_weights = tf.split(\n",
    "            value=gate_inputs, num_or_size_splits=4, axis=one)\n",
    "\n",
    "        # forget gating\n",
    "        forget_bias_tensor = tf.constant(1.0, dtype=forget_gate_weights.dtype)\n",
    "        forget_gate = tf.sigmoid(forget_gate_weights + forget_bias_tensor)\n",
    "        gated_memory = c * forget_gate\n",
    "\n",
    "        # input gating\n",
    "        processed_new_input = tf.tanh(input_weights)\n",
    "        input_gate = tf.sigmoid(input_gate_weights)\n",
    "        gated_input = input_gate * processed_new_input\n",
    "\n",
    "        # updating memory\n",
    "        new_c = gated_memory + gated_input\n",
    "\n",
    "        # output gating\n",
    "        processed_memory = tf.tanh(new_c)\n",
    "        output_gate = tf.sigmoid(output_gate_weights)\n",
    "        new_h = processed_memory * output_gate\n",
    "\n",
    "        new_state = tf.nn.rnn_cell.LSTMStateTuple(new_c, new_h)\n",
    "\n",
    "        return new_h, new_state"
   ]
  },
  {
   "cell_type": "code",
   "execution_count": 103,
   "metadata": {},
   "outputs": [],
   "source": [
    "LSTMStateTuple = collections.namedtuple(\"LSTMStateTuple\", (\"c\", \"h\"))\n",
    "\n",
    "class MyBasicLSTMCell_wo_outputgate(tf.contrib.rnn.BasicLSTMCell):\n",
    "\n",
    "    def build(self, inputs_shape):\n",
    "\n",
    "        input_depth = inputs_shape[1].value\n",
    "        self._kernel = self.add_variable(name=\"kernel\", shape=[input_depth + self._num_units, 4 * self._num_units])\n",
    "        self._bias = self.add_variable(name=\"bias\", shape=[4 * self._num_units], initializer=tf.zeros_initializer())\n",
    "\n",
    "        self.built = True\n",
    "\n",
    "    def call(self, inputs, state):\n",
    "\n",
    "        one = tf.constant(1, dtype=tf.int32)\n",
    "        c, h = state\n",
    "\n",
    "        gate_inputs = tf.matmul(tf.concat([inputs, h], axis=1), self._kernel) + self._bias\n",
    "\n",
    "        input_gate_weights, input_weights, forget_gate_weights, output_gate_weights = tf.split(\n",
    "            value=gate_inputs, num_or_size_splits=4, axis=one)\n",
    "\n",
    "        # forget gating\n",
    "        forget_bias_tensor = tf.constant(1.0, dtype=forget_gate_weights.dtype)\n",
    "        forget_gate = tf.sigmoid(forget_gate_weights + forget_bias_tensor)\n",
    "        gated_memory = c * forget_gate\n",
    "\n",
    "        # input gating\n",
    "        processed_new_input = tf.tanh(input_weights)\n",
    "        input_gate = tf.sigmoid(input_gate_weights)\n",
    "        gated_input = input_gate * processed_new_input\n",
    "\n",
    "        # updating memory\n",
    "        new_c = gated_memory + gated_input\n",
    "\n",
    "        # output gating\n",
    "        #processed_memory = tf.tanh(new_c)\n",
    "        output_gate = tf.sigmoid(output_gate_weights)\n",
    "        new_h = output_gate\n",
    "        \n",
    "        new_state = tf.nn.rnn_cell.LSTMStateTuple(new_c, new_h)\n",
    "\n",
    "        return new_h, new_state"
   ]
  },
  {
   "cell_type": "code",
   "execution_count": 104,
   "metadata": {},
   "outputs": [],
   "source": [
    "LSTMStateTuple = collections.namedtuple(\"LSTMStateTuple\", (\"c\", \"h\"))\n",
    "\n",
    "class MyBasicLSTMCell_GS(tf.contrib.rnn.BasicLSTMCell):\n",
    "\n",
    "    def build(self, inputs_shape):\n",
    "\n",
    "        input_depth = inputs_shape[1].value\n",
    "        self._kernel = self.add_variable(name=\"kernel\", shape=[input_depth + 2*self._num_units, 2 * self._num_units])\n",
    "        self._bias = self.add_variable(name=\"bias\", shape=[2 * self._num_units], initializer=tf.zeros_initializer())\n",
    "\n",
    "        self._kernel2 = self.add_variable(name=\"kernel2\", shape=[input_depth, self._num_units])\n",
    "        self._bias2 = self.add_variable(name=\"bias2\", shape=[self._num_units], initializer=tf.zeros_initializer())\n",
    "\n",
    "        self._kernel3 = self.add_variable(name=\"kernel3\", shape=[input_depth + 2*self._num_units, self._num_units])\n",
    "        self._bias3 = self.add_variable(name=\"bias3\", shape=[self._num_units], initializer=tf.zeros_initializer())\n",
    "\n",
    "        self.built = True\n",
    "\n",
    "    def call(self, inputs, state):\n",
    "\n",
    "        one = tf.constant(1, dtype=tf.int32)\n",
    "        c, h = state\n",
    "\n",
    "        gate_inputs = tf.matmul(tf.concat([inputs, h,c], axis=1), self._kernel) + self._bias\n",
    "\n",
    "        forget_gate_weights, input_gate_weights= tf.split(\n",
    "            value=gate_inputs, num_or_size_splits=2, axis=one)\n",
    "\n",
    "        #, forget_gate_weights, output_gate_weights \n",
    "        \n",
    "        \n",
    "        # forget gating\n",
    "        forget_bias_tensor = tf.constant(1.0, dtype=forget_gate_weights.dtype)\n",
    "        forget_gate = tf.sigmoid(forget_gate_weights + forget_bias_tensor)\n",
    "        gated_memory = c * forget_gate\n",
    "\n",
    "        # input gating\n",
    "        processed_new_input = tf.matmul(inputs,self._kernel2) + self._bias2       \n",
    "        input_gate = tf.sigmoid(input_gate_weights)\n",
    "        gated_input = input_gate * processed_new_input\n",
    "\n",
    "        # updating memory\n",
    "        new_c = gated_memory + gated_input\n",
    "\n",
    "        # output gating\n",
    "        processed_memory = tf.tanh(new_c)\n",
    "        \n",
    "        output_gate_weights = tf.matmul(tf.concat([inputs, h,new_c], axis=1), self._kernel3) + self._bias3\n",
    "        output_gate = tf.sigmoid(output_gate_weights)\n",
    "        new_h = processed_memory * output_gate\n",
    "\n",
    "        new_state = tf.nn.rnn_cell.LSTMStateTuple(new_c, new_h)\n",
    "\n",
    "        return new_h, new_state"
   ]
  },
  {
   "cell_type": "code",
   "execution_count": 105,
   "metadata": {},
   "outputs": [],
   "source": [
    "LSTMStateTuple = collections.namedtuple(\"LSTMStateTuple\", (\"c\", \"h\"))\n",
    "\n",
    "class MyBasicLSTMCell_GRU(tf.contrib.rnn.BasicLSTMCell):\n",
    "\n",
    "    def build(self, inputs_shape):\n",
    "\n",
    "        input_depth = inputs_shape[1].value\n",
    "        self._kernel = self.add_variable(name=\"kernel\", shape=[input_depth + self._num_units, 2 * self._num_units])\n",
    "        self._bias = self.add_variable(name=\"bias\", shape=[2 * self._num_units], initializer=tf.zeros_initializer())\n",
    "\n",
    "        self._kernel2 = self.add_variable(name=\"kernel2\", shape=[input_depth + self._num_units, self._num_units])\n",
    "        self._bias2 = self.add_variable(name=\"bias2\", shape=[self._num_units], initializer=tf.zeros_initializer())\n",
    "\n",
    "        self.built = True\n",
    "\n",
    "    def call(self, inputs, state):\n",
    "\n",
    "        one = tf.constant(1, dtype=tf.int32)\n",
    "        c, h = state\n",
    "        c = h\n",
    "        \n",
    "        gate_inputs = tf.matmul(tf.concat([inputs, h], axis=1), self._kernel) + self._bias\n",
    "\n",
    "        z_weights, r_weights = tf.split(value=gate_inputs, num_or_size_splits=2, axis=one)\n",
    "        z_gate = tf.sigmoid(z_weights)\n",
    "        r_gate = tf.sigmoid(r_weights)\n",
    "        \n",
    "        h_tear = tf.tanh(tf.matmul(tf.concat([inputs, r_gate*c], axis=1), self._kernel2) + self._bias2)\n",
    "        \n",
    "        \n",
    "        new_h = (1-z_gate) * h + z_gate*h_tear\n",
    "        new_c = new_h\n",
    "        \n",
    "        new_state = tf.nn.rnn_cell.LSTMStateTuple(new_c, new_h)\n",
    "\n",
    "        return new_h, new_state"
   ]
  },
  {
   "cell_type": "code",
   "execution_count": 106,
   "metadata": {},
   "outputs": [],
   "source": [
    "def network(myLSTMCell,inputs,targets):\n",
    "\n",
    "    with tf.variable_scope('embedding_matrix'):\n",
    "        embedding = tf.get_variable('embedding', [args.num_chars, args.num_units])\n",
    "        embedded_inputs = tf.nn.embedding_lookup(embedding, inputs)\n",
    "        inputs_list = tf.unstack(embedded_inputs, axis=1)  # shape: a list of [batch_size, num_units] length num_steps\n",
    "\n",
    "    with tf.variable_scope('LSTMCell') as myscope:\n",
    "        cell = myLSTMCell(args.num_units)\n",
    "        init_state = cell.zero_state(args.batch_size, tf.float32)\n",
    "        state = init_state\n",
    "        outputs = []\n",
    "\n",
    "        for time_, input in enumerate(inputs_list):\n",
    "            if time_ > 0:\n",
    "                myscope.reuse_variables()\n",
    "           \n",
    "            output, state = cell(input, state)\n",
    "            outputs.append(output)\n",
    "    # All hidden outputs for each batch and every step in the batch are reshaped\n",
    "    # as one long matrix to be transformed to logits and compared to targets.\n",
    "        output_reshaped = tf.reshape(tf.concat(outputs, 1), [-1, args.num_units])\n",
    "\n",
    "        final_state = state\n",
    "\n",
    "    with tf.variable_scope('regression'):\n",
    "        W = tf.get_variable('W', [args.num_units, args.num_chars])\n",
    "        b = tf.get_variable('b', [args.num_chars], initializer=tf.constant_initializer(0.0))\n",
    "        logits = tf.matmul(output_reshaped, W) + b\n",
    "        prob = tf.nn.softmax(logits)\n",
    "\n",
    "    with tf.variable_scope('cost'):\n",
    "        targets_straightened = tf.reshape(targets, [-1])\n",
    "        crossentropy = tf.nn.sparse_softmax_cross_entropy_with_logits(logits=logits, \n",
    "                                                    labels=targets_straightened)\n",
    "        loss = tf.reduce_mean(crossentropy)\n",
    "        cost = loss/args.batch_size/args.num_steps\n",
    "\n",
    "    with tf.variable_scope('optimizer'):\n",
    "        train_step = tf.train.AdamOptimizer(args.lr).minimize(loss)\n",
    "\n",
    "    with tf.variable_scope('saver'):\n",
    "        saver = tf.train.Saver()\n",
    "    return init_state, train_step, loss, final_state, saver, prob"
   ]
  },
  {
   "cell_type": "code",
   "execution_count": 107,
   "metadata": {},
   "outputs": [],
   "source": [
    "def trainer(myCell,num_batches=None):\n",
    "    \n",
    "    start_time = time.time()\n",
    "    tf.reset_default_graph()\n",
    "    # Define the placeholders\n",
    "    with tf.variable_scope('placeholders'):\n",
    "            inputs = tf.placeholder(tf.int32, [args.batch_size, args.num_steps])\n",
    "            targets = tf.placeholder(tf.int32, [args.batch_size, args.num_steps])\n",
    "    # Create the network\n",
    "    init_state, train_step, loss, final_state, saver, prob=network(myCell,inputs,targets)\n",
    "    print('train_num_batches',loader.train_num_batches)\n",
    "    \n",
    "    if (num_batches is None):\n",
    "        num_batches=loader.train_num_batches\n",
    "\n",
    "    with tf.Session() as sess:\n",
    "         \n",
    "        sess.run(tf.global_variables_initializer())\n",
    "        # computation graph for training\n",
    "        training_losses = []\n",
    "\n",
    "        for epoch in range(args.num_epochs):\n",
    "            loader.reset_batch_pointer()\n",
    "            state_ = sess.run(init_state)\n",
    "            training_loss = 0\n",
    "\n",
    "            for batch in range(num_batches):\n",
    "\n",
    "                x, y = loader.next_batch_train()\n",
    "\n",
    "                feed_dict = dict()\n",
    "                feed_dict[inputs] = x\n",
    "                feed_dict[targets] = y\n",
    "                \n",
    "                if ('RNN' in myCell.__name__):\n",
    "                    feed_dict[init_state] = state_\n",
    "                else:\n",
    "                    feed_dict[init_state.c] = state_.c\n",
    "                    feed_dict[init_state.h] = state_.h\n",
    "\n",
    "                train_loss_, state_, _ = sess.run([loss, final_state, train_step], feed_dict=feed_dict)\n",
    "                training_loss += train_loss_\n",
    "            training_loss=training_loss/num_batches\n",
    "            print('epoch:', epoch, 'loss:',  training_loss)\n",
    "            training_losses.append(training_loss)\n",
    "        saver.save(sess, os.path.join(args.save_dir, 'saved_model'))\n",
    "    \n",
    "    end_time = time.time()\n",
    "    \n",
    "    timer(start_time, end_time)\n",
    "    return(training_losses)"
   ]
  },
  {
   "cell_type": "raw",
   "metadata": {},
   "source": []
  },
  {
   "cell_type": "code",
   "execution_count": 38,
   "metadata": {},
   "outputs": [
    {
     "data": {
      "text/plain": [
       "1"
      ]
     },
     "execution_count": 38,
     "metadata": {},
     "output_type": "execute_result"
    }
   ],
   "source": [
    "args.batch_size"
   ]
  },
  {
   "cell_type": "code",
   "execution_count": null,
   "metadata": {},
   "outputs": [],
   "source": []
  },
  {
   "cell_type": "code",
   "execution_count": 14,
   "metadata": {},
   "outputs": [
    {
     "name": "stdout",
     "output_type": "stream",
     "text": [
      "train_num_batches 185\n",
      "epoch: 0 loss: 2.3512845264898763\n",
      "epoch: 1 loss: 1.79413751395973\n",
      "epoch: 2 loss: 1.6284469804248294\n",
      "epoch: 3 loss: 1.5361737489700318\n",
      "epoch: 4 loss: 1.4740768799910675\n",
      "epoch: 5 loss: 1.4320809776718553\n",
      "epoch: 6 loss: 1.399008989978481\n",
      "epoch: 7 loss: 1.3731264997173\n",
      "epoch: 8 loss: 1.3506505489349365\n",
      "epoch: 9 loss: 1.3317207349313271\n",
      "epoch: 10 loss: 1.3155785425289257\n",
      "epoch: 11 loss: 1.3017396102080474\n",
      "epoch: 12 loss: 1.2906548925348231\n",
      "epoch: 13 loss: 1.2782362216227763\n",
      "epoch: 14 loss: 1.2672040082312919\n",
      "epoch: 15 loss: 1.257996859421601\n",
      "epoch: 16 loss: 1.2500169270747417\n",
      "epoch: 17 loss: 1.2410382876525055\n",
      "epoch: 18 loss: 1.232925194018596\n",
      "epoch: 19 loss: 1.227118014644932\n",
      "epoch: 20 loss: 1.2206680471832687\n",
      "epoch: 21 loss: 1.2148376941680907\n",
      "epoch: 22 loss: 1.2107924835101977\n",
      "epoch: 23 loss: 1.2043923216897088\n",
      "epoch: 24 loss: 1.1998636065302668\n",
      "epoch: 25 loss: 1.1968133829735421\n",
      "epoch: 26 loss: 1.1937202073432305\n",
      "epoch: 27 loss: 1.188500223288665\n",
      "epoch: 28 loss: 1.1840990646465404\n",
      "epoch: 29 loss: 1.1810637905791\n",
      "00 hours 04 minutes 41.41 seconds\n"
     ]
    }
   ],
   "source": [
    "re_lstm_basic = trainer(MyBasicLSTMCell)"
   ]
  },
  {
   "cell_type": "code",
   "execution_count": 33,
   "metadata": {
    "scrolled": true
   },
   "outputs": [
    {
     "name": "stdout",
     "output_type": "stream",
     "text": [
      "train_num_batches 185\n",
      "epoch: 0 loss: 2.2818055597511497\n",
      "epoch: 1 loss: 1.8383384852795988\n",
      "epoch: 2 loss: 1.6897879845387227\n",
      "epoch: 3 loss: 1.6083508742822183\n",
      "epoch: 4 loss: 1.5571155741408065\n",
      "epoch: 5 loss: 1.5210590182123958\n",
      "epoch: 6 loss: 1.4940589685697814\n",
      "epoch: 7 loss: 1.4730424674781593\n",
      "epoch: 8 loss: 1.4561327470315468\n",
      "epoch: 9 loss: 1.4421495405403344\n",
      "epoch: 10 loss: 1.4304097974622572\n",
      "epoch: 11 loss: 1.4205671742155745\n",
      "epoch: 12 loss: 1.4117792123072856\n",
      "epoch: 13 loss: 1.4037732723596934\n",
      "epoch: 14 loss: 1.396948775085243\n",
      "epoch: 15 loss: 1.3912428868783486\n",
      "epoch: 16 loss: 1.3862537145614624\n",
      "epoch: 17 loss: 1.381768251754142\n",
      "epoch: 18 loss: 1.3775134099496378\n",
      "epoch: 19 loss: 1.373505989280907\n",
      "epoch: 20 loss: 1.3695869316925873\n",
      "epoch: 21 loss: 1.3661656328149745\n",
      "epoch: 22 loss: 1.363321708988499\n",
      "epoch: 23 loss: 1.3609219911936168\n",
      "epoch: 24 loss: 1.3586723469399118\n",
      "epoch: 25 loss: 1.3567053562886007\n",
      "epoch: 26 loss: 1.3552206058759948\n",
      "epoch: 27 loss: 1.3530423963392102\n",
      "epoch: 28 loss: 1.3502178797850737\n",
      "epoch: 29 loss: 1.348085652815329\n",
      "00 hours 01 minutes 50.99 seconds\n"
     ]
    }
   ],
   "source": [
    "re_rnn_basic = trainer(MyBasicRNNCell)"
   ]
  },
  {
   "cell_type": "code",
   "execution_count": 89,
   "metadata": {},
   "outputs": [],
   "source": [
    "def Synthesize(MyCell,init_string=\"None\"):\n",
    "    tf.reset_default_graph()\n",
    "    num_steps_bak=args.num_steps\n",
    "    batch_size_bak=args.batch_size\n",
    "    args.num_steps=1\n",
    "    args.batch_size=1\n",
    "    with tf.variable_scope('placeholders'):\n",
    "            inputs = tf.placeholder(tf.int32, [args.batch_size, args.num_steps])\n",
    "            targets = tf.placeholder(tf.int32, [args.batch_size, args.num_steps])\n",
    "    init_state, train_step, loss, final_state, saver, prob=network(MyCell,inputs,targets)\n",
    "\n",
    "    # Define initialization\n",
    "    if (init_string is None):\n",
    "        initialization = 'Where are you going today?'\n",
    "    else:\n",
    "        initialization = init_string\n",
    "    loader= TextLoader(args.data_dir, batch_size=1, seq_length=1)\n",
    "\n",
    "    forecast_data=np.array(list(map(loader.vocab_to_idx.get, initialization)))\n",
    "    print(forecast_data)\n",
    "    forecast_range = 100\n",
    "    top_k=5\n",
    " \n",
    "    with tf.Session() as sess:\n",
    "\n",
    "        # Load saved model\n",
    "        saver.restore(sess, 'saved_model')\n",
    "        state_ = sess.run(init_state)\n",
    "\n",
    "        # Run rnn on initialization data to get final hidden state before simulation\n",
    "        state_ = sess.run(init_state)\n",
    "        for i in range(forecast_data.shape[0]):\n",
    "\n",
    "            feed_dict = dict()\n",
    "            # Feed current predicted\n",
    "            feed_dict[inputs] = forecast_data[i].reshape(args.batch_size, args.num_steps)\n",
    "            if ('RNN' in MyCell.__name__):\n",
    "                feed_dict[init_state] = state_\n",
    "            else:\n",
    "                feed_dict[init_state.c] = state_.c\n",
    "                feed_dict[init_state.h] = state_.h\n",
    "            # Get new hidden state and prediction probabilities\n",
    "            predicted_prob, state_ = sess.run([prob, final_state], feed_dict=feed_dict)\n",
    "\n",
    "        # last state of this step becomes first state of simulation\n",
    "\n",
    "        for i in range(forecast_range):\n",
    "\n",
    "            feed_dict = dict()\n",
    "            # Feed current predicted\n",
    "            feed_dict[inputs] = forecast_data[-args.num_steps:].reshape(args.batch_size, args.num_steps)\n",
    "            if ('RNN' in MyCell.__name__):\n",
    "                feed_dict[init_state] = state_\n",
    "            else:\n",
    "                feed_dict[init_state.c] = state_.c\n",
    "                feed_dict[init_state.h] = state_.h\n",
    "            predicted_prob, state_ = sess.run([prob, final_state], feed_dict=feed_dict)\n",
    "\n",
    "            predicted_prob = predicted_prob.ravel()\n",
    "            # Simulate from top top_k probs\n",
    "            predicted_prob[np.argsort(predicted_prob)[:-top_k]] = 0\n",
    "            predicted_prob = predicted_prob/np.sum(predicted_prob)\n",
    "            sample = np.random.choice(args.num_chars, 1, p=predicted_prob)[0]\n",
    "\n",
    "\n",
    "            forecast_data = np.hstack((forecast_data, sample))\n",
    "\n",
    "    forecasted_chars = np.asarray([loader.idx_to_vocab[elem] for elem in forecast_data])\n",
    "\n",
    "    print(''.join(forecasted_chars))\n",
    "  \n",
    "    args.num_steps=num_steps_bak\n",
    "    args.batch_size=batch_size_bak"
   ]
  },
  {
   "cell_type": "code",
   "execution_count": 19,
   "metadata": {},
   "outputs": [],
   "source": [
    "def Tester(MyCell, num_batches=None):\n",
    "    tf.reset_default_graph()\n",
    "    with tf.variable_scope('placeholders'):\n",
    "            inputs = tf.placeholder(tf.int32, [args.batch_size, args.num_steps])\n",
    "            targets = tf.placeholder(tf.int32, [args.batch_size, args.num_steps])\n",
    "    init_state, train_step, loss, final_state, saver, prob=network(MyCell,inputs,targets)\n",
    "\n",
    "    # Define initialization\n",
    "    initialization = 'Where are you going today?'\n",
    "    loader= TextLoader(args.data_dir, batch_size=args.batch_size, seq_length=args.num_steps)\n",
    "\n",
    "    forecast_data=np.array(list(map(loader.vocab_to_idx.get, initialization)))\n",
    "    print(forecast_data)\n",
    "    forecast_range = 100\n",
    "    top_k=5\n",
    " \n",
    "    if (num_batches is None):\n",
    "        num_batches=loader.test_num_batches\n",
    "    with tf.Session() as sess:\n",
    "\n",
    "        # Load saved model\n",
    "        saver.restore(sess, 'saved_model')\n",
    "        state_ = sess.run(init_state)\n",
    "\n",
    "        loader.reset_batch_pointer()\n",
    "        \n",
    "         # Get test error loss\n",
    "        test_loss = 0\n",
    "        print('num_batches',num_batches)\n",
    "\n",
    "        for batch in range(num_batches):\n",
    "\n",
    "            x, y = loader.next_batch_test()\n",
    "\n",
    "            feed_dict = dict()\n",
    "            feed_dict[inputs] = x\n",
    "            feed_dict[targets] = y\n",
    "\n",
    "            if ('RNN' in MyCell.__name__):\n",
    "                feed_dict[init_state] = state_\n",
    "            else:\n",
    "                feed_dict[init_state.c] = state_.c\n",
    "                feed_dict[init_state.h] = state_.h\n",
    "\n",
    "            test_loss_, state_= sess.run([loss, final_state], feed_dict=feed_dict)\n",
    "            test_loss += test_loss_\n",
    "        test_loss=test_loss/num_batches\n",
    "        print('test loss:',  test_loss)\n",
    "\n",
    "\n",
    "    \n",
    "    return(test_loss)"
   ]
  },
  {
   "cell_type": "code",
   "execution_count": 17,
   "metadata": {},
   "outputs": [
    {
     "name": "stdout",
     "output_type": "stream",
     "text": [
      "there are preprocessed data - lets load it\n",
      "[39  5  1  7  1  0  4  7  1  0 15  3 13  0 20  3  9  8 20  0  2  3 12  4\n",
      " 15 44]\n",
      "INFO:tensorflow:Restoring parameters from saved_model\n",
      "num_batches 47\n",
      "test loss: 1.4114972708073068\n"
     ]
    },
    {
     "data": {
      "text/plain": [
       "1.4114972708073068"
      ]
     },
     "execution_count": 17,
     "metadata": {},
     "output_type": "execute_result"
    }
   ],
   "source": [
    "Tester(MyBasicLSTMCell)"
   ]
  },
  {
   "cell_type": "code",
   "execution_count": 18,
   "metadata": {},
   "outputs": [
    {
     "name": "stdout",
     "output_type": "stream",
     "text": [
      "there are preprocessed data - lets load it\n",
      "[39  5  4  2  0  9  6  0  2  5  1  0 14  1  4  8  9  8 20  0  3 18  0 11\n",
      "  9 18  1]\n",
      "INFO:tensorflow:Restoring parameters from saved_model\n",
      "What is the meaning of lifen\n",
      "As an adite to the presence.\n",
      "\n",
      "BUCKINGHAM:\n",
      "Madam, they do that have send you that,\n",
      "Being, though al\n"
     ]
    }
   ],
   "source": [
    "Synthesize(MyBasicLSTMCell,\"What is the meaning of life\")"
   ]
  },
  {
   "cell_type": "code",
   "execution_count": null,
   "metadata": {},
   "outputs": [],
   "source": []
  },
  {
   "cell_type": "markdown",
   "metadata": {},
   "source": [
    "# (a) play with the architecture"
   ]
  },
  {
   "cell_type": "code",
   "execution_count": 21,
   "metadata": {},
   "outputs": [
    {
     "data": {
      "image/png": "[encoded data removed]",
      "text/plain": [
       "<Figure size 432x288 with 1 Axes>"
      ]
     },
     "metadata": {},
     "output_type": "display_data"
    }
   ],
   "source": [
    "epcs = [i for i in range(len(re_lstm_basic))]\n",
    "plt.plot(epcs,re_lstm_basic)\n",
    "plt.title(\"loss for training data\")\n",
    "plt.show()\n"
   ]
  },
  {
   "cell_type": "code",
   "execution_count": 29,
   "metadata": {},
   "outputs": [
    {
     "name": "stdout",
     "output_type": "stream",
     "text": [
      "there are preprocessed data - lets load it\n",
      "[49  4  7  1 17  1 11 11 25]\n",
      "INFO:tensorflow:Restoring parameters from saved_model\n",
      "Farewell.\n",
      "\n",
      "MENENIUS:\n",
      "Not all, to bear, he seek'd i' thy state:\n",
      "The prisoner of the marker-naturned wife;\n",
      "Whil\n"
     ]
    }
   ],
   "source": [
    "Synthesize(MyBasicLSTMCell,\"Farewell.\")"
   ]
  },
  {
   "cell_type": "code",
   "execution_count": 30,
   "metadata": {},
   "outputs": [
    {
     "name": "stdout",
     "output_type": "stream",
     "text": [
      "there are preprocessed data - lets load it\n",
      "[26  8 12  0 28  1  1 23  0 15  3 13  7  0  5  3  8  3 13  7  6  0  6  4\n",
      " 18  1 46]\n",
      "INFO:tensorflow:Restoring parameters from saved_model\n",
      "And keep your honours safe!\n",
      "Lue and there thou hast not worldly heaven,\n",
      "Wherein thy huma'st that we swear'd;' 'I'll take\n",
      "you al\n"
     ]
    }
   ],
   "source": [
    "Synthesize(MyBasicLSTMCell,\"And keep your honours safe!\")"
   ]
  },
  {
   "cell_type": "code",
   "execution_count": 31,
   "metadata": {},
   "outputs": [
    {
     "name": "stdout",
     "output_type": "stream",
     "text": [
      "there are preprocessed data - lets load it\n",
      "[36  3  3 28 16  0  6  9  7 25]\n",
      "INFO:tensorflow:Restoring parameters from saved_model\n",
      "Look, sir.\n",
      "\n",
      "BIANCA:\n",
      "Beheld him that they be a constitue.\n",
      "\n",
      "ANGELO:\n",
      "And with thee, my lord or the letters to hol\n"
     ]
    }
   ],
   "source": [
    "Synthesize(MyBasicLSTMCell,\"Look, sir.\")"
   ]
  },
  {
   "cell_type": "code",
   "execution_count": 32,
   "metadata": {},
   "outputs": [
    {
     "name": "stdout",
     "output_type": "stream",
     "text": [
      "there are preprocessed data - lets load it\n",
      "[42  4 28  1  0 20  3  3 12  0  2  5  9  6  0  3  6  2  1  8  2  4  2  9\n",
      "  3  8 16  0  4  8 12  0 15  3 13  0  6  5  4 11 11  0 47  9 27  9 12  1\n",
      "  0  9  8  0  4 11 11  0 17  9  2  5  0 13  6 25]\n",
      "INFO:tensorflow:Restoring parameters from saved_model\n",
      "Make good this ostentation, and you shall Divide in all with us.\n",
      "\n",
      "QUEEN MARGARET:\n",
      "No more are shoning, be mocker.\n",
      "\n",
      "PAULINA:\n",
      "I'll stay as I die, who is the morn outs\n"
     ]
    }
   ],
   "source": [
    "Synthesize(MyBasicLSTMCell,\"Make good this ostentation, and you shall Divide in all with us.\")"
   ]
  },
  {
   "cell_type": "code",
   "execution_count": 28,
   "metadata": {},
   "outputs": [
    {
     "name": "stdout",
     "output_type": "stream",
     "text": [
      "there are preprocessed data - lets load it\n",
      "[39  5  1  7  1  0  4  7  1  0 15  3 13  0 20  3  9  8 20  0  2  3 12  4\n",
      " 15 44]\n",
      "INFO:tensorflow:Restoring parameters from saved_model\n",
      "num_batches 47\n",
      "test loss: 1.4114972708073068\n"
     ]
    },
    {
     "data": {
      "text/plain": [
       "1.4114972708073068"
      ]
     },
     "execution_count": 28,
     "metadata": {},
     "output_type": "execute_result"
    }
   ],
   "source": [
    "Tester(MyBasicLSTMCell)"
   ]
  },
  {
   "cell_type": "markdown",
   "metadata": {},
   "source": [
    "## Comment:\n",
    "The results do not seem to perform very well. "
   ]
  },
  {
   "cell_type": "markdown",
   "metadata": {},
   "source": [
    "# (b) Compare with RNN"
   ]
  },
  {
   "cell_type": "code",
   "execution_count": 124,
   "metadata": {},
   "outputs": [
    {
     "name": "stdout",
     "output_type": "stream",
     "text": [
      "train_num_batches 185\n",
      "epoch: 0 loss: 2.278072653590022\n",
      "epoch: 1 loss: 1.8336338146312816\n",
      "epoch: 2 loss: 1.686809637095477\n",
      "epoch: 3 loss: 1.6048998574952822\n",
      "epoch: 4 loss: 1.5534927690351332\n",
      "epoch: 5 loss: 1.5175468992542576\n",
      "epoch: 6 loss: 1.490863183382395\n",
      "epoch: 7 loss: 1.470065796697462\n",
      "epoch: 8 loss: 1.4533231818998182\n",
      "epoch: 9 loss: 1.4395658673466862\n",
      "epoch: 10 loss: 1.427987441501102\n",
      "epoch: 11 loss: 1.4180384300850533\n",
      "epoch: 12 loss: 1.4094094727490398\n",
      "epoch: 13 loss: 1.4018475345663122\n",
      "epoch: 14 loss: 1.395225325146237\n",
      "epoch: 15 loss: 1.3894909530072599\n",
      "epoch: 16 loss: 1.384377310082719\n",
      "epoch: 17 loss: 1.3799945618655232\n",
      "epoch: 18 loss: 1.3761914362778536\n",
      "epoch: 19 loss: 1.3724097387210743\n",
      "epoch: 20 loss: 1.368999376168122\n",
      "epoch: 21 loss: 1.3666021347045898\n",
      "epoch: 22 loss: 1.3643000132328755\n",
      "epoch: 23 loss: 1.3605506465241717\n",
      "epoch: 24 loss: 1.3568198912852518\n",
      "epoch: 25 loss: 1.3539022484341183\n",
      "epoch: 26 loss: 1.3515175497209704\n",
      "epoch: 27 loss: 1.3498986650157618\n",
      "epoch: 28 loss: 1.3492409242166055\n",
      "epoch: 29 loss: 1.3479887930122583\n",
      "00 hours 01 minutes 52.03 seconds\n"
     ]
    }
   ],
   "source": [
    "re_rnn_basic = trainer(MyBasicRNNCell)"
   ]
  },
  {
   "cell_type": "code",
   "execution_count": 126,
   "metadata": {},
   "outputs": [
    {
     "data": {
      "image/png": "[encoded data removed]",
      "text/plain": [
       "<Figure size 432x288 with 1 Axes>"
      ]
     },
     "metadata": {},
     "output_type": "display_data"
    }
   ],
   "source": [
    "epcs = [i for i in range(len(re_rnn_basic))]\n",
    "plt.plot(epcs,re_rnn_basic)\n",
    "plt.title(\"loss for training data\")\n",
    "plt.show()\n"
   ]
  },
  {
   "cell_type": "code",
   "execution_count": 128,
   "metadata": {},
   "outputs": [
    {
     "name": "stdout",
     "output_type": "stream",
     "text": [
      "there are preprocessed data - lets load it\n",
      "[39  5  1  7  1  0  4  7  1  0 15  3 13  0 20  3  9  8 20  0  2  3 12  4\n",
      " 15 44]\n",
      "INFO:tensorflow:Restoring parameters from saved_model\n",
      "num_batches 47\n",
      "test loss: 1.4653091430664062\n"
     ]
    },
    {
     "data": {
      "text/plain": [
       "1.4653091430664062"
      ]
     },
     "execution_count": 128,
     "metadata": {},
     "output_type": "execute_result"
    }
   ],
   "source": [
    "Tester(MyBasicRNNCell)"
   ]
  },
  {
   "cell_type": "code",
   "execution_count": 127,
   "metadata": {},
   "outputs": [
    {
     "name": "stdout",
     "output_type": "stream",
     "text": [
      "there are preprocessed data - lets load it\n",
      "[49  4  7  1 17  1 11 11 25]\n",
      "INFO:tensorflow:Restoring parameters from saved_model\n",
      "Farewell.\n",
      "Ahoman's like me;\n",
      "And,\n",
      "So should to the brave and by his father by the commands of the word.\n",
      "\n",
      "ARIEL\n"
     ]
    }
   ],
   "source": [
    "Synthesize(MyBasicRNNCell,\"Farewell.\")"
   ]
  },
  {
   "cell_type": "code",
   "execution_count": 37,
   "metadata": {},
   "outputs": [
    {
     "name": "stdout",
     "output_type": "stream",
     "text": [
      "there are preprocessed data - lets load it\n",
      "[26  8 12  0 28  1  1 23  0 15  3 13  7  0  5  3  8  3 13  7  6  0  6  4\n",
      " 18  1 46]\n",
      "INFO:tensorflow:Restoring parameters from saved_model\n",
      "And keep your honours safe!\n",
      "\n",
      "ANGELO:\n",
      "A bays,\n",
      "And by my brother,\n",
      "Make all this is to see that the chieful and bride them about t\n"
     ]
    }
   ],
   "source": [
    "Synthesize(MyBasicRNNCell,\"And keep your honours safe!\")"
   ]
  },
  {
   "cell_type": "code",
   "execution_count": 38,
   "metadata": {},
   "outputs": [
    {
     "name": "stdout",
     "output_type": "stream",
     "text": [
      "there are preprocessed data - lets load it\n",
      "[36  3  3 28 16  0  6  9  7 25]\n",
      "INFO:tensorflow:Restoring parameters from saved_model\n",
      "Look, sir.\n",
      "\n",
      "AUTOLYCUS:\n",
      "And see the word.\n",
      "\n",
      "BRUTUS:\n",
      "In all thy morching by him.\n",
      "\n",
      "Clord:\n",
      "What would not as her fo\n"
     ]
    }
   ],
   "source": [
    "Synthesize(MyBasicRNNCell,\"Look, sir.\")"
   ]
  },
  {
   "cell_type": "code",
   "execution_count": 39,
   "metadata": {},
   "outputs": [
    {
     "name": "stdout",
     "output_type": "stream",
     "text": [
      "there are preprocessed data - lets load it\n",
      "[42  4 28  1  0 20  3  3 12  0  2  5  9  6  0  3  6  2  1  8  2  4  2  9\n",
      "  3  8 16  0  4  8 12  0 15  3 13  0  6  5  4 11 11  0 47  9 27  9 12  1\n",
      "  0  9  8  0  4 11 11  0 17  9  2  5  0 13  6 25]\n",
      "INFO:tensorflow:Restoring parameters from saved_model\n",
      "Make good this ostentation, and you shall Divide in all with us.\n",
      "\n",
      "DUKE VINCENTIO:\n",
      "Why, when thy tone, brother of the pray, and thence ourselves.--warring to be sent\n"
     ]
    }
   ],
   "source": [
    "Synthesize(MyBasicRNNCell,\"Make good this ostentation, and you shall Divide in all with us.\")"
   ]
  },
  {
   "cell_type": "markdown",
   "metadata": {},
   "source": [
    "## (C)"
   ]
  },
  {
   "cell_type": "markdown",
   "metadata": {},
   "source": [
    "## alternative one: enhanced RNN\n",
    "I change the default of num_units to be 2 times the original.<br>\n",
    "When dimension of dim(h) >> dim(x), we have 4 times the number of paramters"
   ]
  },
  {
   "cell_type": "code",
   "execution_count": 108,
   "metadata": {},
   "outputs": [
    {
     "name": "stdout",
     "output_type": "stream",
     "text": [
      "train_num_batches 185\n",
      "epoch: 0 loss: 2.211919324462478\n",
      "epoch: 1 loss: 1.7509866198977908\n",
      "epoch: 2 loss: 1.5972390954558913\n",
      "epoch: 3 loss: 1.5154110064377655\n",
      "epoch: 4 loss: 1.4637490813796585\n",
      "epoch: 5 loss: 1.4285416764182013\n",
      "epoch: 6 loss: 1.400735107628075\n",
      "epoch: 7 loss: 1.378274722357054\n",
      "epoch: 8 loss: 1.359726594589852\n",
      "epoch: 9 loss: 1.345980387765008\n",
      "epoch: 10 loss: 1.3347510666460605\n",
      "epoch: 11 loss: 1.3255704125842533\n",
      "epoch: 12 loss: 1.3183947750040004\n",
      "epoch: 13 loss: 1.3102646718154083\n",
      "epoch: 14 loss: 1.3044025904423482\n",
      "epoch: 15 loss: 1.3016612774616962\n",
      "epoch: 16 loss: 1.2991381149034242\n",
      "epoch: 17 loss: 1.2928764001743214\n",
      "epoch: 18 loss: 1.2883972915443214\n",
      "epoch: 19 loss: 1.2845338247917795\n",
      "epoch: 20 loss: 1.2809447662250415\n",
      "epoch: 21 loss: 1.2774507806107804\n",
      "epoch: 22 loss: 1.2761928429474703\n",
      "epoch: 23 loss: 1.2765189138618676\n",
      "epoch: 24 loss: 1.2766954550871978\n",
      "epoch: 25 loss: 1.272276925396275\n",
      "epoch: 26 loss: 1.2711892682152826\n",
      "epoch: 27 loss: 1.271570290101541\n",
      "epoch: 28 loss: 1.2684568579132494\n",
      "epoch: 29 loss: 1.265458278398256\n",
      "00 hours 02 minutes 57.26 seconds\n"
     ]
    }
   ],
   "source": [
    "re_rnn_same_para_as_LSTM = trainer(MyBasicRNNCell)"
   ]
  },
  {
   "cell_type": "code",
   "execution_count": 111,
   "metadata": {},
   "outputs": [
    {
     "data": {
      "image/png": "[encoded data removed]",
      "text/plain": [
       "<Figure size 432x288 with 1 Axes>"
      ]
     },
     "metadata": {},
     "output_type": "display_data"
    }
   ],
   "source": [
    "epcs = [i for i in range(len(re_rnn_same_para_as_LSTM))]\n",
    "plt.plot(epcs,re_rnn_same_para_as_LSTM)\n",
    "plt.title(\"loss for training data\")\n",
    "plt.show()"
   ]
  },
  {
   "cell_type": "code",
   "execution_count": 110,
   "metadata": {},
   "outputs": [
    {
     "name": "stdout",
     "output_type": "stream",
     "text": [
      "there are preprocessed data - lets load it\n",
      "[39  5  1  7  1  0  4  7  1  0 15  3 13  0 20  3  9  8 20  0  2  3 12  4\n",
      " 15 44]\n",
      "INFO:tensorflow:Restoring parameters from saved_model\n",
      "num_batches 47\n",
      "test loss: 1.4517813718065302\n"
     ]
    },
    {
     "data": {
      "text/plain": [
       "1.4517813718065302"
      ]
     },
     "execution_count": 110,
     "metadata": {},
     "output_type": "execute_result"
    }
   ],
   "source": [
    "Tester(MyBasicRNNCell)"
   ]
  },
  {
   "cell_type": "markdown",
   "metadata": {},
   "source": [
    "## Analysis: \n",
    "with increasing number of paramters, the error rate on training data indeed drops."
   ]
  },
  {
   "cell_type": "markdown",
   "metadata": {},
   "source": [
    "## Alternative 2: RNN with two layers"
   ]
  },
  {
   "cell_type": "code",
   "execution_count": 112,
   "metadata": {
    "scrolled": true
   },
   "outputs": [
    {
     "name": "stdout",
     "output_type": "stream",
     "text": [
      "train_num_batches 185\n",
      "epoch: 0 loss: 2.4672364054499445\n",
      "epoch: 1 loss: 2.0464838723878604\n",
      "epoch: 2 loss: 1.8691121114266884\n",
      "epoch: 3 loss: 1.7355025104574255\n",
      "epoch: 4 loss: 1.64565470863033\n",
      "epoch: 5 loss: 1.5886850846780314\n",
      "epoch: 6 loss: 1.5472483570511277\n",
      "epoch: 7 loss: 1.5071861170433662\n",
      "epoch: 8 loss: 1.4840407416627215\n",
      "epoch: 9 loss: 1.4645576721913105\n",
      "epoch: 10 loss: 1.4452389614002126\n",
      "epoch: 11 loss: 1.4257637288119343\n",
      "epoch: 12 loss: 1.4035859855445656\n",
      "epoch: 13 loss: 1.3947516061164238\n",
      "epoch: 14 loss: 1.3857541019852098\n",
      "epoch: 15 loss: 1.3742644245560105\n",
      "epoch: 16 loss: 1.359066654540397\n",
      "epoch: 17 loss: 1.3502300597525931\n",
      "epoch: 18 loss: 1.3506952002241805\n",
      "epoch: 19 loss: 1.3409954721863206\n",
      "epoch: 20 loss: 1.3319525551151585\n",
      "epoch: 21 loss: 1.3233729581575135\n",
      "epoch: 22 loss: 1.3179338751612484\n",
      "epoch: 23 loss: 1.3198697161030124\n",
      "epoch: 24 loss: 1.3150296237017658\n",
      "epoch: 25 loss: 1.3016919219816052\n",
      "epoch: 26 loss: 1.304314630096023\n",
      "epoch: 27 loss: 1.301042060594301\n",
      "epoch: 28 loss: 1.2942783420150343\n",
      "epoch: 29 loss: 1.292528871587805\n",
      "00 hours 05 minutes 49.54 seconds\n"
     ]
    }
   ],
   "source": [
    "re_rnn_two_layers = trainer(MyBasicRNNCell_layer2)"
   ]
  },
  {
   "cell_type": "code",
   "execution_count": 114,
   "metadata": {},
   "outputs": [
    {
     "data": {
      "image/png": "[encoded data removed]",
      "text/plain": [
       "<Figure size 432x288 with 1 Axes>"
      ]
     },
     "metadata": {},
     "output_type": "display_data"
    }
   ],
   "source": [
    "epcs = [i for i in range(len(re_rnn_two_layers))]\n",
    "plt.plot(epcs,re_rnn_two_layers)\n",
    "plt.title(\"loss for training data\")\n",
    "plt.show()\n"
   ]
  },
  {
   "cell_type": "code",
   "execution_count": 120,
   "metadata": {},
   "outputs": [
    {
     "name": "stdout",
     "output_type": "stream",
     "text": [
      "there are preprocessed data - lets load it\n",
      "[39  5  1  7  1  0  4  7  1  0 15  3 13  0 20  3  9  8 20  0  2  3 12  4\n",
      " 15 44]\n",
      "INFO:tensorflow:Restoring parameters from saved_model\n",
      "num_batches 47\n",
      "test loss: 1.4558151402371995\n"
     ]
    },
    {
     "data": {
      "text/plain": [
       "1.4558151402371995"
      ]
     },
     "execution_count": 120,
     "metadata": {},
     "output_type": "execute_result"
    }
   ],
   "source": [
    "Tester(MyBasicRNNCell_layer2)"
   ]
  },
  {
   "cell_type": "markdown",
   "metadata": {},
   "source": [
    "## Alternative 3: Coupled gating"
   ]
  },
  {
   "cell_type": "code",
   "execution_count": 79,
   "metadata": {},
   "outputs": [
    {
     "name": "stdout",
     "output_type": "stream",
     "text": [
      "train_num_batches 185\n",
      "epoch: 0 loss: 2.430436626640526\n",
      "epoch: 1 loss: 1.7901355685414495\n",
      "epoch: 2 loss: 1.602505157444928\n",
      "epoch: 3 loss: 1.509585175643096\n",
      "epoch: 4 loss: 1.4519999839164115\n",
      "epoch: 5 loss: 1.4138293897783434\n",
      "epoch: 6 loss: 1.383643710935438\n",
      "epoch: 7 loss: 1.3596576362042814\n",
      "epoch: 8 loss: 1.339954027614078\n",
      "epoch: 9 loss: 1.3235926099725672\n",
      "epoch: 10 loss: 1.3096334354297534\n",
      "epoch: 11 loss: 1.2973150820345491\n",
      "epoch: 12 loss: 1.2858696724917438\n",
      "epoch: 13 loss: 1.275561615583059\n",
      "epoch: 14 loss: 1.2664476517084482\n",
      "epoch: 15 loss: 1.2583503188313665\n",
      "epoch: 16 loss: 1.2508353884155685\n",
      "epoch: 17 loss: 1.243690853505521\n",
      "epoch: 18 loss: 1.2370720302736438\n",
      "epoch: 19 loss: 1.2310091875694893\n",
      "epoch: 20 loss: 1.2281230868519963\n",
      "epoch: 21 loss: 1.2232521720834681\n",
      "epoch: 22 loss: 1.2218774982400842\n",
      "epoch: 23 loss: 1.2181442176973498\n",
      "epoch: 24 loss: 1.21158383794733\n",
      "epoch: 25 loss: 1.2084172725677491\n",
      "epoch: 26 loss: 1.2057380180101136\n",
      "epoch: 27 loss: 1.2027050121410472\n",
      "epoch: 28 loss: 1.198602209864436\n",
      "epoch: 29 loss: 1.1942108547365344\n",
      "00 hours 04 minutes 36.29 seconds\n"
     ]
    }
   ],
   "source": [
    "re_lstm_cp_gates = trainer(MyBasicLSTMCell_cp_gates)"
   ]
  },
  {
   "cell_type": "code",
   "execution_count": 82,
   "metadata": {},
   "outputs": [
    {
     "name": "stdout",
     "output_type": "stream",
     "text": [
      "there are preprocessed data - lets load it\n",
      "[39  5  1  7  1  0  4  7  1  0 15  3 13  0 20  3  9  8 20  0  2  3 12  4\n",
      " 15 44]\n",
      "INFO:tensorflow:Restoring parameters from saved_model\n",
      "num_batches 47\n",
      "test loss: 1.4077468349578532\n"
     ]
    },
    {
     "data": {
      "text/plain": [
       "1.4077468349578532"
      ]
     },
     "execution_count": 82,
     "metadata": {},
     "output_type": "execute_result"
    }
   ],
   "source": [
    "Tester(MyBasicLSTMCell_cp_gates)"
   ]
  },
  {
   "cell_type": "code",
   "execution_count": 121,
   "metadata": {},
   "outputs": [
    {
     "name": "stdout",
     "output_type": "stream",
     "text": [
      "there are preprocessed data - lets load it\n",
      "[49  4  7  1 17  1 11 11 25]\n",
      "INFO:tensorflow:Restoring parameters from saved_model\n"
     ]
    },
    {
     "ename": "NotFoundError",
     "evalue": "Key LSTMCell/my_basic_lstm_cell_cp_gates/bias not found in checkpoint\n\t [[Node: saver/save/RestoreV2 = RestoreV2[dtypes=[DT_FLOAT, DT_FLOAT, DT_FLOAT, DT_FLOAT, DT_FLOAT, ..., DT_FLOAT, DT_FLOAT, DT_FLOAT, DT_FLOAT, DT_FLOAT], _device=\"/job:localhost/replica:0/task:0/device:CPU:0\"](_arg_saver/save/Const_0_0, saver/save/RestoreV2/tensor_names, saver/save/RestoreV2/shape_and_slices)]]\n\nCaused by op 'saver/save/RestoreV2', defined at:\n  File \"/software/Anaconda3-5.0.1-el7-x86_64/envs/DL_GPU_cuda_9.0/lib/python3.6/runpy.py\", line 193, in _run_module_as_main\n    \"__main__\", mod_spec)\n  File \"/software/Anaconda3-5.0.1-el7-x86_64/envs/DL_GPU_cuda_9.0/lib/python3.6/runpy.py\", line 85, in _run_code\n    exec(code, run_globals)\n  File \"/software/Anaconda3-5.0.1-el7-x86_64/envs/DL_GPU_cuda_9.0/lib/python3.6/site-packages/ipykernel/__main__.py\", line 3, in <module>\n    app.launch_new_instance()\n  File \"/software/Anaconda3-5.0.1-el7-x86_64/envs/DL_GPU_cuda_9.0/lib/python3.6/site-packages/traitlets/config/application.py\", line 658, in launch_instance\n    app.start()\n  File \"/software/Anaconda3-5.0.1-el7-x86_64/envs/DL_GPU_cuda_9.0/lib/python3.6/site-packages/ipykernel/kernelapp.py\", line 486, in start\n    self.io_loop.start()\n  File \"/software/Anaconda3-5.0.1-el7-x86_64/envs/DL_GPU_cuda_9.0/lib/python3.6/site-packages/tornado/platform/asyncio.py\", line 112, in start\n    self.asyncio_loop.run_forever()\n  File \"/software/Anaconda3-5.0.1-el7-x86_64/envs/DL_GPU_cuda_9.0/lib/python3.6/asyncio/base_events.py\", line 422, in run_forever\n    self._run_once()\n  File \"/software/Anaconda3-5.0.1-el7-x86_64/envs/DL_GPU_cuda_9.0/lib/python3.6/asyncio/base_events.py\", line 1432, in _run_once\n    handle._run()\n  File \"/software/Anaconda3-5.0.1-el7-x86_64/envs/DL_GPU_cuda_9.0/lib/python3.6/asyncio/events.py\", line 145, in _run\n    self._callback(*self._args)\n  File \"/software/Anaconda3-5.0.1-el7-x86_64/envs/DL_GPU_cuda_9.0/lib/python3.6/site-packages/tornado/platform/asyncio.py\", line 102, in _handle_events\n    handler_func(fileobj, events)\n  File \"/software/Anaconda3-5.0.1-el7-x86_64/envs/DL_GPU_cuda_9.0/lib/python3.6/site-packages/tornado/stack_context.py\", line 276, in null_wrapper\n    return fn(*args, **kwargs)\n  File \"/software/Anaconda3-5.0.1-el7-x86_64/envs/DL_GPU_cuda_9.0/lib/python3.6/site-packages/zmq/eventloop/zmqstream.py\", line 450, in _handle_events\n    self._handle_recv()\n  File \"/software/Anaconda3-5.0.1-el7-x86_64/envs/DL_GPU_cuda_9.0/lib/python3.6/site-packages/zmq/eventloop/zmqstream.py\", line 480, in _handle_recv\n    self._run_callback(callback, msg)\n  File \"/software/Anaconda3-5.0.1-el7-x86_64/envs/DL_GPU_cuda_9.0/lib/python3.6/site-packages/zmq/eventloop/zmqstream.py\", line 432, in _run_callback\n    callback(*args, **kwargs)\n  File \"/software/Anaconda3-5.0.1-el7-x86_64/envs/DL_GPU_cuda_9.0/lib/python3.6/site-packages/tornado/stack_context.py\", line 276, in null_wrapper\n    return fn(*args, **kwargs)\n  File \"/software/Anaconda3-5.0.1-el7-x86_64/envs/DL_GPU_cuda_9.0/lib/python3.6/site-packages/ipykernel/kernelbase.py\", line 283, in dispatcher\n    return self.dispatch_shell(stream, msg)\n  File \"/software/Anaconda3-5.0.1-el7-x86_64/envs/DL_GPU_cuda_9.0/lib/python3.6/site-packages/ipykernel/kernelbase.py\", line 233, in dispatch_shell\n    handler(stream, idents, msg)\n  File \"/software/Anaconda3-5.0.1-el7-x86_64/envs/DL_GPU_cuda_9.0/lib/python3.6/site-packages/ipykernel/kernelbase.py\", line 399, in execute_request\n    user_expressions, allow_stdin)\n  File \"/software/Anaconda3-5.0.1-el7-x86_64/envs/DL_GPU_cuda_9.0/lib/python3.6/site-packages/ipykernel/ipkernel.py\", line 208, in do_execute\n    res = shell.run_cell(code, store_history=store_history, silent=silent)\n  File \"/software/Anaconda3-5.0.1-el7-x86_64/envs/DL_GPU_cuda_9.0/lib/python3.6/site-packages/ipykernel/zmqshell.py\", line 537, in run_cell\n    return super(ZMQInteractiveShell, self).run_cell(*args, **kwargs)\n  File \"/software/Anaconda3-5.0.1-el7-x86_64/envs/DL_GPU_cuda_9.0/lib/python3.6/site-packages/IPython/core/interactiveshell.py\", line 2662, in run_cell\n    raw_cell, store_history, silent, shell_futures)\n  File \"/software/Anaconda3-5.0.1-el7-x86_64/envs/DL_GPU_cuda_9.0/lib/python3.6/site-packages/IPython/core/interactiveshell.py\", line 2785, in _run_cell\n    interactivity=interactivity, compiler=compiler, result=result)\n  File \"/software/Anaconda3-5.0.1-el7-x86_64/envs/DL_GPU_cuda_9.0/lib/python3.6/site-packages/IPython/core/interactiveshell.py\", line 2909, in run_ast_nodes\n    if self.run_code(code, result):\n  File \"/software/Anaconda3-5.0.1-el7-x86_64/envs/DL_GPU_cuda_9.0/lib/python3.6/site-packages/IPython/core/interactiveshell.py\", line 2963, in run_code\n    exec(code_obj, self.user_global_ns, self.user_ns)\n  File \"<ipython-input-121-d0705f03a1e4>\", line 1, in <module>\n    Synthesize(MyBasicLSTMCell_cp_gates,\"Farewell.\")\n  File \"<ipython-input-89-b0d74a6c587c>\", line 10, in Synthesize\n    init_state, train_step, loss, final_state, saver, prob=network(MyCell,inputs,targets)\n  File \"<ipython-input-106-5c9645b17b99>\", line 43, in network\n    saver = tf.train.Saver()\n  File \"/software/Anaconda3-5.0.1-el7-x86_64/envs/DL_GPU_cuda_9.0/lib/python3.6/site-packages/tensorflow/python/training/saver.py\", line 1338, in __init__\n    self.build()\n  File \"/software/Anaconda3-5.0.1-el7-x86_64/envs/DL_GPU_cuda_9.0/lib/python3.6/site-packages/tensorflow/python/training/saver.py\", line 1347, in build\n    self._build(self._filename, build_save=True, build_restore=True)\n  File \"/software/Anaconda3-5.0.1-el7-x86_64/envs/DL_GPU_cuda_9.0/lib/python3.6/site-packages/tensorflow/python/training/saver.py\", line 1384, in _build\n    build_save=build_save, build_restore=build_restore)\n  File \"/software/Anaconda3-5.0.1-el7-x86_64/envs/DL_GPU_cuda_9.0/lib/python3.6/site-packages/tensorflow/python/training/saver.py\", line 835, in _build_internal\n    restore_sequentially, reshape)\n  File \"/software/Anaconda3-5.0.1-el7-x86_64/envs/DL_GPU_cuda_9.0/lib/python3.6/site-packages/tensorflow/python/training/saver.py\", line 472, in _AddRestoreOps\n    restore_sequentially)\n  File \"/software/Anaconda3-5.0.1-el7-x86_64/envs/DL_GPU_cuda_9.0/lib/python3.6/site-packages/tensorflow/python/training/saver.py\", line 886, in bulk_restore\n    return io_ops.restore_v2(filename_tensor, names, slices, dtypes)\n  File \"/software/Anaconda3-5.0.1-el7-x86_64/envs/DL_GPU_cuda_9.0/lib/python3.6/site-packages/tensorflow/python/ops/gen_io_ops.py\", line 1463, in restore_v2\n    shape_and_slices=shape_and_slices, dtypes=dtypes, name=name)\n  File \"/software/Anaconda3-5.0.1-el7-x86_64/envs/DL_GPU_cuda_9.0/lib/python3.6/site-packages/tensorflow/python/framework/op_def_library.py\", line 787, in _apply_op_helper\n    op_def=op_def)\n  File \"/software/Anaconda3-5.0.1-el7-x86_64/envs/DL_GPU_cuda_9.0/lib/python3.6/site-packages/tensorflow/python/framework/ops.py\", line 3392, in create_op\n    op_def=op_def)\n  File \"/software/Anaconda3-5.0.1-el7-x86_64/envs/DL_GPU_cuda_9.0/lib/python3.6/site-packages/tensorflow/python/framework/ops.py\", line 1718, in __init__\n    self._traceback = self._graph._extract_stack()  # pylint: disable=protected-access\n\nNotFoundError (see above for traceback): Key LSTMCell/my_basic_lstm_cell_cp_gates/bias not found in checkpoint\n\t [[Node: saver/save/RestoreV2 = RestoreV2[dtypes=[DT_FLOAT, DT_FLOAT, DT_FLOAT, DT_FLOAT, DT_FLOAT, ..., DT_FLOAT, DT_FLOAT, DT_FLOAT, DT_FLOAT, DT_FLOAT], _device=\"/job:localhost/replica:0/task:0/device:CPU:0\"](_arg_saver/save/Const_0_0, saver/save/RestoreV2/tensor_names, saver/save/RestoreV2/shape_and_slices)]]\n",
     "output_type": "error",
     "traceback": [
      "\u001b[0;31m---------------------------------------------------------------------------\u001b[0m",
      "\u001b[0;31mNotFoundError\u001b[0m                             Traceback (most recent call last)",
      "\u001b[0;32m/software/Anaconda3-5.0.1-el7-x86_64/envs/DL_GPU_cuda_9.0/lib/python3.6/site-packages/tensorflow/python/client/session.py\u001b[0m in \u001b[0;36m_do_call\u001b[0;34m(self, fn, *args)\u001b[0m\n\u001b[1;32m   1321\u001b[0m     \u001b[0;32mtry\u001b[0m\u001b[0;34m:\u001b[0m\u001b[0;34m\u001b[0m\u001b[0m\n\u001b[0;32m-> 1322\u001b[0;31m       \u001b[0;32mreturn\u001b[0m \u001b[0mfn\u001b[0m\u001b[0;34m(\u001b[0m\u001b[0;34m*\u001b[0m\u001b[0margs\u001b[0m\u001b[0;34m)\u001b[0m\u001b[0;34m\u001b[0m\u001b[0m\n\u001b[0m\u001b[1;32m   1323\u001b[0m     \u001b[0;32mexcept\u001b[0m \u001b[0merrors\u001b[0m\u001b[0;34m.\u001b[0m\u001b[0mOpError\u001b[0m \u001b[0;32mas\u001b[0m \u001b[0me\u001b[0m\u001b[0;34m:\u001b[0m\u001b[0;34m\u001b[0m\u001b[0m\n",
      "\u001b[0;32m/software/Anaconda3-5.0.1-el7-x86_64/envs/DL_GPU_cuda_9.0/lib/python3.6/site-packages/tensorflow/python/client/session.py\u001b[0m in \u001b[0;36m_run_fn\u001b[0;34m(feed_dict, fetch_list, target_list, options, run_metadata)\u001b[0m\n\u001b[1;32m   1306\u001b[0m       return self._call_tf_sessionrun(\n\u001b[0;32m-> 1307\u001b[0;31m           options, feed_dict, fetch_list, target_list, run_metadata)\n\u001b[0m\u001b[1;32m   1308\u001b[0m \u001b[0;34m\u001b[0m\u001b[0m\n",
      "\u001b[0;32m/software/Anaconda3-5.0.1-el7-x86_64/envs/DL_GPU_cuda_9.0/lib/python3.6/site-packages/tensorflow/python/client/session.py\u001b[0m in \u001b[0;36m_call_tf_sessionrun\u001b[0;34m(self, options, feed_dict, fetch_list, target_list, run_metadata)\u001b[0m\n\u001b[1;32m   1408\u001b[0m           \u001b[0mself\u001b[0m\u001b[0;34m.\u001b[0m\u001b[0m_session\u001b[0m\u001b[0;34m,\u001b[0m \u001b[0moptions\u001b[0m\u001b[0;34m,\u001b[0m \u001b[0mfeed_dict\u001b[0m\u001b[0;34m,\u001b[0m \u001b[0mfetch_list\u001b[0m\u001b[0;34m,\u001b[0m \u001b[0mtarget_list\u001b[0m\u001b[0;34m,\u001b[0m\u001b[0;34m\u001b[0m\u001b[0m\n\u001b[0;32m-> 1409\u001b[0;31m           run_metadata)\n\u001b[0m\u001b[1;32m   1410\u001b[0m     \u001b[0;32melse\u001b[0m\u001b[0;34m:\u001b[0m\u001b[0;34m\u001b[0m\u001b[0m\n",
      "\u001b[0;31mNotFoundError\u001b[0m: Key LSTMCell/my_basic_lstm_cell_cp_gates/bias not found in checkpoint\n\t [[Node: saver/save/RestoreV2 = RestoreV2[dtypes=[DT_FLOAT, DT_FLOAT, DT_FLOAT, DT_FLOAT, DT_FLOAT, ..., DT_FLOAT, DT_FLOAT, DT_FLOAT, DT_FLOAT, DT_FLOAT], _device=\"/job:localhost/replica:0/task:0/device:CPU:0\"](_arg_saver/save/Const_0_0, saver/save/RestoreV2/tensor_names, saver/save/RestoreV2/shape_and_slices)]]",
      "\nDuring handling of the above exception, another exception occurred:\n",
      "\u001b[0;31mNotFoundError\u001b[0m                             Traceback (most recent call last)",
      "\u001b[0;32m<ipython-input-121-d0705f03a1e4>\u001b[0m in \u001b[0;36m<module>\u001b[0;34m()\u001b[0m\n\u001b[0;32m----> 1\u001b[0;31m \u001b[0mSynthesize\u001b[0m\u001b[0;34m(\u001b[0m\u001b[0mMyBasicLSTMCell_cp_gates\u001b[0m\u001b[0;34m,\u001b[0m\u001b[0;34m\"Farewell.\"\u001b[0m\u001b[0;34m)\u001b[0m\u001b[0;34m\u001b[0m\u001b[0m\n\u001b[0m",
      "\u001b[0;32m<ipython-input-89-b0d74a6c587c>\u001b[0m in \u001b[0;36mSynthesize\u001b[0;34m(MyCell, init_string)\u001b[0m\n\u001b[1;32m     25\u001b[0m \u001b[0;34m\u001b[0m\u001b[0m\n\u001b[1;32m     26\u001b[0m         \u001b[0;31m# Load saved model\u001b[0m\u001b[0;34m\u001b[0m\u001b[0;34m\u001b[0m\u001b[0m\n\u001b[0;32m---> 27\u001b[0;31m         \u001b[0msaver\u001b[0m\u001b[0;34m.\u001b[0m\u001b[0mrestore\u001b[0m\u001b[0;34m(\u001b[0m\u001b[0msess\u001b[0m\u001b[0;34m,\u001b[0m \u001b[0;34m'saved_model'\u001b[0m\u001b[0;34m)\u001b[0m\u001b[0;34m\u001b[0m\u001b[0m\n\u001b[0m\u001b[1;32m     28\u001b[0m         \u001b[0mstate_\u001b[0m \u001b[0;34m=\u001b[0m \u001b[0msess\u001b[0m\u001b[0;34m.\u001b[0m\u001b[0mrun\u001b[0m\u001b[0;34m(\u001b[0m\u001b[0minit_state\u001b[0m\u001b[0;34m)\u001b[0m\u001b[0;34m\u001b[0m\u001b[0m\n\u001b[1;32m     29\u001b[0m \u001b[0;34m\u001b[0m\u001b[0m\n",
      "\u001b[0;32m/software/Anaconda3-5.0.1-el7-x86_64/envs/DL_GPU_cuda_9.0/lib/python3.6/site-packages/tensorflow/python/training/saver.py\u001b[0m in \u001b[0;36mrestore\u001b[0;34m(self, sess, save_path)\u001b[0m\n\u001b[1;32m   1800\u001b[0m     \u001b[0;32melse\u001b[0m\u001b[0;34m:\u001b[0m\u001b[0;34m\u001b[0m\u001b[0m\n\u001b[1;32m   1801\u001b[0m       sess.run(self.saver_def.restore_op_name,\n\u001b[0;32m-> 1802\u001b[0;31m                {self.saver_def.filename_tensor_name: save_path})\n\u001b[0m\u001b[1;32m   1803\u001b[0m \u001b[0;34m\u001b[0m\u001b[0m\n\u001b[1;32m   1804\u001b[0m   \u001b[0;34m@\u001b[0m\u001b[0mstaticmethod\u001b[0m\u001b[0;34m\u001b[0m\u001b[0m\n",
      "\u001b[0;32m/software/Anaconda3-5.0.1-el7-x86_64/envs/DL_GPU_cuda_9.0/lib/python3.6/site-packages/tensorflow/python/client/session.py\u001b[0m in \u001b[0;36mrun\u001b[0;34m(self, fetches, feed_dict, options, run_metadata)\u001b[0m\n\u001b[1;32m    898\u001b[0m     \u001b[0;32mtry\u001b[0m\u001b[0;34m:\u001b[0m\u001b[0;34m\u001b[0m\u001b[0m\n\u001b[1;32m    899\u001b[0m       result = self._run(None, fetches, feed_dict, options_ptr,\n\u001b[0;32m--> 900\u001b[0;31m                          run_metadata_ptr)\n\u001b[0m\u001b[1;32m    901\u001b[0m       \u001b[0;32mif\u001b[0m \u001b[0mrun_metadata\u001b[0m\u001b[0;34m:\u001b[0m\u001b[0;34m\u001b[0m\u001b[0m\n\u001b[1;32m    902\u001b[0m         \u001b[0mproto_data\u001b[0m \u001b[0;34m=\u001b[0m \u001b[0mtf_session\u001b[0m\u001b[0;34m.\u001b[0m\u001b[0mTF_GetBuffer\u001b[0m\u001b[0;34m(\u001b[0m\u001b[0mrun_metadata_ptr\u001b[0m\u001b[0;34m)\u001b[0m\u001b[0;34m\u001b[0m\u001b[0m\n",
      "\u001b[0;32m/software/Anaconda3-5.0.1-el7-x86_64/envs/DL_GPU_cuda_9.0/lib/python3.6/site-packages/tensorflow/python/client/session.py\u001b[0m in \u001b[0;36m_run\u001b[0;34m(self, handle, fetches, feed_dict, options, run_metadata)\u001b[0m\n\u001b[1;32m   1133\u001b[0m     \u001b[0;32mif\u001b[0m \u001b[0mfinal_fetches\u001b[0m \u001b[0;32mor\u001b[0m \u001b[0mfinal_targets\u001b[0m \u001b[0;32mor\u001b[0m \u001b[0;34m(\u001b[0m\u001b[0mhandle\u001b[0m \u001b[0;32mand\u001b[0m \u001b[0mfeed_dict_tensor\u001b[0m\u001b[0;34m)\u001b[0m\u001b[0;34m:\u001b[0m\u001b[0;34m\u001b[0m\u001b[0m\n\u001b[1;32m   1134\u001b[0m       results = self._do_run(handle, final_targets, final_fetches,\n\u001b[0;32m-> 1135\u001b[0;31m                              feed_dict_tensor, options, run_metadata)\n\u001b[0m\u001b[1;32m   1136\u001b[0m     \u001b[0;32melse\u001b[0m\u001b[0;34m:\u001b[0m\u001b[0;34m\u001b[0m\u001b[0m\n\u001b[1;32m   1137\u001b[0m       \u001b[0mresults\u001b[0m \u001b[0;34m=\u001b[0m \u001b[0;34m[\u001b[0m\u001b[0;34m]\u001b[0m\u001b[0;34m\u001b[0m\u001b[0m\n",
      "\u001b[0;32m/software/Anaconda3-5.0.1-el7-x86_64/envs/DL_GPU_cuda_9.0/lib/python3.6/site-packages/tensorflow/python/client/session.py\u001b[0m in \u001b[0;36m_do_run\u001b[0;34m(self, handle, target_list, fetch_list, feed_dict, options, run_metadata)\u001b[0m\n\u001b[1;32m   1314\u001b[0m     \u001b[0;32mif\u001b[0m \u001b[0mhandle\u001b[0m \u001b[0;32mis\u001b[0m \u001b[0;32mNone\u001b[0m\u001b[0;34m:\u001b[0m\u001b[0;34m\u001b[0m\u001b[0m\n\u001b[1;32m   1315\u001b[0m       return self._do_call(_run_fn, feeds, fetches, targets, options,\n\u001b[0;32m-> 1316\u001b[0;31m                            run_metadata)\n\u001b[0m\u001b[1;32m   1317\u001b[0m     \u001b[0;32melse\u001b[0m\u001b[0;34m:\u001b[0m\u001b[0;34m\u001b[0m\u001b[0m\n\u001b[1;32m   1318\u001b[0m       \u001b[0;32mreturn\u001b[0m \u001b[0mself\u001b[0m\u001b[0;34m.\u001b[0m\u001b[0m_do_call\u001b[0m\u001b[0;34m(\u001b[0m\u001b[0m_prun_fn\u001b[0m\u001b[0;34m,\u001b[0m \u001b[0mhandle\u001b[0m\u001b[0;34m,\u001b[0m \u001b[0mfeeds\u001b[0m\u001b[0;34m,\u001b[0m \u001b[0mfetches\u001b[0m\u001b[0;34m)\u001b[0m\u001b[0;34m\u001b[0m\u001b[0m\n",
      "\u001b[0;32m/software/Anaconda3-5.0.1-el7-x86_64/envs/DL_GPU_cuda_9.0/lib/python3.6/site-packages/tensorflow/python/client/session.py\u001b[0m in \u001b[0;36m_do_call\u001b[0;34m(self, fn, *args)\u001b[0m\n\u001b[1;32m   1333\u001b[0m         \u001b[0;32mexcept\u001b[0m \u001b[0mKeyError\u001b[0m\u001b[0;34m:\u001b[0m\u001b[0;34m\u001b[0m\u001b[0m\n\u001b[1;32m   1334\u001b[0m           \u001b[0;32mpass\u001b[0m\u001b[0;34m\u001b[0m\u001b[0m\n\u001b[0;32m-> 1335\u001b[0;31m       \u001b[0;32mraise\u001b[0m \u001b[0mtype\u001b[0m\u001b[0;34m(\u001b[0m\u001b[0me\u001b[0m\u001b[0;34m)\u001b[0m\u001b[0;34m(\u001b[0m\u001b[0mnode_def\u001b[0m\u001b[0;34m,\u001b[0m \u001b[0mop\u001b[0m\u001b[0;34m,\u001b[0m \u001b[0mmessage\u001b[0m\u001b[0;34m)\u001b[0m\u001b[0;34m\u001b[0m\u001b[0m\n\u001b[0m\u001b[1;32m   1336\u001b[0m \u001b[0;34m\u001b[0m\u001b[0m\n\u001b[1;32m   1337\u001b[0m   \u001b[0;32mdef\u001b[0m \u001b[0m_extend_graph\u001b[0m\u001b[0;34m(\u001b[0m\u001b[0mself\u001b[0m\u001b[0;34m)\u001b[0m\u001b[0;34m:\u001b[0m\u001b[0;34m\u001b[0m\u001b[0m\n",
      "\u001b[0;31mNotFoundError\u001b[0m: Key LSTMCell/my_basic_lstm_cell_cp_gates/bias not found in checkpoint\n\t [[Node: saver/save/RestoreV2 = RestoreV2[dtypes=[DT_FLOAT, DT_FLOAT, DT_FLOAT, DT_FLOAT, DT_FLOAT, ..., DT_FLOAT, DT_FLOAT, DT_FLOAT, DT_FLOAT, DT_FLOAT], _device=\"/job:localhost/replica:0/task:0/device:CPU:0\"](_arg_saver/save/Const_0_0, saver/save/RestoreV2/tensor_names, saver/save/RestoreV2/shape_and_slices)]]\n\nCaused by op 'saver/save/RestoreV2', defined at:\n  File \"/software/Anaconda3-5.0.1-el7-x86_64/envs/DL_GPU_cuda_9.0/lib/python3.6/runpy.py\", line 193, in _run_module_as_main\n    \"__main__\", mod_spec)\n  File \"/software/Anaconda3-5.0.1-el7-x86_64/envs/DL_GPU_cuda_9.0/lib/python3.6/runpy.py\", line 85, in _run_code\n    exec(code, run_globals)\n  File \"/software/Anaconda3-5.0.1-el7-x86_64/envs/DL_GPU_cuda_9.0/lib/python3.6/site-packages/ipykernel/__main__.py\", line 3, in <module>\n    app.launch_new_instance()\n  File \"/software/Anaconda3-5.0.1-el7-x86_64/envs/DL_GPU_cuda_9.0/lib/python3.6/site-packages/traitlets/config/application.py\", line 658, in launch_instance\n    app.start()\n  File \"/software/Anaconda3-5.0.1-el7-x86_64/envs/DL_GPU_cuda_9.0/lib/python3.6/site-packages/ipykernel/kernelapp.py\", line 486, in start\n    self.io_loop.start()\n  File \"/software/Anaconda3-5.0.1-el7-x86_64/envs/DL_GPU_cuda_9.0/lib/python3.6/site-packages/tornado/platform/asyncio.py\", line 112, in start\n    self.asyncio_loop.run_forever()\n  File \"/software/Anaconda3-5.0.1-el7-x86_64/envs/DL_GPU_cuda_9.0/lib/python3.6/asyncio/base_events.py\", line 422, in run_forever\n    self._run_once()\n  File \"/software/Anaconda3-5.0.1-el7-x86_64/envs/DL_GPU_cuda_9.0/lib/python3.6/asyncio/base_events.py\", line 1432, in _run_once\n    handle._run()\n  File \"/software/Anaconda3-5.0.1-el7-x86_64/envs/DL_GPU_cuda_9.0/lib/python3.6/asyncio/events.py\", line 145, in _run\n    self._callback(*self._args)\n  File \"/software/Anaconda3-5.0.1-el7-x86_64/envs/DL_GPU_cuda_9.0/lib/python3.6/site-packages/tornado/platform/asyncio.py\", line 102, in _handle_events\n    handler_func(fileobj, events)\n  File \"/software/Anaconda3-5.0.1-el7-x86_64/envs/DL_GPU_cuda_9.0/lib/python3.6/site-packages/tornado/stack_context.py\", line 276, in null_wrapper\n    return fn(*args, **kwargs)\n  File \"/software/Anaconda3-5.0.1-el7-x86_64/envs/DL_GPU_cuda_9.0/lib/python3.6/site-packages/zmq/eventloop/zmqstream.py\", line 450, in _handle_events\n    self._handle_recv()\n  File \"/software/Anaconda3-5.0.1-el7-x86_64/envs/DL_GPU_cuda_9.0/lib/python3.6/site-packages/zmq/eventloop/zmqstream.py\", line 480, in _handle_recv\n    self._run_callback(callback, msg)\n  File \"/software/Anaconda3-5.0.1-el7-x86_64/envs/DL_GPU_cuda_9.0/lib/python3.6/site-packages/zmq/eventloop/zmqstream.py\", line 432, in _run_callback\n    callback(*args, **kwargs)\n  File \"/software/Anaconda3-5.0.1-el7-x86_64/envs/DL_GPU_cuda_9.0/lib/python3.6/site-packages/tornado/stack_context.py\", line 276, in null_wrapper\n    return fn(*args, **kwargs)\n  File \"/software/Anaconda3-5.0.1-el7-x86_64/envs/DL_GPU_cuda_9.0/lib/python3.6/site-packages/ipykernel/kernelbase.py\", line 283, in dispatcher\n    return self.dispatch_shell(stream, msg)\n  File \"/software/Anaconda3-5.0.1-el7-x86_64/envs/DL_GPU_cuda_9.0/lib/python3.6/site-packages/ipykernel/kernelbase.py\", line 233, in dispatch_shell\n    handler(stream, idents, msg)\n  File \"/software/Anaconda3-5.0.1-el7-x86_64/envs/DL_GPU_cuda_9.0/lib/python3.6/site-packages/ipykernel/kernelbase.py\", line 399, in execute_request\n    user_expressions, allow_stdin)\n  File \"/software/Anaconda3-5.0.1-el7-x86_64/envs/DL_GPU_cuda_9.0/lib/python3.6/site-packages/ipykernel/ipkernel.py\", line 208, in do_execute\n    res = shell.run_cell(code, store_history=store_history, silent=silent)\n  File \"/software/Anaconda3-5.0.1-el7-x86_64/envs/DL_GPU_cuda_9.0/lib/python3.6/site-packages/ipykernel/zmqshell.py\", line 537, in run_cell\n    return super(ZMQInteractiveShell, self).run_cell(*args, **kwargs)\n  File \"/software/Anaconda3-5.0.1-el7-x86_64/envs/DL_GPU_cuda_9.0/lib/python3.6/site-packages/IPython/core/interactiveshell.py\", line 2662, in run_cell\n    raw_cell, store_history, silent, shell_futures)\n  File \"/software/Anaconda3-5.0.1-el7-x86_64/envs/DL_GPU_cuda_9.0/lib/python3.6/site-packages/IPython/core/interactiveshell.py\", line 2785, in _run_cell\n    interactivity=interactivity, compiler=compiler, result=result)\n  File \"/software/Anaconda3-5.0.1-el7-x86_64/envs/DL_GPU_cuda_9.0/lib/python3.6/site-packages/IPython/core/interactiveshell.py\", line 2909, in run_ast_nodes\n    if self.run_code(code, result):\n  File \"/software/Anaconda3-5.0.1-el7-x86_64/envs/DL_GPU_cuda_9.0/lib/python3.6/site-packages/IPython/core/interactiveshell.py\", line 2963, in run_code\n    exec(code_obj, self.user_global_ns, self.user_ns)\n  File \"<ipython-input-121-d0705f03a1e4>\", line 1, in <module>\n    Synthesize(MyBasicLSTMCell_cp_gates,\"Farewell.\")\n  File \"<ipython-input-89-b0d74a6c587c>\", line 10, in Synthesize\n    init_state, train_step, loss, final_state, saver, prob=network(MyCell,inputs,targets)\n  File \"<ipython-input-106-5c9645b17b99>\", line 43, in network\n    saver = tf.train.Saver()\n  File \"/software/Anaconda3-5.0.1-el7-x86_64/envs/DL_GPU_cuda_9.0/lib/python3.6/site-packages/tensorflow/python/training/saver.py\", line 1338, in __init__\n    self.build()\n  File \"/software/Anaconda3-5.0.1-el7-x86_64/envs/DL_GPU_cuda_9.0/lib/python3.6/site-packages/tensorflow/python/training/saver.py\", line 1347, in build\n    self._build(self._filename, build_save=True, build_restore=True)\n  File \"/software/Anaconda3-5.0.1-el7-x86_64/envs/DL_GPU_cuda_9.0/lib/python3.6/site-packages/tensorflow/python/training/saver.py\", line 1384, in _build\n    build_save=build_save, build_restore=build_restore)\n  File \"/software/Anaconda3-5.0.1-el7-x86_64/envs/DL_GPU_cuda_9.0/lib/python3.6/site-packages/tensorflow/python/training/saver.py\", line 835, in _build_internal\n    restore_sequentially, reshape)\n  File \"/software/Anaconda3-5.0.1-el7-x86_64/envs/DL_GPU_cuda_9.0/lib/python3.6/site-packages/tensorflow/python/training/saver.py\", line 472, in _AddRestoreOps\n    restore_sequentially)\n  File \"/software/Anaconda3-5.0.1-el7-x86_64/envs/DL_GPU_cuda_9.0/lib/python3.6/site-packages/tensorflow/python/training/saver.py\", line 886, in bulk_restore\n    return io_ops.restore_v2(filename_tensor, names, slices, dtypes)\n  File \"/software/Anaconda3-5.0.1-el7-x86_64/envs/DL_GPU_cuda_9.0/lib/python3.6/site-packages/tensorflow/python/ops/gen_io_ops.py\", line 1463, in restore_v2\n    shape_and_slices=shape_and_slices, dtypes=dtypes, name=name)\n  File \"/software/Anaconda3-5.0.1-el7-x86_64/envs/DL_GPU_cuda_9.0/lib/python3.6/site-packages/tensorflow/python/framework/op_def_library.py\", line 787, in _apply_op_helper\n    op_def=op_def)\n  File \"/software/Anaconda3-5.0.1-el7-x86_64/envs/DL_GPU_cuda_9.0/lib/python3.6/site-packages/tensorflow/python/framework/ops.py\", line 3392, in create_op\n    op_def=op_def)\n  File \"/software/Anaconda3-5.0.1-el7-x86_64/envs/DL_GPU_cuda_9.0/lib/python3.6/site-packages/tensorflow/python/framework/ops.py\", line 1718, in __init__\n    self._traceback = self._graph._extract_stack()  # pylint: disable=protected-access\n\nNotFoundError (see above for traceback): Key LSTMCell/my_basic_lstm_cell_cp_gates/bias not found in checkpoint\n\t [[Node: saver/save/RestoreV2 = RestoreV2[dtypes=[DT_FLOAT, DT_FLOAT, DT_FLOAT, DT_FLOAT, DT_FLOAT, ..., DT_FLOAT, DT_FLOAT, DT_FLOAT, DT_FLOAT, DT_FLOAT], _device=\"/job:localhost/replica:0/task:0/device:CPU:0\"](_arg_saver/save/Const_0_0, saver/save/RestoreV2/tensor_names, saver/save/RestoreV2/shape_and_slices)]]\n"
     ]
    }
   ],
   "source": [
    "Synthesize(MyBasicLSTMCell_cp_gates,\"Farewell.\")"
   ]
  },
  {
   "cell_type": "markdown",
   "metadata": {},
   "source": [
    "## Analysis 4\n",
    "Gers_Schmidhuber_variant: Similar to GS,<br>\n",
    "except that I use the old cell state in the output generation."
   ]
  },
  {
   "cell_type": "code",
   "execution_count": 15,
   "metadata": {},
   "outputs": [
    {
     "name": "stdout",
     "output_type": "stream",
     "text": [
      "train_num_batches 185\n",
      "epoch: 0 loss: 3.363343974706289\n",
      "epoch: 1 loss: 3.3163019927772317\n",
      "epoch: 2 loss: 3.315732444299234\n",
      "epoch: 3 loss: 3.3158376861262964\n",
      "epoch: 4 loss: 3.3160069298099826\n",
      "epoch: 5 loss: 3.3159387756038354\n",
      "epoch: 6 loss: 3.315959697156339\n",
      "epoch: 7 loss: 3.3155026384302086\n",
      "epoch: 8 loss: 3.3154809255857725\n",
      "epoch: 9 loss: 3.315448213267971\n",
      "epoch: 10 loss: 3.3159282555451264\n",
      "epoch: 11 loss: 3.3196518395398114\n",
      "epoch: 12 loss: 3.3397991554157156\n",
      "epoch: 13 loss: 3.3248990097561397\n",
      "epoch: 14 loss: 3.318152376123377\n",
      "epoch: 15 loss: 3.315842967420011\n",
      "epoch: 16 loss: 3.31541095166593\n",
      "epoch: 17 loss: 3.31460062748677\n",
      "epoch: 18 loss: 3.3142789531398464\n",
      "epoch: 19 loss: 3.314352188883601\n",
      "epoch: 20 loss: 3.3144172720006995\n",
      "epoch: 21 loss: 3.3146032178724134\n",
      "epoch: 22 loss: 3.3137088608097387\n",
      "epoch: 23 loss: 3.314081706227483\n",
      "epoch: 24 loss: 3.313422527828732\n",
      "epoch: 25 loss: 3.3145206064791295\n",
      "epoch: 26 loss: 3.3148009003819645\n",
      "epoch: 27 loss: 3.315016305768812\n",
      "epoch: 28 loss: 3.3144130487699766\n",
      "epoch: 29 loss: 3.3142786528613115\n",
      "00 hours 05 minutes 14.57 seconds\n"
     ]
    }
   ],
   "source": [
    "re_lstm_gsv = trainer(MyBasicLSTMCell_GS_var)"
   ]
  },
  {
   "cell_type": "code",
   "execution_count": 16,
   "metadata": {},
   "outputs": [
    {
     "data": {
      "image/png": "[encoded data removed]",
      "text/plain": [
       "<Figure size 432x288 with 1 Axes>"
      ]
     },
     "metadata": {},
     "output_type": "display_data"
    }
   ],
   "source": [
    "epcs = [i for i in range(len(re_lstm_gsv))]\n",
    "plt.plot(epcs,re_lstm_gsv)\n",
    "plt.title(\"loss for training data\")\n",
    "plt.show()\n"
   ]
  },
  {
   "cell_type": "code",
   "execution_count": 22,
   "metadata": {},
   "outputs": [
    {
     "name": "stdout",
     "output_type": "stream",
     "text": [
      "there are preprocessed data - lets load it\n",
      "[49  4  7  1 17  1 11 11 25]\n",
      "INFO:tensorflow:Restoring parameters from saved_model\n",
      "Farewell. h s neenonnoa e th eah  oe aoaa ooe ho a h  eoa eeaeh e  aaeooo   \n",
      "o  ttt t   \n",
      "\n",
      " o o  o ee ttto e e\n"
     ]
    }
   ],
   "source": [
    "Synthesize(MyBasicLSTMCell_GS_var,\"Farewell.\")"
   ]
  },
  {
   "cell_type": "markdown",
   "metadata": {},
   "source": [
    "## Alternative 5: LSTM without outgating\n"
   ]
  },
  {
   "cell_type": "code",
   "execution_count": 55,
   "metadata": {},
   "outputs": [
    {
     "name": "stdout",
     "output_type": "stream",
     "text": [
      "train_num_batches 185\n",
      "epoch: 0 loss: 2.511373808577254\n",
      "epoch: 1 loss: 1.9185032599681133\n",
      "epoch: 2 loss: 1.7227911723626625\n",
      "epoch: 3 loss: 1.6110828824945398\n",
      "epoch: 4 loss: 1.5375597599390392\n",
      "epoch: 5 loss: 1.4864330994116293\n",
      "epoch: 6 loss: 1.4469531703639675\n",
      "epoch: 7 loss: 1.4160834976144738\n",
      "epoch: 8 loss: 1.3893059021717793\n",
      "epoch: 9 loss: 1.3695026958310925\n",
      "epoch: 10 loss: 1.3505120850898125\n",
      "epoch: 11 loss: 1.3340654959549776\n",
      "epoch: 12 loss: 1.3195242978431083\n",
      "epoch: 13 loss: 1.3065423308192072\n",
      "epoch: 14 loss: 1.29625913774645\n",
      "epoch: 15 loss: 1.2858429019515578\n",
      "epoch: 16 loss: 1.276657953133454\n",
      "epoch: 17 loss: 1.2668228284732717\n",
      "epoch: 18 loss: 1.2582147250304352\n",
      "epoch: 19 loss: 1.2505114291165327\n",
      "epoch: 20 loss: 1.2436416903057614\n",
      "epoch: 21 loss: 1.2398329921670863\n",
      "epoch: 22 loss: 1.2333261399655728\n",
      "epoch: 23 loss: 1.2277124843081912\n",
      "epoch: 24 loss: 1.2235617051253447\n",
      "epoch: 25 loss: 1.2173865015442307\n",
      "epoch: 26 loss: 1.2146573292242515\n",
      "epoch: 27 loss: 1.2127425967036067\n",
      "epoch: 28 loss: 1.2120825535542257\n",
      "epoch: 29 loss: 1.2087407286102707\n",
      "00 hours 04 minutes 26.11 seconds\n"
     ]
    }
   ],
   "source": [
    "re_lstm_wo_outgate = trainer(MyBasicLSTMCell_without_outputgat)"
   ]
  },
  {
   "cell_type": "code",
   "execution_count": 57,
   "metadata": {},
   "outputs": [
    {
     "data": {
      "image/png": "[encoded data removed]",
      "text/plain": [
       "<Figure size 432x288 with 1 Axes>"
      ]
     },
     "metadata": {},
     "output_type": "display_data"
    }
   ],
   "source": [
    "epcs = [i for i in range(len(re_lstm_wo_outgate))]\n",
    "plt.plot(epcs,re_lstm_wo_outgate)\n",
    "plt.title(\"loss for training data\")\n",
    "plt.show()\n"
   ]
  },
  {
   "cell_type": "code",
   "execution_count": 58,
   "metadata": {},
   "outputs": [
    {
     "name": "stdout",
     "output_type": "stream",
     "text": [
      "there are preprocessed data - lets load it\n",
      "[49  4  7  1 17  1 11 11 25]\n",
      "INFO:tensorflow:Restoring parameters from saved_model\n",
      "Farewell.\n",
      "\n",
      "ANTIGO:\n",
      "He's not to the matter, too much brave her tempore of criest;\n",
      "Frow,--\n",
      "\n",
      "DUENGEY:\n",
      "'That's a \n"
     ]
    }
   ],
   "source": [
    "Synthesize(MyBasicLSTMCell_without_outputgat,\"Farewell.\")"
   ]
  },
  {
   "cell_type": "code",
   "execution_count": 59,
   "metadata": {},
   "outputs": [
    {
     "name": "stdout",
     "output_type": "stream",
     "text": [
      "there are preprocessed data - lets load it\n",
      "[39  5  1  7  1  0  4  7  1  0 15  3 13  0 20  3  9  8 20  0  2  3 12  4\n",
      " 15 44]\n",
      "INFO:tensorflow:Restoring parameters from saved_model\n",
      "num_batches 47\n",
      "test loss: 1.4064168448143817\n"
     ]
    },
    {
     "data": {
      "text/plain": [
       "1.4064168448143817"
      ]
     },
     "execution_count": 59,
     "metadata": {},
     "output_type": "execute_result"
    }
   ],
   "source": [
    "Tester(MyBasicLSTMCell_without_outputgat)"
   ]
  },
  {
   "cell_type": "markdown",
   "metadata": {},
   "source": [
    "## Alternative 6: LSTM_GRU"
   ]
  },
  {
   "cell_type": "code",
   "execution_count": 62,
   "metadata": {},
   "outputs": [
    {
     "name": "stdout",
     "output_type": "stream",
     "text": [
      "train_num_batches 185\n",
      "epoch: 0 loss: 2.3532909090454512\n",
      "epoch: 1 loss: 1.7603168223355268\n",
      "epoch: 2 loss: 1.5794842720031739\n",
      "epoch: 3 loss: 1.4894758263149777\n",
      "epoch: 4 loss: 1.4323072755658948\n",
      "epoch: 5 loss: 1.3915394783020019\n",
      "epoch: 6 loss: 1.3605290226034217\n",
      "epoch: 7 loss: 1.3356301275459497\n",
      "epoch: 8 loss: 1.3147145599932284\n",
      "epoch: 9 loss: 1.2973495399629749\n",
      "epoch: 10 loss: 1.2832167554546048\n",
      "epoch: 11 loss: 1.2683722818219985\n",
      "epoch: 12 loss: 1.255678846385028\n",
      "epoch: 13 loss: 1.2444079263790233\n",
      "epoch: 14 loss: 1.2350240410985174\n",
      "epoch: 15 loss: 1.2270012365805136\n",
      "epoch: 16 loss: 1.2179086665849428\n",
      "epoch: 17 loss: 1.209876968409564\n",
      "epoch: 18 loss: 1.2036613174386928\n",
      "epoch: 19 loss: 1.1979983935485015\n",
      "epoch: 20 loss: 1.1939614540821797\n",
      "epoch: 21 loss: 1.1928269863128662\n",
      "epoch: 22 loss: 1.191805209340276\n",
      "epoch: 23 loss: 1.1874607820768615\n",
      "epoch: 24 loss: 1.1849958574449695\n",
      "epoch: 25 loss: 1.1824677364246265\n",
      "epoch: 26 loss: 1.179753786164361\n",
      "epoch: 27 loss: 1.1775933813404393\n",
      "epoch: 28 loss: 1.1768801128542101\n",
      "epoch: 29 loss: 1.1743888623005636\n",
      "00 hours 04 minutes 51.70 seconds\n"
     ]
    }
   ],
   "source": [
    "re_lstm_gru = trainer(MyBasicLSTMCell_GRU)"
   ]
  },
  {
   "cell_type": "code",
   "execution_count": 63,
   "metadata": {},
   "outputs": [
    {
     "data": {
      "image/png": "[encoded data removed]",
      "text/plain": [
       "<Figure size 432x288 with 1 Axes>"
      ]
     },
     "metadata": {},
     "output_type": "display_data"
    }
   ],
   "source": [
    "epcs = [i for i in range(len(re_lstm_gru))]\n",
    "plt.plot(epcs,re_lstm_gru)\n",
    "plt.title(\"loss for training data\")\n",
    "plt.show()\n"
   ]
  },
  {
   "cell_type": "code",
   "execution_count": 64,
   "metadata": {},
   "outputs": [
    {
     "name": "stdout",
     "output_type": "stream",
     "text": [
      "there are preprocessed data - lets load it\n",
      "[39  5  1  7  1  0  4  7  1  0 15  3 13  0 20  3  9  8 20  0  2  3 12  4\n",
      " 15 44]\n",
      "INFO:tensorflow:Restoring parameters from saved_model\n",
      "num_batches 47\n",
      "test loss: 1.4556386293248926\n"
     ]
    },
    {
     "data": {
      "text/plain": [
       "1.4556386293248926"
      ]
     },
     "execution_count": 64,
     "metadata": {},
     "output_type": "execute_result"
    }
   ],
   "source": [
    "Tester(MyBasicLSTMCell_GRU)"
   ]
  },
  {
   "cell_type": "code",
   "execution_count": null,
   "metadata": {},
   "outputs": [],
   "source": [
    "## seem to be overfitting"
   ]
  },
  {
   "cell_type": "code",
   "execution_count": 69,
   "metadata": {},
   "outputs": [
    {
     "name": "stdout",
     "output_type": "stream",
     "text": [
      "train_num_batches 185\n",
      "epoch: 0 loss: 2.772908304833077\n",
      "epoch: 1 loss: 2.484741784430839\n",
      "epoch: 2 loss: 2.4722106650068953\n",
      "epoch: 3 loss: 2.4704143343745053\n",
      "epoch: 4 loss: 2.468414695842846\n",
      "epoch: 5 loss: 2.466290939176405\n",
      "epoch: 6 loss: 2.4652486362972774\n",
      "epoch: 7 loss: 2.4660537784164016\n",
      "epoch: 8 loss: 2.4636327202255663\n",
      "epoch: 9 loss: 2.4623569436975425\n",
      "epoch: 10 loss: 2.462588102753098\n",
      "epoch: 11 loss: 2.4651515161668933\n",
      "epoch: 12 loss: 2.463069286861935\n",
      "epoch: 13 loss: 2.4629000174032676\n",
      "epoch: 14 loss: 2.461966625419823\n",
      "epoch: 15 loss: 2.4614935063027046\n",
      "epoch: 16 loss: 2.4591001691044987\n",
      "epoch: 17 loss: 2.4596380581726898\n",
      "epoch: 18 loss: 2.458849503542926\n",
      "epoch: 19 loss: 2.458760133949486\n",
      "epoch: 20 loss: 2.458425145535856\n",
      "epoch: 21 loss: 2.460179867615571\n",
      "epoch: 22 loss: 2.459446769147306\n",
      "epoch: 23 loss: 2.456298485317746\n",
      "epoch: 24 loss: 2.4558610929025186\n",
      "epoch: 25 loss: 2.4564284427745924\n",
      "epoch: 26 loss: 2.4570985665192477\n",
      "epoch: 27 loss: 2.4574203980935585\n",
      "epoch: 28 loss: 2.454690154823097\n",
      "epoch: 29 loss: 2.451968516530217\n",
      "00 hours 06 minutes 29.63 seconds\n"
     ]
    }
   ],
   "source": [
    "re_lstm_gs = trainer(MyBasicLSTMCell_GS)"
   ]
  },
  {
   "cell_type": "code",
   "execution_count": 71,
   "metadata": {},
   "outputs": [
    {
     "data": {
      "image/png": "[encoded data removed]",
      "text/plain": [
       "<Figure size 432x288 with 1 Axes>"
      ]
     },
     "metadata": {},
     "output_type": "display_data"
    }
   ],
   "source": [
    "epcs = [i for i in range(len(re_lstm_gs))]\n",
    "plt.plot(epcs,re_lstm_gs)\n",
    "plt.title(\"loss for training data\")\n",
    "plt.show()\n"
   ]
  },
  {
   "cell_type": "code",
   "execution_count": 72,
   "metadata": {},
   "outputs": [
    {
     "name": "stdout",
     "output_type": "stream",
     "text": [
      "there are preprocessed data - lets load it\n",
      "[39  5  1  7  1  0  4  7  1  0 15  3 13  0 20  3  9  8 20  0  2  3 12  4\n",
      " 15 44]\n",
      "INFO:tensorflow:Restoring parameters from saved_model\n",
      "num_batches 47\n",
      "test loss: 2.4673286955407323\n"
     ]
    },
    {
     "data": {
      "text/plain": [
       "2.4673286955407323"
      ]
     },
     "execution_count": 72,
     "metadata": {},
     "output_type": "execute_result"
    }
   ],
   "source": [
    "Tester(MyBasicLSTMCell_GS)"
   ]
  },
  {
   "cell_type": "code",
   "execution_count": 73,
   "metadata": {},
   "outputs": [
    {
     "name": "stdout",
     "output_type": "stream",
     "text": [
      "there are preprocessed data - lets load it\n",
      "[49  4  7  1 17  1 11 11 25]\n",
      "INFO:tensorflow:Restoring parameters from saved_model\n",
      "Farewell.\n",
      "They shat whe berded mat pay pratrs tores serthillllllles tithedere teral hond ho averoustorarourer\n"
     ]
    }
   ],
   "source": [
    "Synthesize(MyBasicLSTMCell_GS,\"Farewell.\")"
   ]
  },
  {
   "cell_type": "code",
   "execution_count": null,
   "metadata": {},
   "outputs": [],
   "source": []
  }
 ],
 "metadata": {
  "kernelspec": {
   "display_name": "Python [conda env:DL_GPU_cuda_9.0]",
   "language": "python",
   "name": "conda-env-DL_GPU_cuda_9.0-py"
  },
  "language_info": {
   "codemirror_mode": {
    "name": "ipython",
    "version": 3
   },
   "file_extension": ".py",
   "mimetype": "text/x-python",
   "name": "python",
   "nbconvert_exporter": "python",
   "pygments_lexer": "ipython3",
   "version": "3.6.5"
  }
 },
 "nbformat": 4,
 "nbformat_minor": 2
}
